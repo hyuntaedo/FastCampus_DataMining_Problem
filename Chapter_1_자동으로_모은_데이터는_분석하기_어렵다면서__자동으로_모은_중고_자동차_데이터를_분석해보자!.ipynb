{
  "nbformat": 4,
  "nbformat_minor": 0,
  "metadata": {
    "kernelspec": {
      "display_name": "Python 3",
      "language": "python",
      "name": "python3"
    },
    "language_info": {
      "codemirror_mode": {
        "name": "ipython",
        "version": 3
      },
      "file_extension": ".py",
      "mimetype": "text/x-python",
      "name": "python",
      "nbconvert_exporter": "python",
      "pygments_lexer": "ipython3",
      "version": "3.7.7"
    },
    "colab": {
      "name": "Chapter 1-자동으로 모은 데이터는 분석하기 어렵다면서_ 자동으로 모은 중고 자동차 데이터를 분석해보자!.ipynb",
      "provenance": [],
      "collapsed_sections": [],
      "include_colab_link": true
    },
    "accelerator": "GPU"
  },
  "cells": [
    {
      "cell_type": "markdown",
      "metadata": {
        "id": "view-in-github",
        "colab_type": "text"
      },
      "source": [
        "<a href=\"https://colab.research.google.com/github/hyuntaedo/FastCampus_DataMining_Problem/blob/main/Chapter_1_%EC%9E%90%EB%8F%99%EC%9C%BC%EB%A1%9C_%EB%AA%A8%EC%9D%80_%EB%8D%B0%EC%9D%B4%ED%84%B0%EB%8A%94_%EB%B6%84%EC%84%9D%ED%95%98%EA%B8%B0_%EC%96%B4%EB%A0%B5%EB%8B%A4%EB%A9%B4%EC%84%9C__%EC%9E%90%EB%8F%99%EC%9C%BC%EB%A1%9C_%EB%AA%A8%EC%9D%80_%EC%A4%91%EA%B3%A0_%EC%9E%90%EB%8F%99%EC%B0%A8_%EB%8D%B0%EC%9D%B4%ED%84%B0%EB%A5%BC_%EB%B6%84%EC%84%9D%ED%95%B4%EB%B3%B4%EC%9E%90!.ipynb\" target=\"_parent\"><img src=\"https://colab.research.google.com/assets/colab-badge.svg\" alt=\"Open In Colab\"/></a>"
      ]
    },
    {
      "cell_type": "markdown",
      "metadata": {
        "id": "NqqLNJZjfi8U"
      },
      "source": [
        "# 주제 : 자동으로 모은 데이터는 분석하기 어렵다면서? 자동으로 모은 중고 자동차 데이터를 분석해보자!\n",
        "----------\n",
        "\n",
        "## 실습 가이드\n",
        "    1. 데이터를 다운로드하여 Colab에 불러옵니다.\n",
        "    2. 필요한 라이브러리는 모두 코드로 작성되어 있습니다.\n",
        "    3. 코드는 위에서부터 아래로 순서대로 실행합니다.\n",
        "    \n",
        "    \n",
        "## 데이터 소개\n",
        "    - 이번 주제는 Used Cars Dataset을 사용합니다.\n",
        "    - 파일은 한 개이며, 각각의 컬럼은 아래와 같습니다.\n",
        "    \n",
        "    - vehicles.csv\n",
        "    id : 중고차 거래의 아이디\n",
        "    url : 중고차 거래 페이지\n",
        "    region : 해당 거래의 관리 지점\n",
        "    region_url : 거래 관리 지점의 홈페이지\n",
        "    price : 기입된 자동차의 거래가\n",
        "    year : 거래가 기입된 년도\n",
        "    manufacturer : 자동차를 생산한 회사\n",
        "    model : 자동차 모델명\n",
        "    condition : 자동차의 상태\n",
        "    cylinders : 자동차의 기통 수\n",
        "    fuel : 자동차의 연료 타입\n",
        "    odometer : 자동차의 운행 마일 수\n",
        "    title_status : 자동차의 타이틀 상태 (소유주 등록 상태)\n",
        "    transmission : 자동차의 트랜스미션 종류\n",
        "    vin : 자동차의 식별 번호 (vehicle identification number)\n",
        "    drive : 자동차의 구동 타입\n",
        "    size : 자동차 크기\n",
        "    type : 자동차의 일반 타입 (세단, ...)\n",
        "    paint_color : 자동차 색상\n",
        "    image_url : 자동차 이미지\n",
        "    description : 세부 설명\n",
        "    county : 실수로 생성된 미사용 컬럼\n",
        "    state : 거래가 업로드된 미 주\n",
        "    lat : 거래가 업로드된 곳의 위도\n",
        "    long : 거래가 업로드된 곳의 경도\n",
        "    \n",
        "    \n",
        "- 데이터 출처: https://www.kaggle.com/austinreese/craigslist-carstrucks-data\n",
        "\n",
        "## 최종 목표\n",
        "    - 스크래핑된 dirty 데이터 클리닝 방법 이해\n",
        "    - 다양한 종류의 데이터 정규화 방법 습득\n",
        "    - 데이터 시각화를 통한 인사이트 습득 방법의 이해\n",
        "    - Scikit-learn 기반의 모델 학습 방법 습득\n",
        "    - XGBoost, LightGBM 기반의 모델 학습 방법 습득\n",
        "    - 학습된 모델의 평가 방법 및 시각화 방법 습득\n",
        "\n",
        "- 출제자 : 신제용 강사\n",
        "---"
      ]
    },
    {
      "cell_type": "markdown",
      "metadata": {
        "id": "ODJVmYvIP3x-"
      },
      "source": [
        "## Step 0. 데이터 스크래핑이 대하여\n",
        " - 데이터를 자동으로 긁어오는것을 말함(긁어서 모아오는것)\n",
        " - 기존에는 단말(embeded machine)에서 동작을 할 때 동작하면서 데이터들이 발생(주식->주식관련된 정보)하는 것을 가져 오는것\n",
        " - 데이터가 항상 변해서 예측을 하기 힘들다, 고정적으로 지정을 못함 그러하여 오류를 가지고 있을 확률이 높다.\n",
        " - 아웃라이어가 그래서 많이 존재한다.\n",
        "   - 빈 데이터가 많음\n",
        "   - 형식이 틀린 경우도 많음\n",
        "     - 문자열 - 앞 뒤에 공백이 들어가는 경우가 많음\n",
        "     - HTML 태그가 같이 포함되는 경우가 많음\n",
        "     - 문자열 인코딩에 의해서 깨진 문자열(문자)가 가지고 있는 경우가 많음\n",
        "     - 숫자의 경우, 최대값이나, 최소값으로 잘 못 기입되는 경우가 많음\n",
        "     - 숫자인데, 숫자대신 문자열로 들어가는 경우도 많음"
      ]
    },
    {
      "cell_type": "markdown",
      "metadata": {
        "id": "c0iKTnLNsraM"
      },
      "source": [
        "### 스크래핑을 이용한 자동 데이터 습득"
      ]
    },
    {
      "cell_type": "markdown",
      "metadata": {
        "id": "cxZwPnfms0-9"
      },
      "source": [
        "### 스크래핑된 데이터에서 아웃라이어의 특징\n"
      ]
    },
    {
      "cell_type": "markdown",
      "metadata": {
        "id": "IRssoNrgP7So"
      },
      "source": [
        "## Step 1. 데이터셋 준비하기"
      ]
    },
    {
      "cell_type": "code",
      "metadata": {
        "id": "g49RuFGrBvt7"
      },
      "source": [
        "import pandas as pd\n",
        "import numpy as np\n",
        "import matplotlib.pyplot as plt\n",
        "import seaborn as sns"
      ],
      "execution_count": 1,
      "outputs": []
    },
    {
      "cell_type": "markdown",
      "metadata": {
        "id": "paInbv8Ys-Qy"
      },
      "source": [
        "### 문제 1. Colab Notebook에 Kaggle API 세팅하기\n"
      ]
    },
    {
      "cell_type": "code",
      "metadata": {
        "id": "RRXGYV60B7FX"
      },
      "source": [
        "import os"
      ],
      "execution_count": 2,
      "outputs": []
    },
    {
      "cell_type": "code",
      "metadata": {
        "id": "mMKFOC0OBtHO"
      },
      "source": [
        "# os.environ을 이용하여 Kaggle API Username, Key 세팅하기\n",
        "os.environ['KAGGLE_USERNAME'] = 'kumahappy'\n",
        "os.environ['KAGGLE_KEY'] = 'a6676c86b1e77caa856b2938ee49e939'"
      ],
      "execution_count": 3,
      "outputs": []
    },
    {
      "cell_type": "markdown",
      "metadata": {
        "id": "zvbeoB_WtBi-"
      },
      "source": [
        "### 문제 2. 데이터 다운로드 및 압축 해제하기\n"
      ]
    },
    {
      "cell_type": "code",
      "metadata": {
        "id": "JSblp2NsCGbh",
        "colab": {
          "base_uri": "https://localhost:8080/"
        },
        "outputId": "487982c1-8b7f-452b-cc26-56152cffa5f4"
      },
      "source": [
        "# Linux 명령어로 Kaggle API를 이용하여 데이터셋 다운로드하기 (!kaggle ~)\n",
        "# Linux 명령어로 압축 해제하기\n",
        "!rm *.*\n",
        "!kaggle datasets download -d austinreese/craigslist-carstrucks-data"
      ],
      "execution_count": 4,
      "outputs": [
        {
          "output_type": "stream",
          "text": [
            "Downloading craigslist-carstrucks-data.zip to /content\n",
            " 96% 253M/262M [00:01<00:00, 209MB/s]\n",
            "100% 262M/262M [00:01<00:00, 192MB/s]\n"
          ],
          "name": "stdout"
        }
      ]
    },
    {
      "cell_type": "code",
      "metadata": {
        "colab": {
          "base_uri": "https://localhost:8080/"
        },
        "id": "Es5-_wBzLDg5",
        "outputId": "9ff569f9-8663-4853-f297-2adc08b80c3f"
      },
      "source": [
        "!unzip '*.zip'"
      ],
      "execution_count": 5,
      "outputs": [
        {
          "output_type": "stream",
          "text": [
            "Archive:  craigslist-carstrucks-data.zip\n",
            "  inflating: vehicles.csv            \n"
          ],
          "name": "stdout"
        }
      ]
    },
    {
      "cell_type": "markdown",
      "metadata": {
        "id": "aJ34SovLtFI8"
      },
      "source": [
        "### 문제 3. Pandas 라이브러리로 csv파일 읽어들이기\n"
      ]
    },
    {
      "cell_type": "code",
      "metadata": {
        "id": "RnJv-4YwCMSx"
      },
      "source": [
        "df = pd.read_csv('/content/vehicles.csv')"
      ],
      "execution_count": 6,
      "outputs": []
    },
    {
      "cell_type": "markdown",
      "metadata": {
        "id": "9L3BNVM7tHN5"
      },
      "source": [
        "## Step 2. EDA 및 데이터 기초 통계 분석\n"
      ]
    },
    {
      "cell_type": "markdown",
      "metadata": {
        "id": "HyFm33tNtVn7"
      },
      "source": [
        "### 문제 4. 불필요한 데이터 데이터프레임에서 제거하기\n"
      ]
    },
    {
      "cell_type": "code",
      "metadata": {
        "id": "YcR9BX23DIFW",
        "colab": {
          "base_uri": "https://localhost:8080/",
          "height": 728
        },
        "outputId": "e6677d55-8f9d-44c1-f030-ee94bc85ee3d"
      },
      "source": [
        "# DataFrame에서 제공하는 메소드를 이용하여 각 데이터프레임의 구조 분석하기 (head(), info(), describe())\n",
        "# 데이터프레임에서 불필요한 컬럼 제거하기\n",
        "df"
      ],
      "execution_count": 7,
      "outputs": [
        {
          "output_type": "execute_result",
          "data": {
            "text/html": [
              "<div>\n",
              "<style scoped>\n",
              "    .dataframe tbody tr th:only-of-type {\n",
              "        vertical-align: middle;\n",
              "    }\n",
              "\n",
              "    .dataframe tbody tr th {\n",
              "        vertical-align: top;\n",
              "    }\n",
              "\n",
              "    .dataframe thead th {\n",
              "        text-align: right;\n",
              "    }\n",
              "</style>\n",
              "<table border=\"1\" class=\"dataframe\">\n",
              "  <thead>\n",
              "    <tr style=\"text-align: right;\">\n",
              "      <th></th>\n",
              "      <th>id</th>\n",
              "      <th>url</th>\n",
              "      <th>region</th>\n",
              "      <th>region_url</th>\n",
              "      <th>price</th>\n",
              "      <th>year</th>\n",
              "      <th>manufacturer</th>\n",
              "      <th>model</th>\n",
              "      <th>condition</th>\n",
              "      <th>cylinders</th>\n",
              "      <th>fuel</th>\n",
              "      <th>odometer</th>\n",
              "      <th>title_status</th>\n",
              "      <th>transmission</th>\n",
              "      <th>VIN</th>\n",
              "      <th>drive</th>\n",
              "      <th>size</th>\n",
              "      <th>type</th>\n",
              "      <th>paint_color</th>\n",
              "      <th>image_url</th>\n",
              "      <th>description</th>\n",
              "      <th>county</th>\n",
              "      <th>state</th>\n",
              "      <th>lat</th>\n",
              "      <th>long</th>\n",
              "      <th>posting_date</th>\n",
              "    </tr>\n",
              "  </thead>\n",
              "  <tbody>\n",
              "    <tr>\n",
              "      <th>0</th>\n",
              "      <td>7222695916</td>\n",
              "      <td>https://prescott.craigslist.org/cto/d/prescott...</td>\n",
              "      <td>prescott</td>\n",
              "      <td>https://prescott.craigslist.org</td>\n",
              "      <td>6000</td>\n",
              "      <td>NaN</td>\n",
              "      <td>NaN</td>\n",
              "      <td>NaN</td>\n",
              "      <td>NaN</td>\n",
              "      <td>NaN</td>\n",
              "      <td>NaN</td>\n",
              "      <td>NaN</td>\n",
              "      <td>NaN</td>\n",
              "      <td>NaN</td>\n",
              "      <td>NaN</td>\n",
              "      <td>NaN</td>\n",
              "      <td>NaN</td>\n",
              "      <td>NaN</td>\n",
              "      <td>NaN</td>\n",
              "      <td>NaN</td>\n",
              "      <td>NaN</td>\n",
              "      <td>NaN</td>\n",
              "      <td>az</td>\n",
              "      <td>NaN</td>\n",
              "      <td>NaN</td>\n",
              "      <td>NaN</td>\n",
              "    </tr>\n",
              "    <tr>\n",
              "      <th>1</th>\n",
              "      <td>7218891961</td>\n",
              "      <td>https://fayar.craigslist.org/ctd/d/bentonville...</td>\n",
              "      <td>fayetteville</td>\n",
              "      <td>https://fayar.craigslist.org</td>\n",
              "      <td>11900</td>\n",
              "      <td>NaN</td>\n",
              "      <td>NaN</td>\n",
              "      <td>NaN</td>\n",
              "      <td>NaN</td>\n",
              "      <td>NaN</td>\n",
              "      <td>NaN</td>\n",
              "      <td>NaN</td>\n",
              "      <td>NaN</td>\n",
              "      <td>NaN</td>\n",
              "      <td>NaN</td>\n",
              "      <td>NaN</td>\n",
              "      <td>NaN</td>\n",
              "      <td>NaN</td>\n",
              "      <td>NaN</td>\n",
              "      <td>NaN</td>\n",
              "      <td>NaN</td>\n",
              "      <td>NaN</td>\n",
              "      <td>ar</td>\n",
              "      <td>NaN</td>\n",
              "      <td>NaN</td>\n",
              "      <td>NaN</td>\n",
              "    </tr>\n",
              "    <tr>\n",
              "      <th>2</th>\n",
              "      <td>7221797935</td>\n",
              "      <td>https://keys.craigslist.org/cto/d/summerland-k...</td>\n",
              "      <td>florida keys</td>\n",
              "      <td>https://keys.craigslist.org</td>\n",
              "      <td>21000</td>\n",
              "      <td>NaN</td>\n",
              "      <td>NaN</td>\n",
              "      <td>NaN</td>\n",
              "      <td>NaN</td>\n",
              "      <td>NaN</td>\n",
              "      <td>NaN</td>\n",
              "      <td>NaN</td>\n",
              "      <td>NaN</td>\n",
              "      <td>NaN</td>\n",
              "      <td>NaN</td>\n",
              "      <td>NaN</td>\n",
              "      <td>NaN</td>\n",
              "      <td>NaN</td>\n",
              "      <td>NaN</td>\n",
              "      <td>NaN</td>\n",
              "      <td>NaN</td>\n",
              "      <td>NaN</td>\n",
              "      <td>fl</td>\n",
              "      <td>NaN</td>\n",
              "      <td>NaN</td>\n",
              "      <td>NaN</td>\n",
              "    </tr>\n",
              "    <tr>\n",
              "      <th>3</th>\n",
              "      <td>7222270760</td>\n",
              "      <td>https://worcester.craigslist.org/cto/d/west-br...</td>\n",
              "      <td>worcester / central MA</td>\n",
              "      <td>https://worcester.craigslist.org</td>\n",
              "      <td>1500</td>\n",
              "      <td>NaN</td>\n",
              "      <td>NaN</td>\n",
              "      <td>NaN</td>\n",
              "      <td>NaN</td>\n",
              "      <td>NaN</td>\n",
              "      <td>NaN</td>\n",
              "      <td>NaN</td>\n",
              "      <td>NaN</td>\n",
              "      <td>NaN</td>\n",
              "      <td>NaN</td>\n",
              "      <td>NaN</td>\n",
              "      <td>NaN</td>\n",
              "      <td>NaN</td>\n",
              "      <td>NaN</td>\n",
              "      <td>NaN</td>\n",
              "      <td>NaN</td>\n",
              "      <td>NaN</td>\n",
              "      <td>ma</td>\n",
              "      <td>NaN</td>\n",
              "      <td>NaN</td>\n",
              "      <td>NaN</td>\n",
              "    </tr>\n",
              "    <tr>\n",
              "      <th>4</th>\n",
              "      <td>7210384030</td>\n",
              "      <td>https://greensboro.craigslist.org/cto/d/trinit...</td>\n",
              "      <td>greensboro</td>\n",
              "      <td>https://greensboro.craigslist.org</td>\n",
              "      <td>4900</td>\n",
              "      <td>NaN</td>\n",
              "      <td>NaN</td>\n",
              "      <td>NaN</td>\n",
              "      <td>NaN</td>\n",
              "      <td>NaN</td>\n",
              "      <td>NaN</td>\n",
              "      <td>NaN</td>\n",
              "      <td>NaN</td>\n",
              "      <td>NaN</td>\n",
              "      <td>NaN</td>\n",
              "      <td>NaN</td>\n",
              "      <td>NaN</td>\n",
              "      <td>NaN</td>\n",
              "      <td>NaN</td>\n",
              "      <td>NaN</td>\n",
              "      <td>NaN</td>\n",
              "      <td>NaN</td>\n",
              "      <td>nc</td>\n",
              "      <td>NaN</td>\n",
              "      <td>NaN</td>\n",
              "      <td>NaN</td>\n",
              "    </tr>\n",
              "    <tr>\n",
              "      <th>...</th>\n",
              "      <td>...</td>\n",
              "      <td>...</td>\n",
              "      <td>...</td>\n",
              "      <td>...</td>\n",
              "      <td>...</td>\n",
              "      <td>...</td>\n",
              "      <td>...</td>\n",
              "      <td>...</td>\n",
              "      <td>...</td>\n",
              "      <td>...</td>\n",
              "      <td>...</td>\n",
              "      <td>...</td>\n",
              "      <td>...</td>\n",
              "      <td>...</td>\n",
              "      <td>...</td>\n",
              "      <td>...</td>\n",
              "      <td>...</td>\n",
              "      <td>...</td>\n",
              "      <td>...</td>\n",
              "      <td>...</td>\n",
              "      <td>...</td>\n",
              "      <td>...</td>\n",
              "      <td>...</td>\n",
              "      <td>...</td>\n",
              "      <td>...</td>\n",
              "      <td>...</td>\n",
              "    </tr>\n",
              "    <tr>\n",
              "      <th>426875</th>\n",
              "      <td>7301591192</td>\n",
              "      <td>https://wyoming.craigslist.org/ctd/d/atlanta-2...</td>\n",
              "      <td>wyoming</td>\n",
              "      <td>https://wyoming.craigslist.org</td>\n",
              "      <td>23590</td>\n",
              "      <td>2019.0</td>\n",
              "      <td>nissan</td>\n",
              "      <td>maxima s sedan 4d</td>\n",
              "      <td>good</td>\n",
              "      <td>6 cylinders</td>\n",
              "      <td>gas</td>\n",
              "      <td>32226.0</td>\n",
              "      <td>clean</td>\n",
              "      <td>other</td>\n",
              "      <td>1N4AA6AV6KC367801</td>\n",
              "      <td>fwd</td>\n",
              "      <td>NaN</td>\n",
              "      <td>sedan</td>\n",
              "      <td>NaN</td>\n",
              "      <td>https://images.craigslist.org/00o0o_iiraFnHg8q...</td>\n",
              "      <td>Carvana is the safer way to buy a car During t...</td>\n",
              "      <td>NaN</td>\n",
              "      <td>wy</td>\n",
              "      <td>33.786500</td>\n",
              "      <td>-84.445400</td>\n",
              "      <td>2021-04-04T03:21:31-0600</td>\n",
              "    </tr>\n",
              "    <tr>\n",
              "      <th>426876</th>\n",
              "      <td>7301591187</td>\n",
              "      <td>https://wyoming.craigslist.org/ctd/d/atlanta-2...</td>\n",
              "      <td>wyoming</td>\n",
              "      <td>https://wyoming.craigslist.org</td>\n",
              "      <td>30590</td>\n",
              "      <td>2020.0</td>\n",
              "      <td>volvo</td>\n",
              "      <td>s60 t5 momentum sedan 4d</td>\n",
              "      <td>good</td>\n",
              "      <td>NaN</td>\n",
              "      <td>gas</td>\n",
              "      <td>12029.0</td>\n",
              "      <td>clean</td>\n",
              "      <td>other</td>\n",
              "      <td>7JR102FKXLG042696</td>\n",
              "      <td>fwd</td>\n",
              "      <td>NaN</td>\n",
              "      <td>sedan</td>\n",
              "      <td>red</td>\n",
              "      <td>https://images.craigslist.org/00x0x_15sbgnxCIS...</td>\n",
              "      <td>Carvana is the safer way to buy a car During t...</td>\n",
              "      <td>NaN</td>\n",
              "      <td>wy</td>\n",
              "      <td>33.786500</td>\n",
              "      <td>-84.445400</td>\n",
              "      <td>2021-04-04T03:21:29-0600</td>\n",
              "    </tr>\n",
              "    <tr>\n",
              "      <th>426877</th>\n",
              "      <td>7301591147</td>\n",
              "      <td>https://wyoming.craigslist.org/ctd/d/atlanta-2...</td>\n",
              "      <td>wyoming</td>\n",
              "      <td>https://wyoming.craigslist.org</td>\n",
              "      <td>34990</td>\n",
              "      <td>2020.0</td>\n",
              "      <td>cadillac</td>\n",
              "      <td>xt4 sport suv 4d</td>\n",
              "      <td>good</td>\n",
              "      <td>NaN</td>\n",
              "      <td>diesel</td>\n",
              "      <td>4174.0</td>\n",
              "      <td>clean</td>\n",
              "      <td>other</td>\n",
              "      <td>1GYFZFR46LF088296</td>\n",
              "      <td>NaN</td>\n",
              "      <td>NaN</td>\n",
              "      <td>hatchback</td>\n",
              "      <td>white</td>\n",
              "      <td>https://images.craigslist.org/00L0L_farM7bxnxR...</td>\n",
              "      <td>Carvana is the safer way to buy a car During t...</td>\n",
              "      <td>NaN</td>\n",
              "      <td>wy</td>\n",
              "      <td>33.779214</td>\n",
              "      <td>-84.411811</td>\n",
              "      <td>2021-04-04T03:21:17-0600</td>\n",
              "    </tr>\n",
              "    <tr>\n",
              "      <th>426878</th>\n",
              "      <td>7301591140</td>\n",
              "      <td>https://wyoming.craigslist.org/ctd/d/atlanta-2...</td>\n",
              "      <td>wyoming</td>\n",
              "      <td>https://wyoming.craigslist.org</td>\n",
              "      <td>28990</td>\n",
              "      <td>2018.0</td>\n",
              "      <td>lexus</td>\n",
              "      <td>es 350 sedan 4d</td>\n",
              "      <td>good</td>\n",
              "      <td>6 cylinders</td>\n",
              "      <td>gas</td>\n",
              "      <td>30112.0</td>\n",
              "      <td>clean</td>\n",
              "      <td>other</td>\n",
              "      <td>58ABK1GG4JU103853</td>\n",
              "      <td>fwd</td>\n",
              "      <td>NaN</td>\n",
              "      <td>sedan</td>\n",
              "      <td>silver</td>\n",
              "      <td>https://images.craigslist.org/00z0z_bKnIVGLkDT...</td>\n",
              "      <td>Carvana is the safer way to buy a car During t...</td>\n",
              "      <td>NaN</td>\n",
              "      <td>wy</td>\n",
              "      <td>33.786500</td>\n",
              "      <td>-84.445400</td>\n",
              "      <td>2021-04-04T03:21:11-0600</td>\n",
              "    </tr>\n",
              "    <tr>\n",
              "      <th>426879</th>\n",
              "      <td>7301591129</td>\n",
              "      <td>https://wyoming.craigslist.org/ctd/d/atlanta-2...</td>\n",
              "      <td>wyoming</td>\n",
              "      <td>https://wyoming.craigslist.org</td>\n",
              "      <td>30590</td>\n",
              "      <td>2019.0</td>\n",
              "      <td>bmw</td>\n",
              "      <td>4 series 430i gran coupe</td>\n",
              "      <td>good</td>\n",
              "      <td>NaN</td>\n",
              "      <td>gas</td>\n",
              "      <td>22716.0</td>\n",
              "      <td>clean</td>\n",
              "      <td>other</td>\n",
              "      <td>WBA4J1C58KBM14708</td>\n",
              "      <td>rwd</td>\n",
              "      <td>NaN</td>\n",
              "      <td>coupe</td>\n",
              "      <td>NaN</td>\n",
              "      <td>https://images.craigslist.org/00Y0Y_lEUocjyRxa...</td>\n",
              "      <td>Carvana is the safer way to buy a car During t...</td>\n",
              "      <td>NaN</td>\n",
              "      <td>wy</td>\n",
              "      <td>33.779214</td>\n",
              "      <td>-84.411811</td>\n",
              "      <td>2021-04-04T03:21:07-0600</td>\n",
              "    </tr>\n",
              "  </tbody>\n",
              "</table>\n",
              "<p>426880 rows × 26 columns</p>\n",
              "</div>"
            ],
            "text/plain": [
              "                id  ...              posting_date\n",
              "0       7222695916  ...                       NaN\n",
              "1       7218891961  ...                       NaN\n",
              "2       7221797935  ...                       NaN\n",
              "3       7222270760  ...                       NaN\n",
              "4       7210384030  ...                       NaN\n",
              "...            ...  ...                       ...\n",
              "426875  7301591192  ...  2021-04-04T03:21:31-0600\n",
              "426876  7301591187  ...  2021-04-04T03:21:29-0600\n",
              "426877  7301591147  ...  2021-04-04T03:21:17-0600\n",
              "426878  7301591140  ...  2021-04-04T03:21:11-0600\n",
              "426879  7301591129  ...  2021-04-04T03:21:07-0600\n",
              "\n",
              "[426880 rows x 26 columns]"
            ]
          },
          "metadata": {
            "tags": []
          },
          "execution_count": 7
        }
      ]
    },
    {
      "cell_type": "code",
      "metadata": {
        "colab": {
          "base_uri": "https://localhost:8080/"
        },
        "id": "i8uwgamkS8-G",
        "outputId": "5ac622e5-f80f-4aef-f01c-070ce1b2de35"
      },
      "source": [
        "df.info()"
      ],
      "execution_count": 8,
      "outputs": [
        {
          "output_type": "stream",
          "text": [
            "<class 'pandas.core.frame.DataFrame'>\n",
            "RangeIndex: 426880 entries, 0 to 426879\n",
            "Data columns (total 26 columns):\n",
            " #   Column        Non-Null Count   Dtype  \n",
            "---  ------        --------------   -----  \n",
            " 0   id            426880 non-null  int64  \n",
            " 1   url           426880 non-null  object \n",
            " 2   region        426880 non-null  object \n",
            " 3   region_url    426880 non-null  object \n",
            " 4   price         426880 non-null  int64  \n",
            " 5   year          425675 non-null  float64\n",
            " 6   manufacturer  409234 non-null  object \n",
            " 7   model         421603 non-null  object \n",
            " 8   condition     252776 non-null  object \n",
            " 9   cylinders     249202 non-null  object \n",
            " 10  fuel          423867 non-null  object \n",
            " 11  odometer      422480 non-null  float64\n",
            " 12  title_status  418638 non-null  object \n",
            " 13  transmission  424324 non-null  object \n",
            " 14  VIN           265838 non-null  object \n",
            " 15  drive         296313 non-null  object \n",
            " 16  size          120519 non-null  object \n",
            " 17  type          334022 non-null  object \n",
            " 18  paint_color   296677 non-null  object \n",
            " 19  image_url     426812 non-null  object \n",
            " 20  description   426810 non-null  object \n",
            " 21  county        0 non-null       float64\n",
            " 22  state         426880 non-null  object \n",
            " 23  lat           420331 non-null  float64\n",
            " 24  long          420331 non-null  float64\n",
            " 25  posting_date  426812 non-null  object \n",
            "dtypes: float64(5), int64(2), object(19)\n",
            "memory usage: 84.7+ MB\n"
          ],
          "name": "stdout"
        }
      ]
    },
    {
      "cell_type": "code",
      "metadata": {
        "colab": {
          "base_uri": "https://localhost:8080/",
          "height": 297
        },
        "id": "1YdYHsymS9tY",
        "outputId": "7648d251-0f8e-4693-9c88-74eda2167c8d"
      },
      "source": [
        "df.describe()"
      ],
      "execution_count": 9,
      "outputs": [
        {
          "output_type": "execute_result",
          "data": {
            "text/html": [
              "<div>\n",
              "<style scoped>\n",
              "    .dataframe tbody tr th:only-of-type {\n",
              "        vertical-align: middle;\n",
              "    }\n",
              "\n",
              "    .dataframe tbody tr th {\n",
              "        vertical-align: top;\n",
              "    }\n",
              "\n",
              "    .dataframe thead th {\n",
              "        text-align: right;\n",
              "    }\n",
              "</style>\n",
              "<table border=\"1\" class=\"dataframe\">\n",
              "  <thead>\n",
              "    <tr style=\"text-align: right;\">\n",
              "      <th></th>\n",
              "      <th>id</th>\n",
              "      <th>price</th>\n",
              "      <th>year</th>\n",
              "      <th>odometer</th>\n",
              "      <th>county</th>\n",
              "      <th>lat</th>\n",
              "      <th>long</th>\n",
              "    </tr>\n",
              "  </thead>\n",
              "  <tbody>\n",
              "    <tr>\n",
              "      <th>count</th>\n",
              "      <td>4.268800e+05</td>\n",
              "      <td>4.268800e+05</td>\n",
              "      <td>425675.000000</td>\n",
              "      <td>4.224800e+05</td>\n",
              "      <td>0.0</td>\n",
              "      <td>420331.000000</td>\n",
              "      <td>420331.000000</td>\n",
              "    </tr>\n",
              "    <tr>\n",
              "      <th>mean</th>\n",
              "      <td>7.311487e+09</td>\n",
              "      <td>7.519903e+04</td>\n",
              "      <td>2011.235191</td>\n",
              "      <td>9.804333e+04</td>\n",
              "      <td>NaN</td>\n",
              "      <td>38.493940</td>\n",
              "      <td>-94.748599</td>\n",
              "    </tr>\n",
              "    <tr>\n",
              "      <th>std</th>\n",
              "      <td>4.473170e+06</td>\n",
              "      <td>1.218228e+07</td>\n",
              "      <td>9.452120</td>\n",
              "      <td>2.138815e+05</td>\n",
              "      <td>NaN</td>\n",
              "      <td>5.841533</td>\n",
              "      <td>18.365462</td>\n",
              "    </tr>\n",
              "    <tr>\n",
              "      <th>min</th>\n",
              "      <td>7.207408e+09</td>\n",
              "      <td>0.000000e+00</td>\n",
              "      <td>1900.000000</td>\n",
              "      <td>0.000000e+00</td>\n",
              "      <td>NaN</td>\n",
              "      <td>-84.122245</td>\n",
              "      <td>-159.827728</td>\n",
              "    </tr>\n",
              "    <tr>\n",
              "      <th>25%</th>\n",
              "      <td>7.308143e+09</td>\n",
              "      <td>5.900000e+03</td>\n",
              "      <td>2008.000000</td>\n",
              "      <td>3.770400e+04</td>\n",
              "      <td>NaN</td>\n",
              "      <td>34.601900</td>\n",
              "      <td>-111.939847</td>\n",
              "    </tr>\n",
              "    <tr>\n",
              "      <th>50%</th>\n",
              "      <td>7.312621e+09</td>\n",
              "      <td>1.395000e+04</td>\n",
              "      <td>2013.000000</td>\n",
              "      <td>8.554800e+04</td>\n",
              "      <td>NaN</td>\n",
              "      <td>39.150100</td>\n",
              "      <td>-88.432600</td>\n",
              "    </tr>\n",
              "    <tr>\n",
              "      <th>75%</th>\n",
              "      <td>7.315254e+09</td>\n",
              "      <td>2.648575e+04</td>\n",
              "      <td>2017.000000</td>\n",
              "      <td>1.335425e+05</td>\n",
              "      <td>NaN</td>\n",
              "      <td>42.398900</td>\n",
              "      <td>-80.832039</td>\n",
              "    </tr>\n",
              "    <tr>\n",
              "      <th>max</th>\n",
              "      <td>7.317101e+09</td>\n",
              "      <td>3.736929e+09</td>\n",
              "      <td>2022.000000</td>\n",
              "      <td>1.000000e+07</td>\n",
              "      <td>NaN</td>\n",
              "      <td>82.390818</td>\n",
              "      <td>173.885502</td>\n",
              "    </tr>\n",
              "  </tbody>\n",
              "</table>\n",
              "</div>"
            ],
            "text/plain": [
              "                 id         price  ...            lat           long\n",
              "count  4.268800e+05  4.268800e+05  ...  420331.000000  420331.000000\n",
              "mean   7.311487e+09  7.519903e+04  ...      38.493940     -94.748599\n",
              "std    4.473170e+06  1.218228e+07  ...       5.841533      18.365462\n",
              "min    7.207408e+09  0.000000e+00  ...     -84.122245    -159.827728\n",
              "25%    7.308143e+09  5.900000e+03  ...      34.601900    -111.939847\n",
              "50%    7.312621e+09  1.395000e+04  ...      39.150100     -88.432600\n",
              "75%    7.315254e+09  2.648575e+04  ...      42.398900     -80.832039\n",
              "max    7.317101e+09  3.736929e+09  ...      82.390818     173.885502\n",
              "\n",
              "[8 rows x 7 columns]"
            ]
          },
          "metadata": {
            "tags": []
          },
          "execution_count": 9
        }
      ]
    },
    {
      "cell_type": "code",
      "metadata": {
        "colab": {
          "base_uri": "https://localhost:8080/"
        },
        "id": "NhVvfYT-aLB0",
        "outputId": "7a34c4d1-3c49-4cec-afbe-da5ef101faf3"
      },
      "source": [
        "df.isna().sum()"
      ],
      "execution_count": 10,
      "outputs": [
        {
          "output_type": "execute_result",
          "data": {
            "text/plain": [
              "id                   0\n",
              "url                  0\n",
              "region               0\n",
              "region_url           0\n",
              "price                0\n",
              "year              1205\n",
              "manufacturer     17646\n",
              "model             5277\n",
              "condition       174104\n",
              "cylinders       177678\n",
              "fuel              3013\n",
              "odometer          4400\n",
              "title_status      8242\n",
              "transmission      2556\n",
              "VIN             161042\n",
              "drive           130567\n",
              "size            306361\n",
              "type             92858\n",
              "paint_color     130203\n",
              "image_url           68\n",
              "description         70\n",
              "county          426880\n",
              "state                0\n",
              "lat               6549\n",
              "long              6549\n",
              "posting_date        68\n",
              "dtype: int64"
            ]
          },
          "metadata": {
            "tags": []
          },
          "execution_count": 10
        }
      ]
    },
    {
      "cell_type": "code",
      "metadata": {
        "colab": {
          "base_uri": "https://localhost:8080/"
        },
        "id": "spq6GqHEVxhT",
        "outputId": "48a14a1c-8ca0-480d-c87e-b9e785514af5"
      },
      "source": [
        "df.columns"
      ],
      "execution_count": 11,
      "outputs": [
        {
          "output_type": "execute_result",
          "data": {
            "text/plain": [
              "Index(['id', 'url', 'region', 'region_url', 'price', 'year', 'manufacturer',\n",
              "       'model', 'condition', 'cylinders', 'fuel', 'odometer', 'title_status',\n",
              "       'transmission', 'VIN', 'drive', 'size', 'type', 'paint_color',\n",
              "       'image_url', 'description', 'county', 'state', 'lat', 'long',\n",
              "       'posting_date'],\n",
              "      dtype='object')"
            ]
          },
          "metadata": {
            "tags": []
          },
          "execution_count": 11
        }
      ]
    },
    {
      "cell_type": "code",
      "metadata": {
        "id": "rwrU4zZZcPFJ"
      },
      "source": [
        "df.drop(['id','url','region_url','VIN','image_url','county','lat','long','posting_date','description','state'],axis=1,inplace=True)"
      ],
      "execution_count": 12,
      "outputs": []
    },
    {
      "cell_type": "code",
      "metadata": {
        "id": "lK1ewOd5dKr_"
      },
      "source": [
        "df['age'] = 2022 - df['year']\n",
        "df.drop('year',axis=1,inplace=True)"
      ],
      "execution_count": 13,
      "outputs": []
    },
    {
      "cell_type": "code",
      "metadata": {
        "colab": {
          "base_uri": "https://localhost:8080/",
          "height": 592
        },
        "id": "C6fahDRidY1w",
        "outputId": "e3168295-4718-4be6-af0f-c6f7feb85459"
      },
      "source": [
        "df"
      ],
      "execution_count": 14,
      "outputs": [
        {
          "output_type": "execute_result",
          "data": {
            "text/html": [
              "<div>\n",
              "<style scoped>\n",
              "    .dataframe tbody tr th:only-of-type {\n",
              "        vertical-align: middle;\n",
              "    }\n",
              "\n",
              "    .dataframe tbody tr th {\n",
              "        vertical-align: top;\n",
              "    }\n",
              "\n",
              "    .dataframe thead th {\n",
              "        text-align: right;\n",
              "    }\n",
              "</style>\n",
              "<table border=\"1\" class=\"dataframe\">\n",
              "  <thead>\n",
              "    <tr style=\"text-align: right;\">\n",
              "      <th></th>\n",
              "      <th>region</th>\n",
              "      <th>price</th>\n",
              "      <th>manufacturer</th>\n",
              "      <th>model</th>\n",
              "      <th>condition</th>\n",
              "      <th>cylinders</th>\n",
              "      <th>fuel</th>\n",
              "      <th>odometer</th>\n",
              "      <th>title_status</th>\n",
              "      <th>transmission</th>\n",
              "      <th>drive</th>\n",
              "      <th>size</th>\n",
              "      <th>type</th>\n",
              "      <th>paint_color</th>\n",
              "      <th>age</th>\n",
              "    </tr>\n",
              "  </thead>\n",
              "  <tbody>\n",
              "    <tr>\n",
              "      <th>0</th>\n",
              "      <td>prescott</td>\n",
              "      <td>6000</td>\n",
              "      <td>NaN</td>\n",
              "      <td>NaN</td>\n",
              "      <td>NaN</td>\n",
              "      <td>NaN</td>\n",
              "      <td>NaN</td>\n",
              "      <td>NaN</td>\n",
              "      <td>NaN</td>\n",
              "      <td>NaN</td>\n",
              "      <td>NaN</td>\n",
              "      <td>NaN</td>\n",
              "      <td>NaN</td>\n",
              "      <td>NaN</td>\n",
              "      <td>NaN</td>\n",
              "    </tr>\n",
              "    <tr>\n",
              "      <th>1</th>\n",
              "      <td>fayetteville</td>\n",
              "      <td>11900</td>\n",
              "      <td>NaN</td>\n",
              "      <td>NaN</td>\n",
              "      <td>NaN</td>\n",
              "      <td>NaN</td>\n",
              "      <td>NaN</td>\n",
              "      <td>NaN</td>\n",
              "      <td>NaN</td>\n",
              "      <td>NaN</td>\n",
              "      <td>NaN</td>\n",
              "      <td>NaN</td>\n",
              "      <td>NaN</td>\n",
              "      <td>NaN</td>\n",
              "      <td>NaN</td>\n",
              "    </tr>\n",
              "    <tr>\n",
              "      <th>2</th>\n",
              "      <td>florida keys</td>\n",
              "      <td>21000</td>\n",
              "      <td>NaN</td>\n",
              "      <td>NaN</td>\n",
              "      <td>NaN</td>\n",
              "      <td>NaN</td>\n",
              "      <td>NaN</td>\n",
              "      <td>NaN</td>\n",
              "      <td>NaN</td>\n",
              "      <td>NaN</td>\n",
              "      <td>NaN</td>\n",
              "      <td>NaN</td>\n",
              "      <td>NaN</td>\n",
              "      <td>NaN</td>\n",
              "      <td>NaN</td>\n",
              "    </tr>\n",
              "    <tr>\n",
              "      <th>3</th>\n",
              "      <td>worcester / central MA</td>\n",
              "      <td>1500</td>\n",
              "      <td>NaN</td>\n",
              "      <td>NaN</td>\n",
              "      <td>NaN</td>\n",
              "      <td>NaN</td>\n",
              "      <td>NaN</td>\n",
              "      <td>NaN</td>\n",
              "      <td>NaN</td>\n",
              "      <td>NaN</td>\n",
              "      <td>NaN</td>\n",
              "      <td>NaN</td>\n",
              "      <td>NaN</td>\n",
              "      <td>NaN</td>\n",
              "      <td>NaN</td>\n",
              "    </tr>\n",
              "    <tr>\n",
              "      <th>4</th>\n",
              "      <td>greensboro</td>\n",
              "      <td>4900</td>\n",
              "      <td>NaN</td>\n",
              "      <td>NaN</td>\n",
              "      <td>NaN</td>\n",
              "      <td>NaN</td>\n",
              "      <td>NaN</td>\n",
              "      <td>NaN</td>\n",
              "      <td>NaN</td>\n",
              "      <td>NaN</td>\n",
              "      <td>NaN</td>\n",
              "      <td>NaN</td>\n",
              "      <td>NaN</td>\n",
              "      <td>NaN</td>\n",
              "      <td>NaN</td>\n",
              "    </tr>\n",
              "    <tr>\n",
              "      <th>...</th>\n",
              "      <td>...</td>\n",
              "      <td>...</td>\n",
              "      <td>...</td>\n",
              "      <td>...</td>\n",
              "      <td>...</td>\n",
              "      <td>...</td>\n",
              "      <td>...</td>\n",
              "      <td>...</td>\n",
              "      <td>...</td>\n",
              "      <td>...</td>\n",
              "      <td>...</td>\n",
              "      <td>...</td>\n",
              "      <td>...</td>\n",
              "      <td>...</td>\n",
              "      <td>...</td>\n",
              "    </tr>\n",
              "    <tr>\n",
              "      <th>426875</th>\n",
              "      <td>wyoming</td>\n",
              "      <td>23590</td>\n",
              "      <td>nissan</td>\n",
              "      <td>maxima s sedan 4d</td>\n",
              "      <td>good</td>\n",
              "      <td>6 cylinders</td>\n",
              "      <td>gas</td>\n",
              "      <td>32226.0</td>\n",
              "      <td>clean</td>\n",
              "      <td>other</td>\n",
              "      <td>fwd</td>\n",
              "      <td>NaN</td>\n",
              "      <td>sedan</td>\n",
              "      <td>NaN</td>\n",
              "      <td>3.0</td>\n",
              "    </tr>\n",
              "    <tr>\n",
              "      <th>426876</th>\n",
              "      <td>wyoming</td>\n",
              "      <td>30590</td>\n",
              "      <td>volvo</td>\n",
              "      <td>s60 t5 momentum sedan 4d</td>\n",
              "      <td>good</td>\n",
              "      <td>NaN</td>\n",
              "      <td>gas</td>\n",
              "      <td>12029.0</td>\n",
              "      <td>clean</td>\n",
              "      <td>other</td>\n",
              "      <td>fwd</td>\n",
              "      <td>NaN</td>\n",
              "      <td>sedan</td>\n",
              "      <td>red</td>\n",
              "      <td>2.0</td>\n",
              "    </tr>\n",
              "    <tr>\n",
              "      <th>426877</th>\n",
              "      <td>wyoming</td>\n",
              "      <td>34990</td>\n",
              "      <td>cadillac</td>\n",
              "      <td>xt4 sport suv 4d</td>\n",
              "      <td>good</td>\n",
              "      <td>NaN</td>\n",
              "      <td>diesel</td>\n",
              "      <td>4174.0</td>\n",
              "      <td>clean</td>\n",
              "      <td>other</td>\n",
              "      <td>NaN</td>\n",
              "      <td>NaN</td>\n",
              "      <td>hatchback</td>\n",
              "      <td>white</td>\n",
              "      <td>2.0</td>\n",
              "    </tr>\n",
              "    <tr>\n",
              "      <th>426878</th>\n",
              "      <td>wyoming</td>\n",
              "      <td>28990</td>\n",
              "      <td>lexus</td>\n",
              "      <td>es 350 sedan 4d</td>\n",
              "      <td>good</td>\n",
              "      <td>6 cylinders</td>\n",
              "      <td>gas</td>\n",
              "      <td>30112.0</td>\n",
              "      <td>clean</td>\n",
              "      <td>other</td>\n",
              "      <td>fwd</td>\n",
              "      <td>NaN</td>\n",
              "      <td>sedan</td>\n",
              "      <td>silver</td>\n",
              "      <td>4.0</td>\n",
              "    </tr>\n",
              "    <tr>\n",
              "      <th>426879</th>\n",
              "      <td>wyoming</td>\n",
              "      <td>30590</td>\n",
              "      <td>bmw</td>\n",
              "      <td>4 series 430i gran coupe</td>\n",
              "      <td>good</td>\n",
              "      <td>NaN</td>\n",
              "      <td>gas</td>\n",
              "      <td>22716.0</td>\n",
              "      <td>clean</td>\n",
              "      <td>other</td>\n",
              "      <td>rwd</td>\n",
              "      <td>NaN</td>\n",
              "      <td>coupe</td>\n",
              "      <td>NaN</td>\n",
              "      <td>3.0</td>\n",
              "    </tr>\n",
              "  </tbody>\n",
              "</table>\n",
              "<p>426880 rows × 15 columns</p>\n",
              "</div>"
            ],
            "text/plain": [
              "                        region  price manufacturer  ...       type paint_color  age\n",
              "0                     prescott   6000          NaN  ...        NaN         NaN  NaN\n",
              "1                 fayetteville  11900          NaN  ...        NaN         NaN  NaN\n",
              "2                 florida keys  21000          NaN  ...        NaN         NaN  NaN\n",
              "3       worcester / central MA   1500          NaN  ...        NaN         NaN  NaN\n",
              "4                   greensboro   4900          NaN  ...        NaN         NaN  NaN\n",
              "...                        ...    ...          ...  ...        ...         ...  ...\n",
              "426875                 wyoming  23590       nissan  ...      sedan         NaN  3.0\n",
              "426876                 wyoming  30590        volvo  ...      sedan         red  2.0\n",
              "426877                 wyoming  34990     cadillac  ...  hatchback       white  2.0\n",
              "426878                 wyoming  28990        lexus  ...      sedan      silver  4.0\n",
              "426879                 wyoming  30590          bmw  ...      coupe         NaN  3.0\n",
              "\n",
              "[426880 rows x 15 columns]"
            ]
          },
          "metadata": {
            "tags": []
          },
          "execution_count": 14
        }
      ]
    },
    {
      "cell_type": "markdown",
      "metadata": {
        "id": "HGHvPwkNtXgj"
      },
      "source": [
        "### 문제 5. 범주형 데이터의 통계 분석하기\n"
      ]
    },
    {
      "cell_type": "code",
      "metadata": {
        "colab": {
          "base_uri": "https://localhost:8080/"
        },
        "id": "U2dh8saDdss9",
        "outputId": "828ad4a3-9a0e-4b5a-968e-8e08205fbaab"
      },
      "source": [
        "df.columns"
      ],
      "execution_count": 15,
      "outputs": [
        {
          "output_type": "execute_result",
          "data": {
            "text/plain": [
              "Index(['region', 'price', 'manufacturer', 'model', 'condition', 'cylinders',\n",
              "       'fuel', 'odometer', 'title_status', 'transmission', 'drive', 'size',\n",
              "       'type', 'paint_color', 'age'],\n",
              "      dtype='object')"
            ]
          },
          "metadata": {
            "tags": []
          },
          "execution_count": 15
        }
      ]
    },
    {
      "cell_type": "code",
      "metadata": {
        "id": "b_zcrUDF7khF",
        "colab": {
          "base_uri": "https://localhost:8080/"
        },
        "outputId": "99e36205-c9a4-4620-e8bf-3a81d284c3f1"
      },
      "source": [
        "# 범주형 데이터의 값의 범위, 기초 통계 분석하기\n",
        "print(df['manufacturer'].value_counts())\n",
        "print(len(df['manufacturer'].value_counts()))"
      ],
      "execution_count": 16,
      "outputs": [
        {
          "output_type": "stream",
          "text": [
            "ford               70985\n",
            "chevrolet          55064\n",
            "toyota             34202\n",
            "honda              21269\n",
            "nissan             19067\n",
            "jeep               19014\n",
            "ram                18342\n",
            "gmc                16785\n",
            "bmw                14699\n",
            "dodge              13707\n",
            "mercedes-benz      11817\n",
            "hyundai            10338\n",
            "subaru              9495\n",
            "volkswagen          9345\n",
            "kia                 8457\n",
            "lexus               8200\n",
            "audi                7573\n",
            "cadillac            6953\n",
            "chrysler            6031\n",
            "acura               5978\n",
            "buick               5501\n",
            "mazda               5427\n",
            "infiniti            4802\n",
            "lincoln             4220\n",
            "volvo               3374\n",
            "mitsubishi          3292\n",
            "mini                2376\n",
            "pontiac             2288\n",
            "rover               2113\n",
            "jaguar              1946\n",
            "porsche             1384\n",
            "mercury             1184\n",
            "saturn              1090\n",
            "alfa-romeo           897\n",
            "tesla                868\n",
            "fiat                 792\n",
            "harley-davidson      153\n",
            "ferrari               95\n",
            "datsun                63\n",
            "aston-martin          24\n",
            "land rover            21\n",
            "morgan                 3\n",
            "Name: manufacturer, dtype: int64\n",
            "42\n"
          ],
          "name": "stdout"
        }
      ]
    },
    {
      "cell_type": "code",
      "metadata": {
        "colab": {
          "base_uri": "https://localhost:8080/",
          "height": 297
        },
        "id": "MzwuCNM1d1aJ",
        "outputId": "89616eb1-464a-4a88-a551-18a1b453c8c9"
      },
      "source": [
        "sns.countplot(data=df.fillna('n/a'),x='manufacturer')"
      ],
      "execution_count": 17,
      "outputs": [
        {
          "output_type": "execute_result",
          "data": {
            "text/plain": [
              "<matplotlib.axes._subplots.AxesSubplot at 0x7f58ffb54850>"
            ]
          },
          "metadata": {
            "tags": []
          },
          "execution_count": 17
        },
        {
          "output_type": "display_data",
          "data": {
            "image/png": "[encoded data removed]",
            "text/plain": [
              "<Figure size 432x288 with 1 Axes>"
            ]
          },
          "metadata": {
            "tags": [],
            "needs_background": "light"
          }
        }
      ]
    },
    {
      "cell_type": "code",
      "metadata": {
        "colab": {
          "base_uri": "https://localhost:8080/",
          "height": 895
        },
        "id": "T2Etub4JfYBb",
        "outputId": "4eb077e8-0d34-4d94-f31a-337ec735719b"
      },
      "source": [
        "plt.figure(figsize=[10,15])\n",
        "sns.countplot(y='manufacturer',data=df.fillna('n/a'))"
      ],
      "execution_count": 18,
      "outputs": [
        {
          "output_type": "execute_result",
          "data": {
            "text/plain": [
              "<matplotlib.axes._subplots.AxesSubplot at 0x7f5900de8510>"
            ]
          },
          "metadata": {
            "tags": []
          },
          "execution_count": 18
        },
        {
          "output_type": "display_data",
          "data": {
            "image/png": "[encoded data removed]",
            "text/plain": [
              "<Figure size 720x1080 with 1 Axes>"
            ]
          },
          "metadata": {
            "tags": [],
            "needs_background": "light"
          }
        }
      ]
    },
    {
      "cell_type": "code",
      "metadata": {
        "colab": {
          "base_uri": "https://localhost:8080/"
        },
        "id": "7jC9g476hCgu",
        "outputId": "db46ba3e-f3ce-459c-c2f5-e6c1d97f53a3"
      },
      "source": [
        "df.columns"
      ],
      "execution_count": 19,
      "outputs": [
        {
          "output_type": "execute_result",
          "data": {
            "text/plain": [
              "Index(['region', 'price', 'manufacturer', 'model', 'condition', 'cylinders',\n",
              "       'fuel', 'odometer', 'title_status', 'transmission', 'drive', 'size',\n",
              "       'type', 'paint_color', 'age'],\n",
              "      dtype='object')"
            ]
          },
          "metadata": {
            "tags": []
          },
          "execution_count": 19
        }
      ]
    },
    {
      "cell_type": "code",
      "metadata": {
        "colab": {
          "base_uri": "https://localhost:8080/"
        },
        "id": "PedRdluOhJbY",
        "outputId": "3c0ad26b-c942-479c-b56e-04f18f68111a"
      },
      "source": [
        "print(df['model'].value_counts())\n",
        "print(len(df['model'].value_counts()))"
      ],
      "execution_count": 20,
      "outputs": [
        {
          "output_type": "stream",
          "text": [
            "f-150                   8009\n",
            "silverado 1500          5140\n",
            "1500                    4211\n",
            "camry                   3135\n",
            "silverado               3023\n",
            "                        ... \n",
            "tahoe 4wd premier          1\n",
            "Mobile Ramp                1\n",
            "2003 Jetta GLS Wagon       1\n",
            "club coupe                 1\n",
            "- international            1\n",
            "Name: model, Length: 29667, dtype: int64\n",
            "29667\n"
          ],
          "name": "stdout"
        }
      ]
    },
    {
      "cell_type": "code",
      "metadata": {
        "colab": {
          "base_uri": "https://localhost:8080/"
        },
        "id": "5gnEb1jBhM09",
        "outputId": "5568a569-9bb7-47ac-9d5c-924e84aa9167"
      },
      "source": [
        "for model, num in zip(df['model'].value_counts().index,df['model'].value_counts()):\n",
        "    print(model,num)\n",
        "# 모델이 1개인모델이 굉장히 많음(대소눔자가 다르게 들어간 모델도 많음) -> ㅈㄴ역겹...."
      ],
      "execution_count": 21,
      "outputs": [
        {
          "output_type": "stream",
          "text": [
            "\u001b[1;30;43m스트리밍 출력 내용이 길어서 마지막 5000줄이 삭제되었습니다.\u001b[0m\n",
            "silverado 4500hd work 1\n",
            "focus zx5 ses 1\n",
            "eclipse gst 1\n",
            "335ix 1\n",
            "suburban dually 1\n",
            "2004 corvette 1\n",
            "Grand Sport Caravan 1\n",
            "1991 Bentley eight 1\n",
            "civic 4dr auto lx 1\n",
            "mustang saleen convertible 1\n",
            "altima 2.5sv sedan 1\n",
            "borrego limited 1\n",
            "yukon xl 2500 slt 1\n",
            "camaro lt rs 1\n",
            "outback awd touring 4dr c 1\n",
            "c 350 coupe - amg 1\n",
            "1 ton dump bed 1\n",
            "Freightliner M55 1\n",
            "mdx sh awd tech 1\n",
            "mazda3 i touring sedan / 4-cyl / automatic / 91,000 miles / 1-owner 1\n",
            "500x trekking sport utility 1\n",
            "International S1754 1\n",
            "wrangler sport tj 1\n",
            "International CE S Bus (PB105) 1\n",
            "sonata gls fwd 1\n",
            "sl 400 1\n",
            "eldorado￼ 1\n",
            "benz slk roadster 1\n",
            "wrangler unlimited rubicon 4x4 1\n",
            "golf gls tdi 1\n",
            "gs300 1998 1\n",
            "malibu ls - one owner 1\n",
            "3.2 tl - sport 1\n",
            "t-150 1\n",
            "50’s 1\n",
            "320x-drive 1\n",
            "34 Tudor 1\n",
            "f350 crew cab platinum 1\n",
            "esclade ext 1\n",
            "elantra 4dr sdn auto sport (ulsan plant) 1\n",
            "rav4 l 1\n",
            "s 10 4 x 4 1\n",
            "elantra sel 2.0l auto 1\n",
            "kaiser manhattan 1\n",
            "ADVAN 1\n",
            "express heavy duty 1\n",
            "city express 1ls 1\n",
            "altima 2.5 s coupe 2d 1\n",
            "Saab 9-3 Turbo 1\n",
            "porsche. bmw. ect. 1\n",
            "q7 4.2l v8 1\n",
            "All tire sizes 1\n",
            "ux 250h 1\n",
            "es350 es 350 1\n",
            "x5 5.0 v8 1\n",
            "commercial e450 1\n",
            "1985 F150 1\n",
            "frontier supercharged 1\n",
            "1996 F250 1\n",
            "econoline e-2500 1\n",
            "Chrsler 300 1\n",
            "colorado zr2 bison 1\n",
            "rivera sport 1\n",
            "conversation van 1\n",
            "prius plug in hybrid 1\n",
            "isuzu pickup 1\n",
            "1987 Bronco II 1\n",
            "f-150 xl 3dr extended cab 1\n",
            "x3 3.0si awd 1\n",
            "plymouth special deluxe 1\n",
            "mighty max 1\n",
            "Isuzu NQR DC 1\n",
            "insight lx sedan 4d 1\n",
            "ion l2 1\n",
            "corolla/s/ *90 day warran 1\n",
            "1989 Mustang lx v8 convertible 1\n",
            "750l 1\n",
            "Huyndai entourage 1\n",
            "explorer platinum 4dr suv 1\n",
            "camper special 1\n",
            "International S160 1\n",
            "junker 1\n",
            "liberty jet edition 1\n",
            "ats coupe premium 1\n",
            "1967 Chevelle 1\n",
            "srx awd luxury 1\n",
            "durango citadel awd 4dr 1\n",
            "E-150 1\n",
            "Dodge-A 4DR AUTO! COLD! NO RUST! TRUCK! Dakota-BHPH OFFERED! 1\n",
            "Sky Track 1\n",
            "canyon diesel durmax slt 4x4 1\n",
            "Mercedez Benz CL500 1\n",
            "flatbed truck 1\n",
            "t campervn 1\n",
            "AMC AMX 1\n",
            "535i m sport 1\n",
            "mustang fastback gt premium 1\n",
            "s60 4dr sdn t5 drive-e pr 1\n",
            "is 200t base 4dr sedan 1\n",
            "2004 2500 HD 1\n",
            "lancer sel 1\n",
            "mustang v6 premium 2dr 1\n",
            "Chevey tahoe Lt 1\n",
            "leaf sv hatchback fwd 1\n",
            "rav4 base automatic 1\n",
            "Blue Bird Bus 1\n",
            "f-350 super duty srw 1\n",
            "a3 tdi prestige 1\n",
            "carpenter bus 1\n",
            "tundra sr5 automatic 1\n",
            "fx35 awd 3.5l supercharged auto gps leather moon loaded 1\n",
            "encore premium sport8 1\n",
            "mustang gt fastback 1\n",
            "Massimo T BOSS 1\n",
            "super duty f-250 crew cab 1\n",
            "silverado2500 1\n",
            "150 xlt 1\n",
            "escape 4wd 1\n",
            "CODILLAC 1\n",
            "jetta turbo 1\n",
            "cobalt l 1\n",
            "mkz hybrid select sedan 1\n",
            "200 limited automatic 1\n",
            "ISUZU NQR/NRR 1\n",
            "300 limited anniversary 1\n",
            "lamborghini huracan 1\n",
            "sentra sr 4dr 1\n",
            "civic si 1.5lturbo.... 1\n",
            "town and country s 1\n",
            "tl 2.5s 1\n",
            "cayman gt4 1\n",
            "4runner sr5 rwd 1\n",
            "dump bed 1\n",
            "pt cruiser touring fwd 1\n",
            "camaro 2ss 6-spd 1\n",
            "silverado 2500hd 4wd c 1\n",
            "xj super v8 portfolio / 1\n",
            "3500 mega cab slt 1\n",
            "international 4300m7 sba 4x2 1\n",
            "prius 5dr hb two (natl) 1\n",
            "LINCLON MKX SUV 1\n",
            "Suburban 2500 1\n",
            "mazda3 sdn auto i sport 1\n",
            "350z enthusiast coupe 1\n",
            "1936 International 1\n",
            "d8 1\n",
            "1966 gto 1\n",
            "Renault/SCCA miniaturization 1\n",
            "general fivestar 1\n",
            "sierra 2500 lbz duramax 1\n",
            "mkx 2wd 1\n",
            "custom deluxe 20 1\n",
            "cummins 3500 limited 1\n",
            "accord sport 1.5t cvt 1\n",
            "tucson se - awd - 3 months / 3,000 miles limited warranty 1\n",
            "rogue 2017.5 awd s 1\n",
            "1965 Plymouth barracuda 1\n",
            "sonata limited 2010 1\n",
            "ANY CAR 1\n",
            "6 2006 1\n",
            "95 camaro 1\n",
            "f250 xlt 4x4 diesel truck 1\n",
            "2004 mustang gt 1\n",
            "lifted f150 xlt sport 4x4 1\n",
            "Saab 9-3 Aero SportCombi 1\n",
            "peterbilt cabover 1\n",
            "f-150 4x4 4 dr 1\n",
            "sl 600 twin turbo hard top convertible pano 20s 1\n",
            "benz s430 4matic (awd) 1\n",
            "Cheverolet Colorado 1\n",
            "s p85 1\n",
            "e400 4matic awd co 1\n",
            "maxima sl*navi*leather*b 1\n",
            "tiguan se sport 1\n",
            "rav4 base i4 2wd 4-speed automatic 1\n",
            "2006 pete 1\n",
            "3 hatchback 2.5 1\n",
            "z4 z3 tt z 330ci sc430 1\n",
            "malibu 4dr sdn 1\n",
            "q5 3.0 quattro prestige 1\n",
            "850 Sedan 1\n",
            "e 320 4matic 1\n",
            "t100 dx 1\n",
            "f-250 hd crew cab 1\n",
            "200 series s 1-owner sport convertible navigation heated leather backup camera 1\n",
            "tacoma offroad 1\n",
            "f-250 xl 4x4 1\n",
            "GRAND CARAVAN SE 1\n",
            "wrangler unlimited wd dr rubicon 1\n",
            "legacy wagon gt 1\n",
            "rsx coupe 2.0l automatic leather moon sport wheels 1\n",
            "1985 Volkswagon Vanagon 1\n",
            "Plymouth 1/2 Ton 1\n",
            "67 NOVA  SS 1\n",
            "Yukon XL SLT 1\n",
            "tdi jetta sport 1\n",
            "xj sedan 1\n",
            "passat 4dr sdn 2.5l auto se w/sunroof pzev 1\n",
            "accord 4dr i4 cvt ex-l 1\n",
            "Can Am Spyder gs 1\n",
            "es300 sedan 1\n",
            "sequoia platinum 4wd 1 owner 1\n",
            "200 nv cargo van 1\n",
            "MG MGA Coupe 1\n",
            "soul hatchback fwd 1\n",
            "535i m sport package 1\n",
            "k van p6500 1\n",
            "1500hd 1\n",
            "Land Cruiser 1\n",
            "C300 1\n",
            "mark lt crew cab pickup 1\n",
            "Volts wagonBeetle 1\n",
            "F250 super duty 1\n",
            "crew cab 4x4 1\n",
            "passat cc sport 1\n",
            "c550o 1\n",
            "1999 Izuzu Rodeo LS 1\n",
            "1500 crew cab4x4 1\n",
            "xv crosstrek 2.0i limite 1\n",
            "TRANSIT CONNECT XL 1\n",
            "1974 CJ5 1\n",
            "frontier sv king cab 1\n",
            "expedition platinum 4x4 1\n",
            "Passat 2012 SEL 1\n",
            "j2000 1\n",
            "durango st 1\n",
            "04 mb ml350 1\n",
            "yukonslt 1\n",
            "durango 4 x 4 1\n",
            "pickup laramie 1\n",
            "impreza sport premium 1\n",
            "xc90 t5 awd momentum 1\n",
            "1500 lt 4x4 1\n",
            "e-350 xlt econoline van 1\n",
            "journey 72k miles newer tires **redline pearl** in floor storage 1\n",
            "silverado 3500 hd 4x4 1\n",
            "2005 f150 fx4 1\n",
            "G 25x 1\n",
            "ranger xlt ext cab 1\n",
            "liberty sport sport 4dr suv 1\n",
            "camry se awd 1\n",
            "wrangler unlimited sahara 4x4 hard top lifted 18s 35s 1\n",
            "passat gls 1. 1\n",
            "Isuzu nrr 1\n",
            "savana 16 box truck 1\n",
            "express cutaway cube 1\n",
            "k series 1\n",
            "fusion titanium turbo 1\n",
            "rogue sport sl utility 4d 1\n",
            "silverado 3500hd lt 4x 1\n",
            "2015 Scion xB Base 1\n",
            "x3 awd xdrive35i nav 1\n",
            "transit 150 med. roof 130\" 1\n",
            "MB SL400 1\n",
            "Scripps-Booth Model C 1\n",
            "gl550 4 matic 1\n",
            "e430 1\n",
            "SILVERADO HIGH COUNTRY 4X4 1\n",
            "silverado 1500 work truck automatic 1\n",
            "rogue fwd 4dr s 1\n",
            "C-Max Hybrid 1\n",
            "benz gl550 awd 1\n",
            "1950 Studebaker Truck 1\n",
            "f 150 xl super cab 1\n",
            "1500 st 4x4 1/2 ton 1\n",
            "crosstrek 2.0 limited awd 1\n",
            "hiace super custom 4wd jdm van, model lh107 1\n",
            "rabbit s pzev 1\n",
            "kodiak c6500 1\n",
            "DODGE1500 1\n",
            "xterra se 4dr 4x4 1\n",
            "town car limited 1\n",
            "transit connect wagon xlt 1\n",
            "Hupmobile 1\n",
            "explorer 4wd v6 1\n",
            "R-Vision TC-26QBS 1\n",
            "428i 428i 1\n",
            "silverado w/t 4x4 1\n",
            "camro 1\n",
            "f450 diesels power stroke 1\n",
            "hemi 1\n",
            "sierra 1500 z71 sle 1\n",
            "camaro 2ss rs 1\n",
            "1928 Crysler 1\n",
            "grand cherokee srt sport 1\n",
            "jetta se 1.8l turbo 1\n",
            "flhtc 1\n",
            "1939 Federal Truck 1\n",
            "tucson ltd 4wd 1\n",
            "lucerne cxl premium 1\n",
            "infinti i30 1\n",
            "super duty f-350 srw lariat automatic 1\n",
            "legacy l wagon 1\n",
            "f-150 supercab 1\n",
            "corolla 4dr sdn cvt le eco (natl) 1\n",
            "colorado z71 diesel 1\n",
            "ats 3.6l premium 1\n",
            "Expedition SSV 1\n",
            "4xcrew 1\n",
            "ftype 1\n",
            "p30 grumman olson 1\n",
            "sierra 4x4 2014 1\n",
            "z4 2.5i 2dr roadster 1\n",
            "qx80 4wd v8 1\n",
            "s430 4.3l 1\n",
            "rogue economy suv 1\n",
            "bus camper 1\n",
            "odyssey ex-l w/navigation/ 1\n",
            "civic lx 4d sedan automatic 1\n",
            "xt6 sport awd 1\n",
            "civic hybrid sedan 4d 1\n",
            "venue sel 1\n",
            "Cadilla SRX 1\n",
            "ranger step side 1\n",
            "transit connect 114.6 xl w/ 1\n",
            "suburban 1500 lt 4wd 1\n",
            "q50s hybrid 1\n",
            "C-60 Viking 1\n",
            "WORKHORSE SAFARI-W-22 1\n",
            "Mack Vision cxn-613 1\n",
            "2 series m235i 1\n",
            "xc90 3.2l awd r-design 1\n",
            "a3 quattro premium plus 1\n",
            "suzuki esteem 1\n",
            "f350 xlt lariat 6.2gas 1\n",
            "verano leather 1\n",
            "2500 diesel truck 5.9l cummins 6 speed manual 1\n",
            "2001 Kawasaki Vulcan 1\n",
            "maxima sv--we finance!! 1\n",
            "f-150 platinum**leather*na 1\n",
            "benz sl 320 1\n",
            "1968 Torino Squire Station Wagon 1\n",
            "hse td6 1\n",
            "expedition el ltd 1\n",
            "benz 3000 1\n",
            "2013 FOR F150 XLT 1\n",
            "sprinter carib 1\n",
            "1992 corvette  convertible 1\n",
            "focus zx3 s 1\n",
            "c max energi 1\n",
            "outback 2.5i prem 1\n",
            "armada le ffv 1\n",
            "xts 3.6l v6 1\n",
            "astra xe 4dr 1\n",
            "gr cherokee limited 4x4 1\n",
            "cl 600 v12 coupe 1\n",
            "ranch wagon 2dr. 1\n",
            "fusion se w leather 1\n",
            "eagle premier 1\n",
            "evoque pu 1\n",
            "1989 RX7 1\n",
            "cherokee limited automatic 1\n",
            "300c *moon roof! 1\n",
            "e350 handicap van 1\n",
            "regal cxl eco 1\n",
            "f300 1\n",
            "1973 Corvette Stingray T-top 1\n",
            "vandura/rally 1\n",
            "f-250 ranger 1\n",
            "CHEVU 3500 DIESEL 1\n",
            "s60 t6 premier plus 1\n",
            "titan sl c c 4x4 1\n",
            "cobalt lt 2.2 1\n",
            "golf 2.5 1\n",
            "Caterham 280R 1\n",
            "tl 4dr sedan 1\n",
            "corolla le eco plus sedan 1\n",
            "e type 1\n",
            "rlx w/technology pkg 1\n",
            "outback wagon 1 owner new head gaskets &timing belt 1\n",
            "malibu ltsedan w/1lt 1\n",
            "s80-6 cyl. 3.2 1\n",
            "Mustang GT convertible 1\n",
            "focus s automatic 1\n",
            "benz ml350 4 matic 1\n",
            "hyndai tucson 1\n",
            "defender x 1\n",
            "chieften 1\n",
            "canyon z71 sle base 4dr crew cab z71 sle base 1\n",
            "savana g3500 cargo ext 1\n",
            "f-550 forestry bucket truck 1\n",
            "DT-466 1\n",
            "w300 power wagon 1\n",
            "1971 C10 Pickup 1\n",
            "benz sclass 1\n",
            "civic sdn lx mt manual 1\n",
            "340i m sport package xi 1\n",
            "mustang premium ecoboost 1\n",
            "camry lg 1\n",
            "e250 cargo vaan 1\n",
            "sierra classic sl 1\n",
            "c30 fire truck 1\n",
            "Maserati Quattroporte GTS Sedan 1\n",
            "1500 crew cab 6ft 4 bed 1\n",
            "romeo giulia sport 1\n",
            "Plymouth Sport Fury 1\n",
            "mustang gt convetrible 1\n",
            "routan s 1\n",
            "vibe base fwd 4dr wagon 1\n",
            "Caddy 1999 1\n",
            "c-700 tilt cab 1\n",
            "journey limited 1\n",
            "town car - executive 1\n",
            "2003 F250 1\n",
            "Nissax Xterra 1\n",
            "silverado c-10 1\n",
            "f150 ext cab 4x4 1\n",
            "z4 m convertible 1\n",
            "escape 4x4 xlt 1\n",
            "sierra z-71 4x4 1\n",
            "journey mainstreet awd 1\n",
            "camaro yanase 1\n",
            "f350 utility truck 1\n",
            "element ex i4 fwd 1\n",
            "astro van awd 1\n",
            "golf tdi hatchback 1\n",
            "edge 4dr sel fwd 1\n",
            "lightning f150 1\n",
            "sentra s18 1\n",
            "228i m sport package 1\n",
            "f550 xlt 1\n",
            "srt-10 1\n",
            "impreza outback sport 4 1\n",
            "f350 xlt diesel 4x4 1\n",
            "ISUZU ASCENDER 1\n",
            "Volov S60 1\n",
            "Smart fortwo electric drive passion 1\n",
            "colorado 4wd z71 automatic 1\n",
            "tahoe lt 4x2 4dr suv 1\n",
            "4runner sr5 **4wd** 1\n",
            "corolla camry 1\n",
            "f-150 xl supercab 1\n",
            "ak 1\n",
            "escape r4467 1\n",
            "Meercedes 1\n",
            "Mazda6 Grand Touring Sedan 4D 1\n",
            "versa note fuel economy! 1\n",
            "cooper paceman s 1\n",
            "2021 1\n",
            "accord ex-l i4 fwd 1\n",
            "Malibu n accord 1\n",
            "K2500 6.5 1\n",
            "range sport 3.0l v6 1\n",
            "venza awd xle 1\n",
            "lifted tundra sr5 trd 4x4 1\n",
            "passat v6 gt 1\n",
            "fusion sel 3.0l (250hp) 1\n",
            "Keystone Outback 1\n",
            "a8 l 4dr sdn 3.0t 1\n",
            "isuzu i290 1\n",
            "Monaco Diplomat 1\n",
            "nx nx 300h 1\n",
            "1971 V.W. BEETLE 1\n",
            "2000 Isuzu box truck 1\n",
            "International Durastar 1\n",
            "cruze lt w/1lt full p 1\n",
            "e-class e 350 luxury bluetec automatic 1\n",
            "super delux coupe 1\n",
            "f 150 fx4 4x4 supercrew 1\n",
            "van box truck 1\n",
            "ridgeline sport awd 1\n",
            "flex sel wagon 1\n",
            "golf gti 2.0t s 1\n",
            "mk9 1\n",
            "genisis 1\n",
            "3500 kaufman 1\n",
            "Chysler Sebring 1\n",
            "corvette zr1 3zr 1\n",
            "connect xlt 1\n",
            "mustang 2dr fastback ecoboost 1\n",
            "fleetwood sixty special 1\n",
            "isuzu nrr refrigerated van 1\n",
            "odyseey vtec 1\n",
            "acadia awd denali 1\n",
            "2002 yukon XL 1\n",
            "escalade esv premium l 1\n",
            "Citron DS-21 1\n",
            "5500 4x4 utility 1\n",
            "s60 fwd 4dr sdn t5 1\n",
            "g 35x awd 1\n",
            "pilot ex 4wd w/ leather 1\n",
            "Jonway  Urbee 1\n",
            "grand cherokee summit nav 1\n",
            "1925 Model TT Dump Truck 1\n",
            "2005 g35 coupe 1\n",
            "Z/28 1\n",
            "a6 4dr sdn quattro 3.0t pr 1\n",
            "yaris rs 1\n",
            "2008 ROLLS ROYCE PHANTOM 1\n",
            "200 limited/navigation 1\n",
            "mkt 4dr wagon 3.5l w/e 1\n",
            "gs450h 1\n",
            "taurus xl 1\n",
            "foxbody 1\n",
            "fj cruiser trail team ttse rare 2-owner 1\n",
            "challenger r/t 2dr coupe 1\n",
            "1968 Impala 1\n",
            "Western Star 4700SD 1\n",
            "shadow spirit 1\n",
            "International 4300 SBA 4 1\n",
            "taurus sel x 1\n",
            "51 mercury, 2018 trailer 1\n",
            "cruze 2lt auto 4dr 1\n",
            "sl63 1\n",
            "m3 base 1\n",
            "1984 Westfalia 1\n",
            "q60 3.0t luxe 1\n",
            "cts 3.6l di 1\n",
            "rx 400h base awd 1\n",
            "SL500 1\n",
            "gsx & gn 1\n",
            "town car executive l 1\n",
            "x5 35i x drive sport 1\n",
            "Ranchero 1\n",
            "American Motors 1\n",
            "Murcury Mountaineer 1\n",
            "murano le awd 3.5 v6 1\n",
            "marineer,premier 1\n",
            "328xdrive 1\n",
            "Samurai JLX 1\n",
            "Sierra Denali 1\n",
            "2013 Silverado 2500 1\n",
            "frontier, extended cab 1\n",
            "5 window 1\n",
            "MACL RD SERIES 1\n",
            "eclipse gts spyder 1\n",
            "transit 350 hr 1\n",
            "mazda3 4-door sport 1\n",
            "terrain 4dr slt w/slt-1 1\n",
            "discovery series ii 1\n",
            "camry sesedan 1\n",
            "super duty f-450 xl 1\n",
            "transit connect cargo xlt 4 1\n",
            "pathfinder xe 4dr xe 1\n",
            "durango sxt plus sport 1\n",
            "3 series 325xi awdsedan 1\n",
            "f-350 super duty crew 1\n",
            "pop convertible 1\n",
            "sedona sel 1\n",
            "cruze lt fwd gas auto 1\n",
            "sienna le ada braun conversion deep floors wheel chair 1\n",
            "lacrosse premium i sedan 1\n",
            "f-150 extra cab 1\n",
            "tlx 4dr sdn fwd v6 advanc 1\n",
            "power wagon 2500 slt 1\n",
            "rav4 limited 4dr suv 1\n",
            "ridge line 1\n",
            "catalina 400 1\n",
            "renegade latitude sport ut 1\n",
            "model 70 1\n",
            "international  4300, 4700 1\n",
            "highlander 4dr v6 le 1\n",
            "civic lx manual 1\n",
            "xjr s 1\n",
            "seirra grande 1500 1\n",
            "tacoma double cab 6 ft 1\n",
            "SMART EQ FORTWO 1\n",
            "1994 Mustang GT Convertible 1\n",
            "terrain slt diesel sport 1\n",
            "1999 Plymouth Voyager 1\n",
            "gsf 1\n",
            "prius v three hybrid i4 fwd 1\n",
            "morris minor 1000 1\n",
            "1988 Fire bird formula 1\n",
            "4.6 1\n",
            "srx v-6 wagon 1\n",
            "tahoe ls 2wd 1\n",
            "traverse lt-2 *fr $499 down guaranteed finance 1\n",
            "Hyundia Sonata 1\n",
            "envoy 4wd sle 1\n",
            "04 Colorado 1\n",
            "MASERATI RANDTURISMO 4.7L 1\n",
            "f-150 lariat lariat 4dr sup 1\n",
            "2111 1\n",
            "journey se blacktop 1\n",
            "SUZUKI SIDEKICK 1\n",
            "aero 2 door sedan 1\n",
            "envoy xl 4wd 1\n",
            "voltswagon beetle convertible 1\n",
            "benz 560 sl 1\n",
            "V.W. Jetta S 1\n",
            "rainier cxl plus 1\n",
            "outlander gt 1\n",
            "corolla special edition 1\n",
            "Cashforcar 1\n",
            "sebring 4-door 1\n",
            "glk glk350 4matic 1\n",
            "allroad 2.7t awd 1\n",
            "silverardo 1\n",
            "mutsubishi outlander 1\n",
            "spark hatchback 1\n",
            "benz e320 sport 1\n",
            "e350 extended club wagon 1\n",
            "Tacoma t100 1\n",
            "superdury 1\n",
            "cooper roadster s 1\n",
            "Inernational 3200 1\n",
            "sonata limited￼ 1\n",
            "amc rebel machine 1\n",
            "jetta tdi premium 1\n",
            "ranger fx4 4/4quad cab 1\n",
            "2006 mercedez benz r-350 1\n",
            "x5 4.8i awd 1\n",
            "Rolls-Royce silver spirit 1\n",
            "acadia fwd 4dr sle1 1\n",
            "Citron 2CV 1\n",
            "tc 4500 1\n",
            "cooper john cooper 1\n",
            "Sterling Truck Acterra M5500 1\n",
            "1986 isuzu trooper 1\n",
            "Frieghtliner m2 1\n",
            "1972 Plymouth Satellite 1\n",
            "f250 xl 4x4 diesel 1\n",
            "3i grand touring hatchback 1\n",
            "G20 1\n",
            "m3 e46 1\n",
            "lx 470 4dr suv 1\n",
            "2012 f250 1\n",
            "245 glt 1\n",
            "outbback awd 1\n",
            "ww2 1\n",
            "4x4 van awd 1\n",
            "94 Suburbans Diesels 1\n",
            "Patriot Latitude 4x4 1\n",
            "tacoma double cab long be 1\n",
            "touareg vr6 sport 1\n",
            "06 Colorado Extreme 1\n",
            "outback touring 1\n",
            "Maserati 2007  QUATROPORTE 1\n",
            "odyssey touring blue 1\n",
            "Volkwagen CC 1\n",
            "benz ml320 4wd 1\n",
            "NISSAN/INFINITI-G35 1\n",
            "crosstour awd exl 1\n",
            "camaro ls 2d 1\n",
            "silverado 1500 quad 4x4 1\n",
            "impala wagon 1\n",
            "f150 4x4 xlt 4wd f-150 1\n",
            "clk 430 1\n",
            "sierra 1500 single cab 4x4 1\n",
            "malibu lt turbo 1\n",
            "c-max energi se 1\n",
            "benz e500 awd sedan 1\n",
            "1969 El Camino 1\n",
            "3500 cummins diesel 1\n",
            "f-350 super duty / flat bed / crew cab / 4x4 / 7.3l / powerstroke turbo diesel / 6 speed manual / 1-ton / lifted 1\n",
            "cooper clubman s edition 1\n",
            "ranger xlt supercab 1\n",
            "xc60 t5 inscription 1\n",
            "pickup sr5 1\n",
            "Van Trailer 1\n",
            "prius hybrid v 1\n",
            "mallinia 1\n",
            "rava 4wd xle 1\n",
            "silverado k-1500 1\n",
            "1984 CJ-7 1\n",
            "sierra 1500 sle1 crew cab 4w 1\n",
            "sierra1500 crewcab 4x4 1\n",
            "compass 2007 1\n",
            "charger sxt plussedan 1\n",
            "tundra 4x4 half ton gas 1\n",
            "corolla xle sedan 4d 1\n",
            "F250 superduty 1\n",
            "e-250 xlt econoline van 1\n",
            "econoline wagon xlt 1\n",
            "2021 Tiguan 2.0T SE 1\n",
            "benz 300 ce 1\n",
            "civic i4 ex fwd 1\n",
            "1967 corvair 1\n",
            "s60 t6 r design 1\n",
            "Keystone Sprinter 26RB Campfire 1\n",
            "savana cargo van hd 2500 1\n",
            "prius prime le (natl) 1\n",
            "1993 Mustang 1\n",
            "journey ut 1\n",
            "benz 280c 1\n",
            "town car designer 1\n",
            "willys cj-5 1\n",
            "nova ss v8 4 speed manual leather rally wheels a/c 1\n",
            "300 td wagon 1\n",
            "1500 orange 1\n",
            "durango sxt 3.6l 3/s 1\n",
            "forester 2.0xt touring aw 1\n",
            "f-350 xlt regular cab 1\n",
            "sentra 2.0 sl cvt 1\n",
            "sonata limited v6 1\n",
            "accord ex-l v-6 1\n",
            "fusion 4dr sdn sel fwd 1\n",
            "sierra 2500 slt 6.6l duramax diesel 4x4 1\n",
            "1992 g10 van 1\n",
            "suburban 1500 4x4 5.3l. 1\n",
            "cj7 renegade 1\n",
            "chevolet silverado 3500HD 1\n",
            "mack rd688s 1\n",
            "1/2 ton pickup 1\n",
            "m880 power wagon 1\n",
            "dart ralley 1\n",
            "accord ex leather 2.4l automatic heated leather moon 1\n",
            "gl 350 bluetec 1\n",
            "forte 5 sxt gdi turbo 1\n",
            "z3 roadster convertible 1\n",
            "f-350crew cab 4x4 diesel 1\n",
            "1923 Dort Coupe 1\n",
            "custom cab 1\n",
            "1929 ssk replica 1\n",
            "camaro lt 1 1\n",
            "International 100 1\n",
            "express 1500 van 1\n",
            "xterra xe v6 4wd 1\n",
            "q5 3.2l prestige 4wd/tech 1\n",
            "corolla “s” 1\n",
            "cxl 1\n",
            "1952 Willys M38 1\n",
            "CHRYSTLER SEBRING 1\n",
            "fiesta/at 1\n",
            "f-250 super duty 4wd crew c 1\n",
            "xv crosstrek limited awd 1\n",
            "eos final edition 1\n",
            "y performance 1\n",
            "Cherolet Corvette 1\n",
            "♿ 1\n",
            "hhr panel wagon 1\n",
            "avalon xle v6 fwd 1\n",
            "accord ex-l*leather*moon 1\n",
            "e350 2016 1\n",
            "xc90 3.2 versatility pkg 1\n",
            "AM General M151A2 1\n",
            "mustang ii 1\n",
            "tahoe 4x4 5.3l vortec 1\n",
            "terrain awd 4dr sle 1\n",
            "sierra or silverado. 1\n",
            "f150 stx 4wd pickup truck 1\n",
            "civic coupe sport cvt 1\n",
            "dav supercrew 1\n",
            "2500 crew cab laramie 4wd diesel 1\n",
            "c1500 silverado 1\n",
            "450 slc 1\n",
            "s60 cross country t5 awd 1\n",
            "fit ex-l 5 doors only 54k leather moon gps 2 owner 1\n",
            "step 30 series 1\n",
            "xf 43,000 miles 1 owner 1\n",
            "e-350 xl super duty 1\n",
            "e-series cargo e 250 1\n",
            "rav4 ltd 1\n",
            "mustang gt deluxe 2dr 1\n",
            "2500 laramie 4wd 6.7 cummins diesel lifted on 37 1\n",
            "trans sport 1\n",
            "5-series 535i gt 1\n",
            "tlx a-spec 1\n",
            "terrain slt1 1\n",
            "4runner leather 3rd seat 1owner 1\n",
            "hiace 4wd 1\n",
            "turus 1\n",
            "escape hybrid 4x4 1\n",
            "Corvette 1LT Coupe 1\n",
            "legacy 2.2l wagon 1\n",
            "xc90 2.5 t 1\n",
            "fors f100 & 2011 crown vic 1\n",
            "Kenworth T600 1\n",
            "1975 nova 1\n",
            "silverado 1500 3dr ext cab 143.5\" wb ls 1\n",
            "forte sedan 1\n",
            "smart Fortwo electric drive Pas 1\n",
            "TUNDRA  SR5  4WD  5.7L  CLEAN 1\n",
            "travelmaster 1\n",
            "2010 SEMA Build 1\n",
            "E 320 Wagon 1\n",
            "flex limited 4dr crossover 1\n",
            "is-350 1\n",
            "mkc suv awd 1\n",
            "passat 2.0 turbo 1\n",
            "e350 amg awd 1\n",
            "g37x sport awd 1\n",
            "Toy suv 1\n",
            "silverado 2500hd 44km utility box 1\n",
            "sport 4wd 4dr hse 1\n",
            "patriot awd 1\n",
            "fusion se*cam*leather*ecob 1\n",
            "Stewart & Stevenson 1\n",
            "wrx sti limited awd 1\n",
            "clk55 5.5l amg 1\n",
            "murano awd 4dr s 1\n",
            "elantra selsedan 1\n",
            "Scoin XD 1\n",
            "gti fahrenheit i4 turbo fwd 1\n",
            "libert limited 1\n",
            "highl 1\n",
            "xterra xe 4wd 1\n",
            "1998 mustang 1\n",
            "Diahatsu 1\n",
            "w55 1\n",
            "K2pu 1\n",
            "xjs convertable 1\n",
            "grand caravan se fwd 1\n",
            "fx4 sport f15o 1\n",
            "Club car 4 seater 1\n",
            "excursion 7.3 1\n",
            "f150 xl single cab 1\n",
            "8cl 1\n",
            "ilx 2.0l w/techsedan w/ 1\n",
            "eqinox ls 1\n",
            "wrx awd gas sedan manual 1\n",
            "21011 1\n",
            "traverse ls awd 3rd 1\n",
            "Hummer H2 4x4 1\n",
            "x5 m base 4dr suv 1\n",
            "s500 class w140 1\n",
            "mustang gt 350 1\n",
            "excursion xlt 4wd 1\n",
            "tl 3.2 w/navi 1\n",
            "2500 slt 4x4 mega cab 6'4\" box 1\n",
            "rnger 1\n",
            "benz c63s amg 1\n",
            "grand am gt1 1\n",
            "Oldsmobile Bravada 4x4 1\n",
            "travers ls 1\n",
            "OLDS 442 1\n",
            "1500 rebel 4x4 1\n",
            "c300 luxury 4matic 1\n",
            "f-350 flatbed drw liftgate 1\n",
            "f 450 super duty 1\n",
            "c-5500 38 foot utility 1\n",
            "2015 FreightLiner 1\n",
            "1500 reg cab 1\n",
            "super duty f250 srw 1\n",
            "mdx fwd 7-passenger w/tec 1\n",
            "f-150 fx4 super crew 1\n",
            "3GTEC13C78G284338 1\n",
            "f 1\n",
            "xj6 xjs12 1\n",
            "panel 3800 1\n",
            "SL CLASS 500 SL 1\n",
            "davidson sportster 1\n",
            "silverado 2500hd 8.1 liter 1\n",
            "q5 2.0t prem plus quattro 1\n",
            "legacy gt wagon 1\n",
            "m35 x 1\n",
            "dts premium 1\n",
            "VAN CONVERSION 1\n",
            "1989 Saab 9000 CD turbo 1\n",
            "kona ev ultimate 1\n",
            "g35 sedan g35 4dr sdn auto 1\n",
            "golf tdi 2.0l 1\n",
            "escape 4wd 4dr i4 auto xls 1\n",
            "911 carrera 4 cabriolet 1\n",
            "School Bus 1\n",
            "brothers 1\n",
            "forte5 sxhatchback 6m 1\n",
            "2500 hd 4.8l v8 cargo 1\n",
            "Oldsmobile 88 Stock# P1040 1\n",
            "ct6 platinum 1\n",
            "charger 3.5 1\n",
            "2000 international 1\n",
            "cooper s turbo 1\n",
            "blazer 4 door 1\n",
            "Morris  minor 1\n",
            "DUC CLA 1\n",
            "type iii 1\n",
            "370z coupe nismo 1\n",
            "es 350 ultra luxury 1\n",
            "f550 super duty crew cab h 1\n",
            "sante fe - se 1\n",
            "fj cruiser 4x4 lifted long travel suspension 1\n",
            "Trade ins 1\n",
            "taurus SHO 1\n",
            "1995 Mustang 1\n",
            "coupe de ville 62 1\n",
            "highlander limited platinum v6 awd (natl) 1\n",
            "freightliner fl112 1\n",
            "focus ses 5dhb 1\n",
            "Shasta Flyte 1\n",
            "200 4dr sdn s fwd 1\n",
            "FREIGHTLINER ALTEC BUCKET TRUCK 1\n",
            "grand marquis flex fuel 1\n",
            "1500 slt crew cab swb 4wd 1\n",
            "94 t bird 1\n",
            "s sport cayenne 1\n",
            "maserati sypder 1\n",
            "fusion awd v6 1\n",
            "expedition eddie bauer4x4 1\n",
            "f550 4x4 flat bed diesel 1\n",
            "camry 4dr.xle 1\n",
            "acadia awd 4dr slt1 slt 1\n",
            "ASTRO VAN 1\n",
            "WVWWF7AU5HW191345 1\n",
            "volkswagon eurovan 1\n",
            "Aura tl 1\n",
            "q7 quattro 1\n",
            "s-class 5.5l v12 1\n",
            "sil 1\n",
            "Promaster City 1\n",
            "terrain slt suv 1\n",
            "i3 giga 1\n",
            "ats performance rwd 1\n",
            "mustang gt 5.0 premium 1\n",
            "f-150 maxed out 4x4 eco 1\n",
            "3500 dooley 1\n",
            "accordem ex 1\n",
            "mkx reserve awd automatic 1\n",
            "lacrosse sport 1\n",
            "sierra durmax 2500 all 4x4 1\n",
            "transit connect wagon xlt premium 1-owner high roof rear wheelchair ramp ada lowered floor van 1\n",
            "m715 1\n",
            "maserati quattroporte gts 1\n",
            "lifted gladiator sport 4x4 1\n",
            "AWD 1\n",
            "benz e320 4-matic 1\n",
            "pathfinder wd dr s 1\n",
            "3 series 330i xdrive automatic 1\n",
            "Yukon Tahoe 1\n",
            "x6~ only 62k miles~ brown leather~ clean carfax~ l 1\n",
            "civic hybrid mx 1\n",
            "87 s-10 1\n",
            "aoutlok 1\n",
            "MG MGA 1\n",
            "Plymouth Duster V-8 318 1\n",
            "xj cherokee 1\n",
            "altima 2.5 s automatic 1\n",
            "Plymouth Savoy 1\n",
            "forester xt premium awd 1\n",
            "Escape XLT 1\n",
            "rx 350 premium suv 1\n",
            "mustang gt350 tribute 1\n",
            "city express cargo va 1\n",
            "Oreion Reeper 1\n",
            "tlx 3.5l technology pkg 1\n",
            "pilot ex-l 2wd 1\n",
            "tucson gls awd 1\n",
            "sierra 1500 crew cab 143.5 1\n",
            "g37 base 5-speed automatic 1\n",
            "sprinter 2500 pas 1\n",
            "1500 sport 4x4 5.7l hemi v8 1\n",
            "Any make n model 1\n",
            "rangerover sport 1\n",
            "cruze ls sedan 1\n",
            "dakota quad cab sport 3.7 1\n",
            "2000 OR NEWER 1\n",
            "econoline 350 1\n",
            "420 sel 1\n",
            "f-450sd xl drw crew cab 1\n",
            "2010 LS460 1\n",
            "mazdaspeed3 sport 4dr wag 1\n",
            "sonata sport sedan 1\n",
            "535 gt 1\n",
            "c.o.e 1\n",
            "crosstrek limited awd 1\n",
            "echosport 1\n",
            "m.b. model willis 1\n",
            "Woodill Wildfire 1\n",
            "tacoma 73k 1\n",
            "sierra 3500 crew cab 1\n",
            "x5 xdrive 5.0i 1\n",
            "outback limited automatic 1\n",
            "b150 1\n",
            "hd2500 1\n",
            "s40 2.4i sedan 1\n",
            "mustang ecoboost manual 1\n",
            "sierra c 3500 cube 1\n",
            "ghia coupe 1\n",
            "lancer evolution gsr turbo 5 speed manual cobb tuner exht 1\n",
            "Smart for Two Electric Drive 1\n",
            "2500 suburban 1\n",
            "crv-l 1\n",
            "edge 4dr sel 1\n",
            "1500 laramie longhorn*leath 1\n",
            "Suzuki samurai 1\n",
            "cr-v ex-l w/navi awd 1\n",
            "tacoma double cab trd of 1\n",
            "cayenne/4wd/nav.. 1\n",
            "2015 peterbilt 1\n",
            "sedona+ 1\n",
            "golf se 1\n",
            "2008 f350 dually 1\n",
            "240 sedan 4d 1\n",
            "Flexible down payment 1\n",
            "4runner trd pro - suv 1\n",
            "srx 4dr luxury collec 1\n",
            "VOLASWAGEN TIGUAN 4MOTION 1\n",
            "1500 laramie 4x4 crew cab 57 1\n",
            "rav4 xle 4dr suv 1\n",
            "Prius 4 1\n",
            "c3500hd utility 1\n",
            "stealth base 1\n",
            "f-350 super duty xlt 4dr supercab xlt 1\n",
            "vnl630 1\n",
            "lac XT5 1\n",
            "740/gl 1\n",
            "mark penalty 1\n",
            "2008 Ben 328i 1\n",
            "regal grand sport 1\n",
            "MGB convertible 1\n",
            "DTS 1\n",
            "w350 1\n",
            "330 ci convertible 1\n",
            "Benz GLC300 1\n",
            "corolla matrix xr vibe 1\n",
            "SAAB 9-3 2.0TSedan 1\n",
            "Freightliner International 1\n",
            "quad cab 1500 big horn 1\n",
            "tundra accesscab v8 sr5 1\n",
            "benz wagon 1\n",
            "CHEV. 1500 4X4 1\n",
            "f-450 xlt 1\n",
            "c-class sport 1\n",
            "FREIGHTLINER Sprinter Cargo Vans 1\n",
            "outback ** 5 speed manual** super clean!! 1\n",
            "b-series 4wd truck 1\n",
            "BMW/3 SERIES 1\n",
            "f350 dump truck 1\n",
            "silverado 2500 diesel 1\n",
            "Carpet Cleaning 1\n",
            "f150 fx/2 sport 1\n",
            "wrangler unlimited sport manual 1\n",
            "tiguan 2012 1\n",
            "cruze lt*fuel economy 1\n",
            "550xi (443hp) twin turbo 1\n",
            "f-250 4x4 7.3 1\n",
            "3500 dually cummins 1\n",
            "kubota rtv x900 1\n",
            "tiguan sel/4wd 1\n",
            "82 f150 1\n",
            "3 series 328i 2dr convertib 1\n",
            "Merceds CLA 250 1\n",
            "martin v8 vantage base 1\n",
            "ai Kona 1\n",
            "des-Benz GLE 1\n",
            "c-8500 tandem 10 yard dump truck with knuckle boom 1\n",
            "1986 International 1\n",
            "supra - coupe hatchback 1\n",
            "a3 mechanic only 1\n",
            "AVALANCE NORTH FACE 1\n",
            "sebring 2d convertible 1\n",
            "380slc 1\n",
            "silverado 1500 truck 1\n",
            "7 litre 428 1\n",
            "f-450 super duty king ranch 1\n",
            "pathfinder sv* 1\n",
            "5 series 550i xdrive sedan 1\n",
            "300 k 1\n",
            "335i xdrive m-sport 1\n",
            "Jeep, Rubicon 1\n",
            "invita 1\n",
            "tacoma access 128\" v6 auto 4wd (natl) 1\n",
            "xt5 $391 month, 37k miles luxury, panoramic roof, nav $391 month, luxury, only 37k miles 1\n",
            "sierra duramax 3500 4x4 1\n",
            "forester limited 2010 1\n",
            "s4 quattro premium plus 1\n",
            "Club car golf cart 1\n",
            "2005 3500. Utility van 1\n",
            "Wolkswagen 1\n",
            "cruze 4dr sdn lt 1\n",
            "1968 C10 1\n",
            "express 1500 w/ doors 1\n",
            "mariner fwd 1\n",
            "bentz slk 350 1\n",
            "traversa 1\n",
            "3 series 335i xdrive 4dr s 1\n",
            "rav4 limited 4x4 v6 1\n",
            "camry se 4-dr sedan 1\n",
            "Tracker 500 side by side 1\n",
            "rubicom 1\n",
            "stewart stevenson LMTV 1\n",
            "roadmaster sedan 1\n",
            "s60 t6 momentum 1\n",
            "buy here pay here 1\n",
            "aura hybrid 1\n",
            "glc-class glc300 1\n",
            "z4 3.0 sdrive 1\n",
            "liberty sport 4x2suv 1\n",
            "Mazda6 wagon 1\n",
            "master ace surf 1\n",
            "1979 triumph spitfire 1\n",
            "mustang 2dr conv gt deluxe 1\n",
            "THUNDERBIRD  50TH ANV. 1\n",
            "corolla s. 1\n",
            "2015 Stingray 1\n",
            "base 1\n",
            "corvair spyder 1\n",
            "stratus es 1\n",
            "ex37 1\n",
            "1500 hemi express 1\n",
            "savana conversion van 1\n",
            "sierra xlt crew 1\n",
            "e 450 1\n",
            "hemi 4x4 crew 1\n",
            "camary se v6 1\n",
            "Toyata Land Cruiser 1\n",
            "100 wagon 1\n",
            "cooper hardtop 2dr 1\n",
            "jetta sel pzev 4dr sedan 1\n",
            "s60 t5 premier sedan 1\n",
            "patriot sport 4d 1\n",
            "frontier standard 1\n",
            "g2500 vans 1\n",
            "1965 falcon 1\n",
            "beetle 1.8t wolfsburg 1\n",
            "jetta 2.0t gli sel 1\n",
            "escalade platinum esv 1\n",
            "titan svcrew cab 1\n",
            "trax awd 4dr premier 1\n",
            "sierra 2500hd 4wd crew cab 153.7\" slt 1\n",
            "series 5 535i 1\n",
            "benz 400e 1\n",
            "2020 F350 STX 1\n",
            "clk 500 1\n",
            "impreza wrx sti sedan only 80k heated seats 1 owner 1\n",
            "imapa lt 1\n",
            "wranlger 1\n",
            "forte ex gdi 1\n",
            "ranger 2wd reg cab 112\" xl 1\n",
            "Yamaha XVS1100 1\n",
            "charger sxtsedan 1\n",
            "3 series * - low miles - 1 1\n",
            "escalade 2011 1\n",
            "MACK CXU 1\n",
            "TOWMOTOR BHF20 1\n",
            "535d 1\n",
            "2003 F250 SUPER DUTY 4 DOOR 1\n",
            "odyssey ex-l auto 1\n",
            "280s 1\n",
            "mustang ecoboost premium convertible gps leather only 30k 1\n",
            "1958 F-250 1\n",
            "plymouth valiant scamp sport 1\n",
            "f-250 xlt lariat 1\n",
            "2005 sebring 1\n",
            "hyudai elantra gls 1\n",
            "xc90 3.2 sport utility 4d 1\n",
            "xc90 awd 2.5t 1\n",
            "davidson dyna fat bob 1\n",
            "Saab 9-5 Linear 1\n",
            "Sedan 1\n",
            "Custom built 1\n",
            "128 i coupe 1\n",
            "/ durango sport 1\n",
            "2500 laramie quad cab / 4x4 / 5.9l cummins diesel / 5-speed manual / new moto metal wheels / new tires / lifted !! 1\n",
            "tdi jetta golf sportwagen 1\n",
            "s5 2dr cpe auto 1\n",
            "70 MGB 1\n",
            "orte 1\n",
            "internacional 4300 1\n",
            "miata grand touring 1\n",
            "1500 sierra all-terrain 1\n",
            "f-150 lariat 2wd 1\n",
            "mustang rousch 1\n",
            "silverado 1500 custom automatic 1\n",
            "cts luxury rwd gas auto 1\n",
            "f-250 4wd 1\n",
            "Isuzu NPR DSL REG AT LSD 1\n",
            "f-150 lariat fx4 1\n",
            "sierra 2500hd denali crew 1\n",
            "1960s 1\n",
            "Yukon XL Denali 3rd row 1\n",
            "fit lx cvt 1\n",
            "1981 TRI-MAGNUM 1\n",
            "jetta sedan 1.8t spor 1\n",
            "s 500 1\n",
            "aspin 1\n",
            "c7500 enclosed service truc 1\n",
            "pilot touringawd 1\n",
            "q5 3.2l prem plus 1\n",
            "highlander le - awd suv - local - clean car fax 1\n",
            "Crx hf 1\n",
            "santa fe se sport utility 4d automatic 1\n",
            "f350 super duty super cab & chassis 1\n",
            "highlander ltd 1\n",
            "5500 sy chassis diesel 1\n",
            "f-250 super duty xl 4x4 1\n",
            "Sterline Acterra 1\n",
            "ranger xlt 4x4 4dr 1\n",
            "peterbilt 335 1\n",
            "Promaster 2500 High 1\n",
            "Triumph 1\n",
            "savana 3500 dual wheels 1\n",
            "utlity 1\n",
            "xts professional 1\n",
            "x1 xdrive28i apple car play 1\n",
            "rogue rv 1\n",
            "deuce sedan 1\n",
            "6 series 640i gran coupe 4d 1\n",
            "f-250 supert duty xlt 1\n",
            "cla250 coupe 1\n",
            "550i f10 1\n",
            "rav4 4x4 3rd row seating 1\n",
            "Hyundia Accent 1\n",
            "a8 w12 1\n",
            "benz e430 4matic 1\n",
            "CHEROLET 1\n",
            "q5 murano 1\n",
            "3 series m3 2dr convertible 1\n",
            "pilot ex-l w/honda sensing 1\n",
            "liberty sport 4×4 1\n",
            "aura xe 4 door sedan 1\n",
            "2004 F150 XLT 1\n",
            "crvlx 1\n",
            "f-550 super duty xlt 1\n",
            "explorere 1\n",
            "yukon denali sport 1\n",
            "equinox ls automatic 1\n",
            "sonata se*fuel economy! 1\n",
            "2509 hd silveradt 1\n",
            "1980 camaro 1\n",
            "CAMARO 2SS 1\n",
            "1986 cutlass supreme brougham 1\n",
            "c 2500 1\n",
            "murano 2017.5 awd s 1\n",
            "Mecdes Benz 560 SEC 1\n",
            "forte lx plus 1\n",
            "Volkswagens JETTA SE 1\n",
            "e350 16ft box truck 1\n",
            "Cadilllac Eldorado 1\n",
            "fj cruiser bad credit 1\n",
            "E 30 Box Trauck 1\n",
            "international 4600 1\n",
            "benz clk350 coupe 1\n",
            "MERCECES-BENZ E 320 1\n",
            "m135 1\n",
            "q7 v8 prestige 1\n",
            "John 18' Goose/ Car hauler 1\n",
            "impala lt (fleet 1\n",
            "2500 quad cab 160.5 1\n",
            "Hundaui Elantra 1\n",
            "coopers s countryman 1\n",
            "Expedición 1\n",
            "3500 4x4 bighorn cummins 6.7 1\n",
            "1500 tradesman 4x2 regular cab 8' box 1\n",
            "matric 1\n",
            "benz sl 560 1\n",
            "impala 4dr sdn 3.5l lt 1\n",
            "outback 2.5i awd legacy 1\n",
            "impala 4dr sdn 1\n",
            "soul ev base 1\n",
            "OLDS BRAVADA 1\n",
            "international pro star 1\n",
            "4runner venture sport 1\n",
            "g37 sport coupe 1\n",
            "rav4 sport v6 1\n",
            "3500 cummins 4x4 crew cab 1\n",
            "ecosport titanium wd 1\n",
            "cx-5 touring fwd 1\n",
            "Wayne Krause 1\n",
            "outback limited edition 1\n",
            "6500 topkick 1\n",
            "rio 5-door lx 1\n",
            "yukon slt w/4sb 1\n",
            "fiesta st fwd gas hatchback 1\n",
            "yukon 4wd 4dr denali 1\n",
            "MG - MGB 1\n",
            "FJ Cruiser 1\n",
            "comercial cutaway 1\n",
            "(210) 1\n",
            "3500hd st 1\n",
            "a4 2.0 1\n",
            "4runner trd pro 4wd (natl) 1\n",
            "juke - sl awd 1\n",
            "m68 1\n",
            "sienna minivan 1\n",
            "DENALI HD 1\n",
            "vln 1\n",
            "f 150 xlt super crew 1\n",
            "Coleman Aircraft Tug MB-4 1\n",
            "cushman white van 1\n",
            "924s special edition 1\n",
            "fit lx,hatchback,1 owner,a 1\n",
            "1992 wrangler 1\n",
            "1500 big horn diesel 1\n",
            "miata mx-5 club sport 1\n",
            "880 1\n",
            "f50 lariat 4wd 1\n",
            "sports sedan 1\n",
            "voyager l 1\n",
            "1932 Riley Convertible 1\n",
            "Mercedez Benz ML 350 1\n",
            "tribute i grand touring 1\n",
            "altima 2.5 s*back up cam 1\n",
            "3500 express 1\n",
            "xt5 fwd 4dr premium luxury 1\n",
            "EZ-GO Golf Cart 1\n",
            "q7 3.6 quattro 1\n",
            "3500 stake truck 1\n",
            "200 3.6l convertible 1\n",
            "taycan 1\n",
            "f350 powerstroke xlt fx4 1\n",
            "benz 560sec 1\n",
            "wrangler rubicon 4d 1\n",
            "pickup 1500 slt1 1\n",
            "pickup 1500 sport 1\n",
            "benz ml350 awd 1\n",
            "XJS Vanden Plas 1\n",
            "accord se w/htd leather 1\n",
            "nx 300 just gorgeous,1 own 1\n",
            "1969 1\n",
            "Steyr-Puch Pinzgauer 710M 1\n",
            "Cevey venture 1\n",
            "1952 Plymouth Cranbrook 1\n",
            "335i 335i 1\n",
            "silverado k2500 4x4 pickup 1\n",
            "86 shortbed silverado 1\n",
            "camaro 1ss 1le 1\n",
            "c300 luxuruy 1\n",
            "yukon xl sle 4x4 1\n",
            "ATI 1\n",
            "grand cherokee srt-8 4x4 1\n",
            "f150 fx4 4x4 supercrew 1\n",
            "s2000 rwd gas convertible 1\n",
            "accord ex-l v6 auto 1\n",
            "lighting 1\n",
            "f-150 access cab 1\n",
            "legacy 4dr sdn h4 auto 2 1\n",
            "rc350 fsport 1\n",
            "c-class c 63 s am 1\n",
            "20 1\n",
            "f-350 4x4 mason dump truck 1\n",
            "aviator black label 1\n",
            "2003.  2006 1\n",
            "focus st*2.0l*black in bla 1\n",
            "tahoe 4x4 ltz 4dr suv loaded dvd leather moon roof 1\n",
            "escalade awd 4dr suv 1\n",
            "Frod ranger 1\n",
            "civic lxsedan 5a 1\n",
            "cherokee fwd 4dr latitude 1\n",
            "cherokee 4dr trailhawk 1\n",
            "2500 tradesman 4wd 1\n",
            "patriot. latitude 1\n",
            "olet 4500HD LCF Diesel 1\n",
            "Just Soul 1\n",
            "3-series 328i xdrive gran t 1\n",
            "deville coupe 2d 1\n",
            "3 series **navigation, 1\n",
            "e36 m3 sedan 1\n",
            "cj-6 1\n",
            "sienna awd van 1\n",
            "studebaker commander 1\n",
            "tuscon gls 1\n",
            "jetta hybrid sel premium--we finance!! 1\n",
            "frontier crew cab 4x2 sv auto 1\n",
            "cherokee trailhawk l plus 1\n",
            "welder 225 ac 1\n",
            "navigator bl 1\n",
            "traverse 1lt 1 owner 1\n",
            "explorer xlt. 4wd 1\n",
            "asto awd 1\n",
            "5-x 1\n",
            "fivehundred 1\n",
            "qx80 limited awd 1\n",
            "discover 2 1\n",
            "2003 Freightliner FL 70 1\n",
            "Variety 1\n",
            "qx60 awd nav 1 owner 1\n",
            "1979 1\n",
            "ISUZU NPR 2015 1\n",
            "revel 1\n",
            "2500 3/4 ton 1\n",
            "tacoma (2.7l) 1\n",
            "jetta tdi sportswagen 1\n",
            "f-150 xlt super 1\n",
            "f350 dually utility 1\n",
            "Hummer 3 1\n",
            "oldmobile cutlass supreme 1\n",
            "crv touring awd 1\n",
            "Yukon SLT 1500 1\n",
            "pilot exl dvd 1\n",
            "f350 xl diesel 4x4 1\n",
            "xv crosstrek manual 1\n",
            "135000 1\n",
            "outback wagon limited 1 owner nice!! 1\n",
            "impala police package 1\n",
            "American Motor Company 1\n",
            "z3 3.0i 1\n",
            "escape titanium automatic 1\n",
            "4runner sr5**leather*moo 1\n",
            "g3500 express rwd 1\n",
            "x-3 1\n",
            "sera 1\n",
            "3100 5 window 1\n",
            "2003 H2 1\n",
            "SANTA FE LIMITED 1\n",
            "MB SL 400 1\n",
            "sixty-two series 1\n",
            "1950 Plymouth Coupe 1\n",
            "sentra sv fwd gas sedan 1\n",
            "f-150 stx supercrew 1\n",
            "focus zx3 base 1\n",
            "d13 1\n",
            "1C4RJFLG6JC191200 1\n",
            "1500 st express black 1\n",
            "4x4- club cab 1\n",
            "xc70 t6 1\n",
            "charger r/t 4dr sedan 1\n",
            "4runner limited 4dr limited 1\n",
            "2008eos lux 1\n",
            "accord ex 2dr coupe 5a 1\n",
            "MG TD kit car 1\n",
            "F150 Lariat crewcab 4x4 1\n",
            "e class 4matic 1\n",
            "silsverado 1500 z71 1\n",
            "element ex 2wd 1\n",
            "tlx 2.4l fwd w/a-spec pkg 1\n",
            "hightop e series 1\n",
            "benz c300 amg 1\n",
            "grand cherokee special 1\n",
            "a3 2.0t dsg fwd 1\n",
            "1979 International 1\n",
            "civic hf 1\n",
            "fusion hybrid sel sedan 1\n",
            "JF1GJAA63EG008747 1\n",
            "2005 International 4400 1\n",
            "sierra 2500hd 4x4 slt 1\n",
            "avalon hybrid xle sedan 1\n",
            "accent gls coupe 1\n",
            "NISSAN/ROGUE SELECT 1\n",
            "element dx suv 1\n",
            "quest 3.5le 1\n",
            "2014 shelby 1\n",
            "camaro 2ss coupe 1\n",
            "i30t 1\n",
            "lacrosse 3.6 1\n",
            "golf gls manual 1\n",
            "titan xd crew cab s 1\n",
            "smart Fortwo 1\n",
            "corolla 4dr sdn cvt s premium (natl) 1\n",
            "benz 2500 high roof 1\n",
            "f-350 platinum tremor 1\n",
            "Vantage 1\n",
            "1972 B-GT 1\n",
            "2door deluxe sedan 1\n",
            "Unknown 1\n",
            "Volkswagon Jetta GL 1\n",
            "custom van 1\n",
            "xterra offroad 1\n",
            "Sedan............ 1\n",
            "MAZDA6  I Grand Touring 1\n",
            "silverado 1500 2wd dou 1\n",
            "sr5 1\n",
            "corvair convertible 1\n",
            "Scion 1\n",
            "944s 1\n",
            "AM General Humvee 1\n",
            "Austin cooper 1\n",
            "outlook xr awdsuv 1\n",
            "benz c36 amg 1\n",
            "sedona minivan 1\n",
            "navigator l 4wd 4dr 1\n",
            "f150 platinum 4 x 4 1\n",
            "3oozx 1\n",
            "excursion 7.3l 1\n",
            "rav4 limited automatic 1\n",
            "qx70 3.7 1\n",
            "wrx limited hatch 1\n",
            "fuso fec52s 1\n",
            "mdx sport pkg 1\n",
            "PIERCE SABER PUMPER 1\n",
            "rav4 4dr limited 1\n",
            "2009 Caravan 1\n",
            "LINK-BELT 835 1\n",
            "coupe john cooper works 2d 1\n",
            "mkc select automatic 1\n",
            "- 328i - convertible 1\n",
            "Pinto 1\n",
            "1999 e36 m3 1\n",
            "CADILLAX DEVILLE 1\n",
            "gl-class gl450 suv 1\n",
            "dunebuggy 1\n",
            "boyertown 1\n",
            "CLARK FORKLIFT 1\n",
            "3500 sprinter vans 1\n",
            "x5, xdrive 35i 1\n",
            "3100 panel truck 1\n",
            "sienna awd xle limited 1\n",
            "series 40 1\n",
            "stinger awd 1\n",
            "Volv XC90 1\n",
            "xlt econoline e350 1\n",
            "2 door touring sedan 1\n",
            "freightliner sportchassis 1\n",
            "xer 1\n",
            "camry le auto 1\n",
            "ex35 awd 1\n",
            "challenger demon 1\n",
            "Oldsmobile Regency 1\n",
            "ranger 4x4 v6 1\n",
            "f150 lt 1\n",
            "skyline gts 1\n",
            "taurus sessedan 1\n",
            "x3 35i x drive 1\n",
            "f-450sd drw crew cab 1\n",
            "elderado 1\n",
            "highlander xse 1\n",
            "1994 3500hd 1\n",
            "sierra 1500 denali crew cab 1\n",
            "Hemi Challenger R/T 1\n",
            "xc60 3.2 premier 4dr suv 1\n",
            "sierra 2500hd sle1 1\n",
            "pickup xe 1\n",
            "avalance 1\n",
            "veloster 3dr cpe man w/g 1\n",
            "tacoma trd sport access 1\n",
            "transit wagon xlt 1\n",
            "mustang gt350 1\n",
            "transit t350hd xlt van 1\n",
            "xc70 awd wagon 1\n",
            "750li sport 1\n",
            "6400 1\n",
            "srx fwd 4dr luxury col 1\n",
            "rav 4 xle awd 1\n",
            "3 window pro street coupe 1\n",
            "380 series 1\n",
            "f250 powerstoke 7.3l 1\n",
            "f350 supr duty drw 1\n",
            "blazer s10 1\n",
            "corrolla le 1\n",
            "500 pop, 5 speed manual 1\n",
            "military 1\n",
            "delivery 1\n",
            "sienna 5dr 8-pass van v6 1\n",
            "1500 4wd quad cab 140.5\" slt 1\n",
            "c-class c450 amg 1\n",
            "ls 430 sedan--we finance!! 1\n",
            "760li sedan v12 leather moon 109 service records 1\n",
            "escalade esv 2wd 4dr p 1\n",
            "e350 cargo van e250 1\n",
            "wrangler unlimited 4x4 gas 1\n",
            "rav4 4wd limited 1\n",
            "p900 e450 1\n",
            "f-150 4wd super cab 1\n",
            "wrangler cj7 1\n",
            "quad cab 1\n",
            "cc 2.0t 1\n",
            "HOT WHEELS CAMARO 1\n",
            "explorer limited 3rd row 1\n",
            "sierra 2500 slt 4x4 1\n",
            "savana g2500 4.8l 1\n",
            "oldsmobile starfire 1\n",
            "cc sport 2.0 turbo pzev i4 fwd 1\n",
            "m56 1\n",
            "elantra se value edition 1\n",
            "v70 glt 1\n",
            "k-3500 hd four wheel drive 1\n",
            "model 3 awd dual moter 1\n",
            "Chevrolet/GMC 1\n",
            "F-250 4X4 1\n",
            "eldorodo 1\n",
            "boxster roadster 1\n",
            "sprinter crew 1\n",
            "300 s 4dr sedan 1\n",
            "tacoma double cab limited v6 4x4 / trd off road / e-locke moon roof / new wheels / new tires / low miles / lifted 1\n",
            "civic ex-t sedan 4d 1\n",
            "tl 4dr sdn 2wd tech 1\n",
            "prius hybrid 5 1\n",
            "1969 Corvette Stingray 1\n",
            "Olds Bravada 1\n",
            "cr-v awd manual 5speed 1\n",
            "mkx reserve awd 1\n",
            "caravan sport mobility 1\n",
            "sierra 1500 hd crew cab 1\n",
            "2000 C5 1\n",
            "1500 diesel 1\n",
            "ecoline 1\n",
            "silverado 1500 4wd crew cab 143.5\" lt 1\n",
            "2003 MERCDES BENZ S500 1\n",
            "murano 2017.5 sl 1\n",
            "g20 van sport van 1\n",
            "POLARIS RZR 1\n",
            "deville professional 1\n",
            "gx 470 sport utility 1\n",
            "t-bucket street rod 1\n",
            "impreza 2.0i sport ltd 1\n",
            "Ninja 400 1\n",
            "3 series 328i m sport cabriolet 1\n",
            "sierra duramax 2500 hd lt 1\n",
            "compass all new limited 1\n",
            "susuki grand vitara 1\n",
            "MB/BMW/Audi/Porsche/VW 1\n",
            "64 Hawk 1\n",
            "rio 5 1\n",
            "ats sedan 2.0t 1\n",
            "crv se awd 1\n",
            "1976 grand Marquis 1\n",
            "q7 3,0t 1\n",
            "1981 corvette 1\n",
            "FOED EDGE 1\n",
            "sr5 ext cab 1\n",
            "fx35 awd suv 1\n",
            "mustang  GT  50. years edition 1\n",
            "charger sxt v6 1\n",
            "CORVETTE  75K  MILES 1\n",
            "canyon crew cab slt 1\n",
            "international D220 1\n",
            "f-350 hd 1\n",
            "750 il v12 1\n",
            "f250 4x4 supercab plow 1\n",
            "2018 Slingshot S 1\n",
            "focus se 4d sedan 1\n",
            "e-550 1\n",
            "2005 suburban 1500 1\n",
            "cheverolet monte carlo 1\n",
            "F-250 Super Duty Lariat 1\n",
            "quest q35 1\n",
            "landcruiser fjz 1\n",
            "srx4 premium 1\n",
            "quest 3.5 le 1\n",
            "silverado 2500 hd 3/4 ton 1\n",
            "sl500 - designo 1\n",
            "equniox lt 1\n",
            "1976 MG midget 1\n",
            "68 1\n",
            "is 300 awd 1\n",
            "F150 turbo 1\n",
            "outback 2.5i limited wagon 1\n",
            "f150 crew cab 4x4 xlt 1\n",
            "freightliner cascadia dd15 1\n",
            "silverado ! reg. cab 1\n",
            "arcadia slt 1\n",
            "f-250 4x4 crew 1\n",
            "Pitts LT40-8L 1\n",
            "suzuki grand vitara 4x4 1\n",
            "a4 4dr sdn auto quattro 2. 1\n",
            "benz cl550 coupe 1\n",
            "Chevrolette Corvette 1\n",
            "srx v6 1\n",
            "cruze 1 lt sedan 1\n",
            "MB ML350 Bluetec 1\n",
            "f-650 service crane truck 1\n",
            "grand torino elite 1\n",
            "mkx sh awd 1\n",
            "davidson road glide 1\n",
            "SCION BASE 1\n",
            "328xi 2011 1\n",
            "blazer extreme 1\n",
            "Mazdaspeed 3 1\n",
            "G6 1\n",
            "supra twin turbo 1\n",
            "AUSTIN HEALEY  3000 1\n",
            "renegade latitude automatic 1\n",
            "g37 x awd 1\n",
            "cb650 1\n",
            "tundra crewmax limited p 1\n",
            "captiva sport ltz ecotec 2.4l auto heated leather moon roof 1\n",
            "civic sdn 4dr auto ex-l 1\n",
            "charger r/t v8 rwd 1\n",
            "2000 SAAB 9-5 Aero sedan 1\n",
            "ssr base 1\n",
            "commander rocky mountain 1\n",
            "r8 v10 coupe quattro 1\n",
            "vnl300 1\n",
            "t class b rv 1\n",
            "g6 gtp convertible 1\n",
            "2009 Subarua Forester 1\n",
            "FINANCIAMIENTO EN VIVIENDA 1\n",
            "aurora 1\n",
            "2018 Prius - Eco Hybrid 1\n",
            "forester ltd 1\n",
            "jetta s 2.0 1\n",
            "q3 quattro awd gas suv auto 1\n",
            "international scout 800 1\n",
            "malibu limited 4dr sdn ls w/1fl 1\n",
            "silverado1500 1\n",
            "Clubman S 1\n",
            "escape se 4dr suv 1\n",
            "All Models 1\n",
            "savanna g3500 1\n",
            "jx35 base 1\n",
            "a5 2dr cpe auto premium 1\n",
            "police interceptor sedan 1\n",
            "big boyz toyz 1\n",
            "4-Door 1\n",
            "mx 3 i *fr $399 down guaranteed finance 1\n",
            "touareg 4dr v6 lux 1\n",
            "3 series 2dr cpe 335i rwd 1\n",
            "altima 2019 1\n",
            "tacoma trd sport 4d double cab automatic 1\n",
            "Plymouth sedan 1\n",
            "sienna xle 7 passenger v6 awd 1\n",
            "sequioa sr5 1\n",
            "Bwise 1\n",
            "f250sd lariat 1\n",
            "3 series 330i xdrive gran t 1\n",
            "flhtkse 1\n",
            "freightliner bus 1\n",
            "1966 C-30 1 ton 1\n",
            "f450 utility box truck 1\n",
            "fusion s hybrid 1\n",
            "cls550 4matic 1\n",
            "bmw328i 1\n",
            "de 1\n",
            "outlander gt awd v6 1\n",
            "starliner 1\n",
            "mariner premier 4x4 gas 1\n",
            "frontier pro-x 4wd 1\n",
            "sierra diesel 1\n",
            "Mustang Cobra SVT 1\n",
            "2500 4x4 big horn 1\n",
            "2003 International 1\n",
            "equinox ltz awd suv 1\n",
            "JM1BK32F871604924 1\n",
            "2010 HYUNDAI, SANTA FE 1\n",
            "explorer v-8 limited 1\n",
            "cx-7 sv 1\n",
            "450 amg 1\n",
            "tucson se fwd 1\n",
            "AMC Pacer 1\n",
            "legacy base awd 1\n",
            "5500 quad cab & chassis 1\n",
            "7 series m sport package 1\n",
            "expedition xlt back up ca 1\n",
            "2008 Mack 1\n",
            "sunfire sl 1\n",
            "Chevrolet-3RD ROW! LOCAL TRADE! Venture-$2995!!! PLUS TAX N TAG NDOC! 1\n",
            "coachmen 1\n",
            "prius iii 4dr hatchback 1\n",
            "Isuzu Amigo 1\n",
            "CHEVOLET SPARK 1\n",
            "2007 Corvette Coupe 1\n",
            "davidson 4x4 1\n",
            "Oldsmobile 98 Starfire 1\n",
            "2017 altima sl 1\n",
            "yaris prius civic fit 1\n",
            "MAZDA3 S-TOURING 2.5 LTD 1\n",
            "dakota regular cab long be 1\n",
            "a6 3.0 quattro wagon 1\n",
            "1968 camaro convertible 1\n",
            "accord exl 2.0t 1\n",
            "tahoe premier - 1\n",
            "express 3500 10' box truck 1\n",
            "superduty 4x4 diesel 1\n",
            "f500 1\n",
            "2017 Silverado 2500HD 1\n",
            "sorento ex fwd 1\n",
            "f250 crew cab long bed 1\n",
            "corolla le 4d sedan 1\n",
            "Frieghtliner fl 50 1\n",
            "Ford/Mercury 1\n",
            "wrangler sport 2d 1\n",
            "flex sel is 1\n",
            "Mack GU813 1\n",
            "Nisaan 1\n",
            "SS 117 1\n",
            "FordE450 1\n",
            "freightliner m2 106 medium duty 1\n",
            "Packard Club Opera 1\n",
            "acadia sel 1\n",
            "taurus sho sedan 3.5l ecoboost leather gps moon 365 hp 1\n",
            "1500 promaster - cargo van 1\n",
            "w100 pick up 1\n",
            "SCION TC HATCHBACK COUPE 2D 1\n",
            "INTERNATIONAL DURASTAR 4300 1\n",
            "fprd 1\n",
            "3500 wrecker 1\n",
            "f-150 xlt lariet 1\n",
            "Isuzu NPR 14FT BOX VAN,1600LB 1\n",
            "celica trd 1\n",
            "x5 4dr xdrive35i 1\n",
            "3500 with crane 1\n",
            "Suzuki Grand Vitara Luxury 4dr SUV 4X4 Only 84K Leather Moon Roof 1\n",
            "sebring 4dr sedan lx f 1\n",
            "civic sdn 4dr auto lx 1\n",
            "Sports Coupe 1\n",
            "cts sedan performance 1\n",
            "sayon 1\n",
            "rx 350 base awdsuv 1\n",
            "hse s.c 3.0/nav 1\n",
            "silveradopa 1\n",
            "Isuzu I350 Quad Cab  Z71 4X4 1\n",
            "2007 International 4300 1\n",
            "f-350 crew cab 1\n",
            "Silverado 3500 4X4 1\n",
            "Winnebago 1\n",
            "f-350 diesel truck 6.7l powerstroke super duty kingranch 1\n",
            "city express cargo van lt 1\n",
            "venue se 1\n",
            "1500 quadcab slt 1\n",
            "park ave. 1\n",
            "legacy awd gas sedan 1\n",
            "c63 1\n",
            "Freightliner 4x4 1\n",
            "1978 bronco 1\n",
            "malibu ltzsedan w/4 1\n",
            "1500 big horn 4x4 hemi 1\n",
            "Ford/F2500 1\n",
            "tam 1500 1\n",
            "fd-150 1\n",
            "xv crosstrek hybrid touri 1\n",
            "focus 4dr sdn sel 1\n",
            "cx-7 sport 4dr suv 1\n",
            "accord vtec 1\n",
            "hhr pt sport equinox 1\n",
            "series 5 1\n",
            "f150 - triton v8 1\n",
            "courier 1\n",
            "c 320 1\n",
            "gti 2010 1\n",
            "Packard Limo 1\n",
            "2012 Yukon XL 1\n",
            "200 4dr sdn limited fw 1\n",
            "cooper two door 1\n",
            "capitiva ltz 1\n",
            "Porshe cayman S 1\n",
            "1983 Mustange Convertible 1\n",
            "wrangler jk unlimited will 1\n",
            "f-150 xl 8' bed 1\n",
            "oldsmobile omega 1\n",
            "All kinds 1\n",
            "cruze limited eco 1\n",
            "Volskwagen Jetta Sportwagen 1\n",
            "2006 Ford-F150 1\n",
            "KARMAN REVERO 1\n",
            "Vactor 2100 1\n",
            "terrain sle2 awd 1\n",
            "explorer 95 1\n",
            "FREIGHTLINER Cascadia 1\n",
            "sl 500 conv. 1\n",
            "lifted gladiator diesel 4x4 1\n",
            "mx5 1\n",
            "imapla limited lt 1\n",
            "2002 limited 4 runner 1\n",
            "sand rail 1\n",
            "Nissian 3500 1\n",
            "2008 F250 1\n",
            "explorer xl 4dr xl 1\n",
            "2003 PT Cruiser 1\n",
            "larami long horn 4x4 leather 1\n",
            "350sd 1\n",
            "e-series van e-250 class b conversion camper rv van class b motorhome campervan high roof rv camper van -motorhome great service history 1\n",
            "sonata hybrid limited wi 1\n",
            "CAMRY 1\n",
            "Grand Cherokee SRT8 1\n",
            "fit fwd gas hatchback 1\n",
            "malibu ls 4dr sedan 1\n",
            "Lexis 460 LS Sport 1\n",
            "venza limited 1\n",
            "c 300 sport 4matic only 45k heated leather loaded 1\n",
            "International 5600 1\n",
            "pathfinder sl 4dr suv 1\n",
            "Axura TL 1\n",
            "forte fe 4d sedan manual 1\n",
            "xts luxury* black 1\n",
            "benz ml cdi 1\n",
            "lesabre lmtd 1\n",
            "benz s420 1\n",
            "850 glts 1\n",
            "KAWASAKI EX400 1\n",
            "1992 mustang 1\n",
            "f250 sd 4d lariet 1\n",
            "HILLSBORO 1\n",
            "Bentley Continental GTC low 1\n",
            "g550 square 1\n",
            "97 F250 HD 1\n",
            "ml500 4matic 1\n",
            "1500 2wd sport 1\n",
            "e300 sport 1\n",
            "x3 xdrive28d awd tdi 1\n",
            "4500 crew cab 1\n",
            "1500 limited 4x4 1\n",
            "f250 xlt crew cab 4x4 1\n",
            "saab 9-3 Arc Convertible 1\n",
            "sierra 1500 4wd double cab 143.5\" 1\n",
            "sterling truck Flat bed Crane 1\n",
            "f-150 v8 supercrew 1\n",
            "Camry Le 1\n",
            "tl 3.2 touring sedan 1\n",
            "golf 1.8t 4-door sel 1\n",
            "mustang foxbody convertible 1\n",
            "Saab 9-4x 1\n",
            "q60 journey coupe 2d 1\n",
            "corvette z06 2dr coup 1\n",
            "resto-mod 1\n",
            "crx dx 1\n",
            "mirage g4 es sedan 1\n",
            "528i xdrive awd 1\n",
            "transit passenger van t-150 1\n",
            "grand cherooke 1\n",
            "f-350 super duty xl 4dr sup 1\n",
            "1977 BUG 1\n",
            "focus se sedan 6-speed automatic 1\n",
            "f-150 stepside 1\n",
            "gx 470 base 1\n",
            "pilot ex-l 4wd 5-speed automatic 1\n",
            "HYUNDIA ELANTRA 1\n",
            "m52 1\n",
            "lifted f350 xl 4x4 1 ton 1\n",
            "belair 2 dr hardtop 1\n",
            "60 series 1\n",
            "430i xdrive gran coup 1\n",
            "cruz lt 1\n",
            "coe7000 1\n",
            "titan se endurance 1\n",
            "500e battery electric 1\n",
            "wrangler sport automatic 1\n",
            "stout 1\n",
            "pkup - extended cab 1\n",
            "1500 hemi, daytona 1\n",
            "titan se 4x4 1\n",
            "grandprix 1\n",
            "utility van 1\n",
            "passat tdi se w/sunro 1\n",
            "accord ex-l 3.5l v6 1\n",
            "f-350 super duty fx4 fx4 4dr crew cab 1\n",
            "model a hiboy 1\n",
            "reaper 1\n",
            "international scout ii 1\n",
            "f 150 xlt 4x4 supercrew 1\n",
            "b-series cab plus 1\n",
            "2009 Maxima 3.5 SV 1\n",
            "mb 1\n",
            "Mini-T Class B Camper Van 1\n",
            "f250xlt 1\n",
            "Case 310 dozer 1\n",
            "2001 Saab 9-3 Convertible 1\n",
            "Saab 9-3 Turbo 4 1\n",
            "vollkswagen 1\n",
            "hino 338 refrigerated 1\n",
            "MERC3DES SL500 1\n",
            "Volkswagon Golf 1\n",
            "murrano 1\n",
            "2003 blue bird 1\n",
            "2500 silverado regular cab manual 1\n",
            "f-350 4x4 quad cab 1\n",
            "ex-cab z-71 4x4 1\n",
            "f-150 stx fx4 1\n",
            "f350 super camper 1\n",
            "elantra gt hatch back 1\n",
            "prius (plug in) 1\n",
            "jetta 2.0l tdi 1\n",
            "ranger 4x4 ext cab 1\n",
            "f150 super cab 4x4 xlt 1\n",
            "2500 slt 6.7 diesel 1\n",
            "rogue fwd sl 1\n",
            "a5 convertible 1\n",
            "2500 extended cargo van 1\n",
            "suburu legacy 1\n",
            "sierra sle 1500 1\n",
            "Single Axle Internatioal 4400 1\n",
            "suzuki sx4 sport 1\n",
            "outback 2.5 xt limited 1\n",
            "Cobra Special Edition 1\n",
            "qx80 7-passenger w/3rd 1\n",
            "fit,civic,corolla 1\n",
            "volkswagon bug 1\n",
            "Isusu vehicross 1\n",
            "silverado ext cab 3 1\n",
            "1991 grand Marquis 1\n",
            "MIGI 1\n",
            "mbz 1\n",
            "1997 toy t100 1\n",
            "model a pick up 1\n",
            "e250 hightop 1\n",
            "armada se sport utility 1\n",
            "silverado half ton 1\n",
            "1500 yukon xl slt 1\n",
            "corolla llele plu 1\n",
            "lr4 hse luxury 1\n",
            "juke cvt nismo rs 1\n",
            "Maserati GranTurismo 2017 1\n",
            "fusion sdn se 1\n",
            "f-150 xl 2dr standard 1\n",
            "hr-v lx sport utility 4d automatic 1\n",
            "civic ex-l 1.8l 1\n",
            "masarati 1\n",
            "Tundra double cab 4x4 1\n",
            "tacoma 4wd double lb v6 at (natl) 1\n",
            "silverado 3500 duramax 1\n",
            "fiero 2m4 1\n",
            "f150 lariat crewcab 4x4 1\n",
            "windstar wagon 1\n",
            "lesabre limited￼ 1\n",
            "sonata sport+ 1\n",
            "2013 CODA 1\n",
            "frontier crew cab 4x2 1\n",
            "miata mx5 rf club 1\n",
            "1978 el camino 1\n",
            "q7 s line 1\n",
            "accord exl - v6 1\n",
            "Borgward Midget 1\n",
            "2020 Transit T250 High Roof 1\n",
            "tl technology fwd 1\n",
            "2016 F45-F750 1\n",
            "f-150 fx4 4x4supercrew 1\n",
            "07 Freightliner M2 Dump Plow 1\n",
            "impreza 2.0i awd 1\n",
            "mariner i4 1\n",
            "U-Model Mack 1\n",
            "rx 350 4wd 1\n",
            "ioniq hybrid se automatic 1\n",
            "armada plat. res. 4x4 1\n",
            "rav4 2.5l le crossover 1\n",
            "pacifica l 1\n",
            "forester 4dr auto 2.5x 1\n",
            "m5 base 1\n",
            "Mercede-Benz E-Class E350 1\n",
            "535xi awd twin turbo 4-dr 1\n",
            "suzuki carry truck 1\n",
            "seentra 1\n",
            "suburban 4X4 1\n",
            "gx37 1\n",
            "silverado z-71 4x4 1\n",
            "bentley continental gtc 1\n",
            "2010 f150 1\n",
            "passat sedan komfort 1\n",
            "650i gran coupe m sp 1\n",
            "Touareg V-10 TDI 1\n",
            "legend l 1\n",
            "06 F250 Lariat 1\n",
            "Oldsmobile Series 76 1\n",
            "1500 mega cab 4x4 1\n",
            "mazda3i touring 1\n",
            "rogue s**back up cam*fue 1\n",
            "3500 dually flat bed / 4x4 / laramie / 5.9l cummins turbo diesel / low miles / 1-ton 1\n",
            "645 ci 1\n",
            "range sport hse lux 1\n",
            "rav adventure 1\n",
            "Isuzu NPH-HD 1\n",
            "COTTRELL c-7510ST 1\n",
            "es 350 base 4dr sedan 1\n",
            "edsel corsair 1\n",
            "cr-v bad credit 1\n",
            "f350 xlt stake bed 1\n",
            "mdx sport hybrid 3.0l 1\n",
            "c-class c230 1\n",
            "civic coupe lx-p 1\n",
            "z28 camaro converitible 1\n",
            "Cadillax Eldorado 1\n",
            "maserati granturismo sport 1\n",
            "For F-250 1\n",
            "utility reefer 1\n",
            "transit t350hd 1\n",
            "1965 corvette 1\n",
            "durango crew*v6,3.6l! 1\n",
            "w 300 1\n",
            "metris van 1\n",
            "flex limited suv 1\n",
            "Peterbilt 378 1\n",
            "tacoma for 1\n",
            "roll off dumpster 1\n",
            "Lamborghini huracan evo 1\n",
            "335d clean turbo diesel 1\n",
            "eldorado touring coupe 1\n",
            "silverado 3500 diesel trucks 6.6l duramax utility bed with lumber rack 1\n",
            "prius prime advantage 1\n",
            "verrano 1\n",
            "impreza wrx sti 4dr sed 1\n",
            "mercedes-amg e-class 1\n",
            "2020 ISUZU NPR XD 1\n",
            "q50 3.0t luxe clean ca 1\n",
            "benz 560sel 1\n",
            "Durango Explorer Expedition 1\n",
            "cayenne base 1\n",
            "sierra 1500 4dr extended cab 4x4 v8 automatic 1 owner no rust 1\n",
            "328d xdrive awd navi sport heated wheel and seats pano harmon 1\n",
            "1965 Pontaic GTO 1\n",
            "navigator ultimate 4x4 1\n",
            "trailblazer lt ext 1\n",
            "ls 400 luxury sdn 1\n",
            "journey sxt fwd 1\n",
            "charger glhs 1\n",
            "1500 sport crew cab 1\n",
            "Kaiser Sedan 1\n",
            "rav4 xle awd suv 1\n",
            "acadia slt- 2 awd 1\n",
            "fusion sel 4dr sedan 1\n",
            "PONTAIC 1\n",
            "x5 xdrive35d heated & c 1\n",
            "expedetion 1\n",
            "xf luxury 1\n",
            "Austin Countryman 1\n",
            "05 Saab convertible 2.0 Turbo 1\n",
            "1992 International 4900 1\n",
            "sport hse 4x4 v8 auto gps heated leather moon roof 1\n",
            "v70 3.2 1\n",
            "F-150 XLT 4WD 1\n",
            "enclave awd 4dr leather l 1\n",
            "santa fe se 2.4l auto 1\n",
            "duelly 3500 1\n",
            "formula 1\n",
            "f650 super excursion 1\n",
            "sts-v 1\n",
            "1995 Thomas 1\n",
            "gr supra 3.0 coupe 2d 1\n",
            "s60 4dr sdn t6 1\n",
            "1500 laramie longhorn 4x4 1\n",
            "alltrack manual 1\n",
            "a6 2.0t premium fronttrak 1\n",
            "Suzuki sidekick 1\n",
            "fj cruiser trd special edition 4x4 low miles mint condition 1\n",
            "ats4 luxury 1\n",
            "3 itouring 1\n",
            "Pontic Trans AM WS6 1\n",
            "wrangleryj 1\n",
            "mark series 4dr supercre 1\n",
            "avalon ltd 1\n",
            "a8 l 3.0 tfsi 1\n",
            "Nitro Z19 1\n",
            "V.W. Passat R-Line 1\n",
            "2001 MITS 1\n",
            "fort f450 1\n",
            "atlas sel awd 1\n",
            "soul plus fwd gas suv manual 1\n",
            "tacoma doublecab 1\n",
            "tacoma prerunner sr5 trd 1\n",
            "forester touring edition 1\n",
            "colorado ls z71 4x4 1\n",
            "f-150 4x4 sport xlt 1\n",
            "Citroen 15C9 1\n",
            "passat 1.8 l 1\n",
            "a6 premium plus 3.0t 1\n",
            "1500 big horn 1 owner 4x4 1\n",
            "apollo 1\n",
            "benz cla45 amg 1\n",
            "cooper roadster 1\n",
            "van/bus 1\n",
            "gs 400 stage1 1\n",
            "Volkwagen Passat R-Line 1\n",
            "H1 HUMMVEE 1\n",
            "acadia slt-1 107k 3rd row leather dvd backup camera 1\n",
            "Classic 1\n",
            "Nisan Versa SV 1\n",
            "HUMMER H3 4WD 3.7 5CYL 1\n",
            "Ford.cope 1\n",
            "1955 panel wagon 1\n",
            "corolla se cvt (natl) 1\n",
            "f-150 xlt 4x4 fx4 1\n",
            "kona sel automatic 1\n",
            "87 Camaro 1\n",
            "CHEVOLET SILVERADO 1500 1\n",
            "1500 yukon 1\n",
            "trax premier awd gas 1\n",
            "dakota sport crew cab 4x4 1\n",
            "300 300s alloy edition 1\n",
            "crosstrek 2.5i premium 1\n",
            "element ex-p awd 1\n",
            "3 series 325xi 4dr wagon 1\n",
            "911 2dr cpe carrera s 99 1\n",
            "96 maxima 1\n",
            "xk 150 1\n",
            "e250 conversion van 1\n",
            "t4 transporter pickup 1\n",
            "accord lx-s coupe manual 1\n",
            "camry xle4 1\n",
            "transit 150 extended cargo van 1\n",
            "mustang mach 1 fastback 1\n",
            "Kawasaki Mean Streak 1\n",
            "trans am firebird 1\n",
            "prius 4dr hatchback 1\n",
            "benz 220s sedan 1\n",
            "santa fe sport 2.4l auto awd 1\n",
            "silverado 1500/ 4x4 1\n",
            "1500 sierra sle 1\n",
            "colorado ls extended cab 3.5l automatic newer tires 1\n",
            "cts-4 1\n",
            "86 gt 2,0l automatic 15k lowered 18s 1 owner 1\n",
            "xv crosstrek premium awd 1\n",
            "Cadillc ATS Performance AWD 1\n",
            "two door sedan 1\n",
            "oddysey exl 1\n",
            "Nissan- Maxima 1\n",
            "vega panel 1\n",
            "f150 reg short bed 1\n",
            "f-150 fx2 lifted super crew 1\n",
            "cadilac escalade luxury esv 4x4 1\n",
            "outback awd limited 1\n",
            "Peterbuilt 387 1\n",
            "saab 9-3 Wagon 1\n",
            "big horn lonestar 1\n",
            "mazda3 i touring automatic 1\n",
            "1977 international scout 1\n",
            "Forde Edge 1\n",
            "civic lx couoe 1\n",
            "Mac Value 1\n",
            "2005 savanna 1\n",
            "88 civic 1\n",
            "legacy sedan awd 1\n",
            "cr-v lx fwd 1\n",
            "delivery truck 1\n",
            "2005 PT CRUISER TOURING 1\n",
            "grand prix sedan 4d 1\n",
            "Escalade Premium 1\n",
            "accord coupe 3.0 1\n",
            "Eagle vision 1\n",
            "sierra 1500 extend cab sle 1\n",
            "MCLAREN 570GT 1\n",
            "s7 premium plus 1\n",
            "model s 90d 1\n",
            "xj l 1\n",
            "2500 4 x 4 1\n",
            "Lotus Elite 1\n",
            "f250 s/crew 1\n",
            "1994 Plymouth Voyager 1\n",
            "911 4s 1\n",
            "3 standard range plus 1\n",
            "NISAAN LEAF SV 1\n",
            "1963 plymouth belvedere 1\n",
            "F15O LIMITED EDITION 1\n",
            "911 c4s gt2 wing ims done 1\n",
            "c-max se hybrid 1\n",
            "SL600 1\n",
            "KAISER MANHATTEN 1\n",
            "navigator base 4x2 1\n",
            "silverado 3500hd built after aug 14 ltz automatic 1\n",
            "malibu - lt v6 1\n",
            "pininfarina spider 1\n",
            "1971 el camino 1\n",
            "528 i rwd gas sedan auto 1\n",
            "2010 Passet turbo 1\n",
            "1500 quad cab short b 1\n",
            "frontier pro4x flatbed 1\n",
            "no accidents 1\n",
            "regal cxl rl6 1\n",
            "911s 1\n",
            "gmc/chev c3500hd bucket boom 1\n",
            "2015 Challenger 1\n",
            "sorento lx-v6 awd 1\n",
            "u Ascent 1\n",
            "prius ii, 1\n",
            "xt4 sport awd 1\n",
            "benz 300 se 1\n",
            "touareg luxury 1\n",
            "q5 q7 1\n",
            "trailblazer ls ls 4dr suv 1\n",
            "sonata sport 2.0t ltd 1\n",
            "rogue sl 4dr crossover 1\n",
            "f53 bounder 1\n",
            "F250 Super Duty 7.3 1\n",
            "qx80 4x4 1\n",
            "grand caravan mobility 1\n",
            "f350 4x4 f-350 1\n",
            "benz m class 1\n",
            "frontier 4x4 ext cab 1\n",
            "xlt x-cab 1\n",
            "Infitniti G35 1\n",
            "SILVERADO 1500 LT 1\n",
            "Isuzu Rodeo 4x4 1\n",
            "charger hemi 1\n",
            "civic turbo ex-l 1\n",
            "a4 avant 1.8t 1\n",
            "odyssey ex automatic 1\n",
            "hyudai elantra 1\n",
            "1999 Freightliner tractor 1\n",
            "1989 KME Ladder Truck 1\n",
            "x3 3.0si awdsuv 1\n",
            "rolls royce dawn 1\n",
            "2500 LTZ  4WD  Z71 6.6L DSL 1\n",
            "passat wagon glx 1\n",
            "outback 2.5 premium awd 1\n",
            "2000 oldsmobile alero 1\n",
            "1942 1\n",
            "f-150 xlt 2wd supercrew 5.5 1\n",
            "camry standard 1\n",
            "Freightliner flc120 1\n",
            "20110GMC ARCADIA SLE AWD 1\n",
            "rdx sh- w/technology pack 1\n",
            "avalanche ltz black di 1\n",
            "4Runner 1\n",
            "sts-4 1\n",
            "Homes crv 1\n",
            "e 250 super duty 1\n",
            "evo fat boy 1\n",
            "69 SS Chevelle 1\n",
            "venteur 1\n",
            "suzuki aerio gs 1\n",
            "MERCURUY SABLE 1\n",
            "e-350 xl 1\n",
            "rx 350 sport utility 1\n",
            "yukon xl 2500 slt 4x4 v8 6.0l leather 3 row seating 1\n",
            "custom 20 deluxe 8 350 1\n",
            "civic ex 4dr hatchback 1\n",
            "Tiger mag 1\n",
            "2500 hemi 1\n",
            "chrylser pacifica 1\n",
            "ram1500 crew cab 1\n",
            "crosstrek 2.0i prem 1\n",
            "traverse lt leather automatic 1\n",
            "pontaic firebird 1\n",
            "Mack Granite GU713 1\n",
            "navigator l select 1\n",
            "excursion ltd 1\n",
            "wrx limited manual 1\n",
            "f-250sd xl extended cab 1\n",
            "200 4dr sdn limited pl 1\n",
            "chevorlet silverado 1500 1\n",
            "serbing lx 1\n",
            "620 1\n",
            "forester 2.5x wagon 1\n",
            "Undercover Elite 1\n",
            "sierra 2500hd crew cab 153 1\n",
            "rogue sport awd 1\n",
            "odyssey ex-l dvd 1\n",
            "911 c4 1\n",
            "528i touring 1\n",
            "1970s cj5 1\n",
            "tacoma double cab sr5 5 1\n",
            "mustang deluxe coupe 1\n",
            "mdx sh-awd+tech 1\n",
            "ion level 3 1\n",
            "98 Elantra 1\n",
            "sierra 1500 slt z71 4x4 gas 1\n",
            "benz s430 4 matic 1\n",
            "3 s touring 1\n",
            "prius base 4dr sedan 1\n",
            "2 dr del ray 1\n",
            "desoto firedome 1\n",
            "f-150 crew cab limited 1\n",
            "tundra sr5 4wd 5.7l 1 owner 1\n",
            "mk4 ute 1\n",
            "evoque hs 1\n",
            "promaster cargo van 1500 low roof 118\" wb 1\n",
            "335i sedan 1\n",
            "1500 4wd quad cab 140.5\" sport 1\n",
            "F250 Super Duty  7.3 Powerstroke 1\n",
            "tacoma trd off road double cab 5' bed v6 4x4 at (natl) 1\n",
            "INFINIT QX50 1\n",
            "1985 AMG 1\n",
            "Toyoya RAV4 1\n",
            "renegade trailhawk 4x4 4dr 1\n",
            "yukon 4wd 4dr 1500 slt 1\n",
            "c-class c 320 sed 1\n",
            "sienna xle premium 7-passenger 1\n",
            "colorado 4wd 1\n",
            "Jagur XJ6 1\n",
            "2004 h2 hummer 1\n",
            "Smart Passion fortwo 1\n",
            "elite 1\n",
            "DETHMERS KAR CADDY 1\n",
            "x3 xdrive 28i awd gas suv 1\n",
            "Isuzu W5500HD 1\n",
            "f-150 supercab xlt 1\n",
            "1967 Firebird 1\n",
            "300 hemi 1\n",
            "q7 3.0t quattro premium + 1\n",
            "Lotus Elan SE M100 1\n",
            "f250 xlt diesel 4x4 1\n",
            "panel van 1\n",
            "camry xse auto 1\n",
            "Hobda Odyssey 1\n",
            "1978 Thunderbird 1\n",
            "2008 GL 450 4matic 1\n",
            "1977 International 1\n",
            "mdx touring w/navi 1\n",
            "suburban 1500 lt 4dr 1\n",
            "tuarus se 1\n",
            "series iia 1\n",
            "mustang pro street 1\n",
            "chsyler convertible 1\n",
            "es350 pebble beach ed. 1\n",
            "sc 400 coupe v8 automatic heated leather super clean 1\n",
            "f150 supercab 4dr 1\n",
            "535d xdrive 1\n",
            "International KB-2 1\n",
            "avenger ex 1\n",
            "cruze l 1\n",
            "accord ex-l 3.5 v6 1\n",
            "journey express 1\n",
            "1500 megacab 1\n",
            "cavalier convertible 1\n",
            "sierra 1500 slt slt 4dr crew cab 1\n",
            "martin 1\n",
            "journey se - one owner 1\n",
            "a4 quattro awd premium plus 1\n",
            "legacy 2.5i limited 4dr 1\n",
            "2017 Avalon XLE Premium 1\n",
            "ranger xlt xcab 4x4 1\n",
            "xt4 2.0 turbo litre 1\n",
            "MCI D 1\n",
            "HINO 338 1\n",
            "FRRV Rockwood 1\n",
            "master 85 1\n",
            "p20 1\n",
            "International Crew cab 1\n",
            "international 4300 bucket truck 1\n",
            "2002 Saab 1\n",
            "pathfinder 4x4 very clean 1\n",
            "f-450 11ft dump 1\n",
            "challenger sports car clas 1\n",
            "xv crosstrek 5dr cvt 2.0 1\n",
            "highlander limited*v6,3. 1\n",
            "sonata 4dr sdn 2.4l auto limited 1\n",
            "2006 X 2dr Sport Utility 1\n",
            "MG TD by FiberFab 1\n",
            "250 xlt 1\n",
            "a3 2.0t quattro premium plus 1\n",
            "beonco 1\n",
            "6i touring 1\n",
            "2500 yukon xl 1\n",
            "focus zx3 se 1\n",
            "van b250 1\n",
            "tahoe police vehicle 1\n",
            "68 Nova 1\n",
            "impala ltz automatic 1\n",
            "highlnader 4x4 1\n",
            "Ininiti Q60s 1\n",
            "e-van 1\n",
            "catalina ventura 1\n",
            "Mazada CX 5 1\n",
            "1931 1\n",
            "avenger sxt plus 1\n",
            "rav4 awd suv 2.5l auto power group 2 owners new tires 1\n",
            "custom f150 4x4 1\n",
            "HANDICAP VAN 1\n",
            "cavalier sedan 1\n",
            "spark ev 1lt hatchback 4d 1\n",
            "town & country touring w/ sto-n-go 1\n",
            "civic value packagesedan 1\n",
            "crosley 1\n",
            "legacy awd gt 1\n",
            "200 limited 4d sedan automatic 1\n",
            "focus 4dr sdn se 1\n",
            "Packard Clipper 1\n",
            "silverado 3500 4x4 duramax 1\n",
            "2014 Town & Country BraunAbility 1\n",
            "cobalt lt2 sedan 1\n",
            "s-10 sport 283 high performance 1\n",
            "slk slk 250 1\n",
            "t-bird convertible 1\n",
            "pannel van 1\n",
            "frasier type i 1\n",
            "tacoma 4x4 trd off road 1\n",
            "ml 350 suv 1\n",
            "Fire Truck 1\n",
            "f650 service truck w crane 1\n",
            "capri convertible 1\n",
            "xc60 t6 momentum awdsuv 1\n",
            "edge 4dr se fwd 1\n",
            "c-max energi hatchback sel 1\n",
            "Toyoa pickup 1\n",
            "accord navigation 1\n",
            "camero rs 1\n",
            "Dode caliber 1\n",
            "1980 Scottsdale 1\n",
            "5 series 530i sedan 1\n",
            "mdx sh-awd 4dr suv 1\n",
            "1990 nChevy Cheyenne 1\n",
            "pontiac1978 1\n",
            "super duty dump 1\n",
            "silverado z71**v8,5.3 1\n",
            "f-250 transit van 1\n",
            "renzendeous 1\n",
            "1973VOLKSWAGEN BEETLE 1\n",
            "grand caravan quest 1\n",
            "AND UP 1\n",
            "1988 k5 blazer 1\n",
            "1957 Studerbaker 1\n",
            "1986. 250. lariat 1\n",
            "hinda civic 1\n",
            "golf sportwagen tsi se 1\n",
            "astro ls 2-owner 100k miles 4.3l v6 190hp 250ft. lbs. 1\n",
            "santa fe se 2.4 1\n",
            "1985 Peterbilt EXHD 1\n",
            "AMC Javelin 1\n",
            "cx 30 1\n",
            "a7 premium quattro sedan 4d 1\n",
            "esdge sel 1\n",
            "cayenne diesel awd 1\n",
            "2012 F-150 Lariat SuperCrew 1\n",
            "c-class c 300 - 1\n",
            "elantra nav 1\n",
            "tacoma sr5 trd *one 1\n",
            "q3 2.0t 1\n",
            "highlander limited platin 1\n",
            "LEER 1\n",
            "11 1\n",
            "Ford, Mopar, Studebaker 1\n",
            "veracruz fwd 4dr limited 1\n",
            "1948 international harvester 1\n",
            "Suzuki vs 1400 intruder 1\n",
            "Freighliner fla 1\n",
            "5 series 550i xdrive gran t 1\n",
            "3 series 328isedan 1\n",
            "IHC 4700 1\n",
            "grand cherokee srt8 vapor 1\n",
            "silverado 2500 high co 1\n",
            "Ford,Excursion XLT 1\n",
            "nssan altima 1\n",
            "2G3AM4788C2359501 1\n",
            "INTENATIONAL DURASTAR 1\n",
            "f150 4*4 1\n",
            "f250 r/cabl/bed 1\n",
            "dakota trx4 1\n",
            "PACKARD 0NE TWENTY 1\n",
            "s-type 3.0 1\n",
            "1500 express quad cab 1\n",
            "equinox 1 owner 1\n",
            "mustang deluxe convertible 1\n",
            "Workhorse Truck Step Van - Gas 1\n",
            "savanna van 1\n",
            "ci 1\n",
            "encore essence fwd 1\n",
            "sprint 1\n",
            "sierra 1500 slt 4x4 heated leather gps lifted 20s new 33s 1\n",
            "C1500 1\n",
            "Porche Panamera Turbo 1\n",
            "a3 2.0t prestige 1\n",
            "tl 3.2 premium sedan 1\n",
            "200 series lx 1\n",
            "savana cutaway 3500 1\n",
            "beetle-classic 2.5l pzev 52k miles leather 1\n",
            "sienna le 2011 1\n",
            "wrangle rubicon 1\n",
            "KENWORTH 1\n",
            "magna 1\n",
            "trailblazer 4wd lt 1\n",
            "f150 truck 1\n",
            "equinox` 1\n",
            "highlander v6 (awd) 1\n",
            "2500 v10 1\n",
            "International 2574 1\n",
            "mark series continental mark iii 1\n",
            "highlander limited v6 awd 1\n",
            "eclipse spider 1\n",
            "f150 crew cab king ranch 1\n",
            "k1500 suburban 1\n",
            "silverao 3500 4x4 duramax 1\n",
            "crv ex fwd gas suv auto 1\n",
            "t350 med roof lwb 1\n",
            "ss100 1\n",
            "tl awd tech package v6 1\n",
            "LEXUS/ES 350 1\n",
            "civic ex 2dr coupe 1\n",
            "cr-v * 1 owner - 30 servi 1\n",
            "benz clk500 convertible 1\n",
            "Mg midget 1\n",
            "1`500 1\n",
            "x3 awd 1\n",
            "Navistar 4700 1\n",
            "aveo5 2lt 1\n",
            "prius v two automatic 1\n",
            "ct5 luxury 1\n",
            "durango limited 4wd 1\n",
            "sprinter diesel cargo van 42km 1\n",
            "2500 4x4 5.7 hemi 1\n",
            "dakota trx 1\n",
            "sonic hatchback ltz 1\n",
            "cherokee laredo xj 1\n",
            "escalade awd ultra 1\n",
            "c-320 1\n",
            "golf tsi sportwagon 1\n",
            "Sea Ray Sea Ray 1\n",
            "avalanche lt 4x4 1\n",
            "versa hatchback sv 1\n",
            "1500 hemi crew 1\n",
            "tsx wagon 1\n",
            "murano s sport utility 1\n",
            "q3 quattro premium awd 1\n",
            "corolla matrix s 1\n",
            "rogue sv sport utility 4 1\n",
            "f150 stx 4wd f-150 4x4 1\n",
            "blazer 1lt 1\n",
            "Oshkosh firetruck 1\n",
            "Isuzu Rodeo 4x4 Sport Amigo 1\n",
            "jetta 2.0l tdi value 1\n",
            "hyundia accent 1\n",
            "2002 H&H 1\n",
            "civic sport coupe cvt 1\n",
            "1996 Chevy/Topkick 1\n",
            "ranger 6 cylinder 1\n",
            "Kenworth T300 2000 1\n",
            "serieslla 1\n",
            "sierra 1500 slt 4wd 1\n",
            "rav4 xle awd loaded 1\n",
            "tundra limited limited 4 1\n",
            "ls 460 automatic 1\n",
            "c-class 2.3l 1\n",
            "944 s2 convertible 1\n",
            "santa fe sport 2.4lsuv 1\n",
            "Am general m923a1 1\n",
            "06 ranger 1\n",
            "pickup 1500 big horn 4x4 1\n",
            "express 2500 v8 rwd 1\n",
            "2005 Isuzu Ascender 1\n",
            "ptcruiser series 3 1\n",
            "4Matic 1\n",
            "2005 Hundai Tucson 1\n",
            "sierra 1500 elevation automatic 1\n",
            "accord 2002 1\n",
            "1500 classic slt crewcab 1\n",
            "tahoe z-71 1\n",
            "2015 Land Rove LR4 HSE 1\n",
            "silverado extra cab 4x4 1\n",
            "odyssey touring edition 1\n",
            "titan xd pro-4x crew ba 1\n",
            "camaro ss 2015 1\n",
            "tundra 4wd truck 1794 automatic 1\n",
            "2012 Suzuki SX4 1\n",
            "P30 1\n",
            "PT CRUISER TOURING 1\n",
            "super duty f-250 srw lariat 4wd crew cab 6.75' box 1\n",
            "scooter 1\n",
            "outback awd limited 4dr c 1\n",
            "fore explorer 1\n",
            "f550 super duty diesel 1\n",
            "tacoma sr v6 1\n",
            "Mazda3 i grand touring 1\n",
            "f-150 platinumcrew cab 1\n",
            "fleetwood limousine 1\n",
            "avalon xl/xls 1\n",
            "corolla se 4d sedan 1\n",
            "panamera turbo awd execu 1\n",
            "golf tdi jetta 1\n",
            "GRAND MARQUIS LS 1\n",
            "Hummer H2 SUV 1\n",
            "f-350 super duty lariat 4 1\n",
            "maserati granturismo convertib 1\n",
            "chverolet tahoe 1\n",
            "fordor 1\n",
            "prius v fwd hatchback 1\n",
            "XLT Triton V8 1\n",
            "tundra sr5 4x4 trd 1\n",
            "ranger lariat supercrew 5 1\n",
            "fairlane gta 1\n",
            "legacy sport 1\n",
            "Nash Ambassador 1\n",
            "f-350 dump truck 1\n",
            "1500 sl sierra 1\n",
            "cherokee awd 1\n",
            "1951 Suburban 1\n",
            "civic ex w/navisedan 5a 1\n",
            "cyclone cj428 1\n",
            "650 1\n",
            "challenger rt hemi 1\n",
            "rav4 4dr manual 1\n",
            "e 350 luxury 4matic v6 1\n",
            "Ward LaFrance Fire Truck 1\n",
            "2008 Crown Victoria Interceptor 1\n",
            "f350 platinum 1\n",
            "versa 1.6 sl 1\n",
            "is 250 nav 1 owner 1\n",
            "2005 SAAB 9-3 1\n",
            "optima lxs 1\n",
            "e 400 4matic wago 1\n",
            "journey gt awd 1\n",
            "xtravan 1\n",
            "x3 sdrive30i suv 1\n",
            "duramax crew 1\n",
            "G2500 Vans Express 1\n",
            "cc sportsedan 6a w 1\n",
            "2500 slt / 2wd / 5.9 l cummins turbo diesel / long bed / 103k miles / 5-speed manual transmission 1\n",
            "7-series m package 1\n",
            "escalade esv 4dr luxu 1\n",
            "bj74 land cruiser 1\n",
            "land cruiser 100 series 1\n",
            "service crane truck 1\n",
            "jettavolkswagen 1\n",
            "patriot sport fwd gas suv 1\n",
            "silverado 1500 2wd cre 1\n",
            "silverado 2500 hd 4wd 1\n",
            "550i 4d sedan 1\n",
            "outback legacy 1\n",
            "Isuzu Rodeo Ls 1\n",
            "utility truck service truck 1\n",
            "Clubman 1\n",
            "silverado 2500 reg cab w/t _liftgate 4x4 1\n",
            "300 se 1\n",
            "charger 2013 1\n",
            "el camino conquistador 1\n",
            "e150 econoline conversion 1\n",
            "g35 sport 4dr sedan (3 1\n",
            "1964 Plymouth  Sport Fury 1\n",
            "F250 Crewcab 1\n",
            "promaster window 1\n",
            "e 350 super duty 1\n",
            "Saab 9-5 Aero AWD 1\n",
            "taurus limited limited 1\n",
            "super duty f-250 xlt 4x4 1\n",
            "Kenworth t800 1\n",
            "a6 avant 1\n",
            "jetta limited 1\n",
            "wrangler sahara altitude 1\n",
            "International 740 1\n",
            "corolla 2006 1\n",
            "charger r/t hemi 1\n",
            "mdx technology entertain 1\n",
            "c5500 26' box truck 1\n",
            "Outback Special Edition 1\n",
            "venza limited awd 1\n",
            "wrangler sahara 4x4 4 door 1\n",
            "hhr ltwagon 1\n",
            "grand cherokee limited 4dr 1\n",
            "accord sedan sport 1.5t c 1\n",
            "q5 2.0t premium hybrid 1\n",
            "q5 tdi s-line 1\n",
            "q7 premium plus quattro 1\n",
            "740 gl 1\n",
            "tahoe ltz 4x4 fully 1\n",
            "pulse lightstar 1\n",
            "f-350 xlt crew cab only 1\n",
            "st3 1\n",
            "c 250 sport sedan 1\n",
            "rav 4 xle awd hybrid 1\n",
            "e550 amg package 1\n",
            "158000 1\n",
            "mdx touring sport 4wd 1\n",
            "gla gla 1\n",
            "4x4 van 1\n",
            "// vmi // ♿ 1\n",
            "Isuzu HTR 1\n",
            "1989 cummins truck 1\n",
            "mdx fwd w/advance/enterta 1\n",
            "Western Star 4900SA 1\n",
            "fit sport w/navi 1\n",
            "sonoma /chevy s10 1\n",
            "impalla 1\n",
            "328i m3 coupe 1\n",
            "terrian 1\n",
            "3500 hd denali dually 1\n",
            "silverado single cab 1\n",
            "ranger lariat fx4 4x4 gas 1\n",
            "9-3 2.OT CPNV/342 1\n",
            "Keep wrangler 1\n",
            "rx 450h f sport 1\n",
            "KM8JUCACXCU492595 1\n",
            "2500 slt quad cab 1\n",
            "f-350 superduty dually 4x4 1\n",
            "slk-class 2dr 1\n",
            "Trumph TR6 1\n",
            "titan xd/sl 1\n",
            "ion 3 sport 1\n",
            "j30t 1\n",
            "yukon 2wd 1\n",
            "cr-v crv ex-l 1\n",
            "murano.awd 1\n",
            "merceds benz cls500 1\n",
            "xc90 t5 1\n",
            "2018 Polaris Slingshot 1\n",
            "Hot Rod 1\n",
            "pickup 1500 classic $346 month, $1500 down, only 20k miles, $346 month, $1500 down, only 20k miles 1\n",
            "new beetle gls turbo 1\n",
            "tradesman cargo 1\n",
            "Chevey Cavalier 1\n",
            "rio lx sedan 1\n",
            "sedona sxl 3.3l v6 1\n",
            ";esabre 1\n",
            "550i gran turismo 550i 1\n",
            "1946 Plymouth 1\n",
            "mustang gt shelby edition 1\n",
            "e-class e350 4mat 1\n",
            "camry se*fuel economy!! 1\n",
            "DaimlerChrysler CROSSFIRE 1\n",
            "fuso fe640 1\n",
            "3335xi 1\n",
            "2016 v6 mustang 1\n",
            "murcury cyclone 1\n",
            "impala 1ls 1\n",
            "c3500 service truck 1\n",
            "civic 4dr mt ex 1\n",
            "cr-v ex-l, 4wd 1\n",
            "galant sport 1\n",
            "Saab 9-3 2DR CONV VIGGEN MANUAL 1\n",
            "Nash Lafayette 1\n",
            "extended cab step side 1\n",
            "FORD- F-800 1\n",
            "willys cj3b 1\n",
            "elanta 1\n",
            "220 1\n",
            "corvette 2dr stingray z51 cpe w/2lt 1\n",
            "tl 3.5l v6 1\n",
            "1949 Diamond T 201 1\n",
            "challenger sxt plus 2dr 1\n",
            "Chevrolet/Thomas Mintour 1\n",
            "grand cherokee limited lim 1\n",
            "fusion se v6 1\n",
            "v65 magna 1\n",
            "2000 F150 4x4 5 speed 1\n",
            "c7d042 1\n",
            "crysler town & country 1\n",
            "AM GENERAL HUMMER 1\n",
            "golf gti se hatchbac 1\n",
            "benz 300d turbo diesel 1\n",
            "civic sedan vp 1\n",
            "prius 5 1\n",
            "ml 350 sport 1\n",
            "cobalt sedan 1\n",
            "express extended 3500 1\n",
            "f150 xlt supercrew cab 1\n",
            "1967 fordvan 1\n",
            "Chev. 210 Sedan 1\n",
            "xc60 3.2l awd 1\n",
            "3500 bighorn 1\n",
            "f250 psd 1\n",
            "ptcruiser 1\n",
            "df250 1\n",
            "tacoma 4x4 quarter ton 1\n",
            "f550 bucket truck 1\n",
            "4500 regular cab & chassis 1\n",
            "International 4300 Conventional 1\n",
            "jimmy sle 4x4 1\n",
            "sho 1\n",
            "grand cherokee limited | 1\n",
            "International DT4400 1\n",
            "diesel cummins 3500 hd 1\n",
            "k 1500 1\n",
            "f150 xlt ecoboost 4x4 1\n",
            "savana 2500 work van cargo 1\n",
            "avalon xle *fr $499 down guaranteed finance 1\n",
            "1500 big horn hemi v8 4x4 1\n",
            "1500 conversation 1\n",
            "xk120 1\n",
            "l 100 1\n",
            "qx30 luxury 1\n",
            "tahoe 4x4 5.3l 1\n",
            "2004 SL 55 AMG 1\n",
            "Oldsmobile Cutlass S Convertible 1\n",
            "yukon xl denali! 1\n",
            "Z06 1\n",
            "s430 sedan 1\n",
            "tacoma trd sport double c 1\n",
            "tucson awd 4dr gls *90 d 1\n",
            "passat 2.5l s pzev 1\n",
            "2007 Suzuki 1\n",
            "1949 PLYMOUTH DELUXE 1\n",
            "cooper s john cooper works 1\n",
            "FREIGHTLINER XC CHASSIS 1\n",
            "ranger pickup 1\n",
            "99.5 F250 1\n",
            "Camaro Z 28 1\n",
            "tbird coupe 1\n",
            "wrx sti sti manual 1\n",
            "cosworth vega 1\n",
            "460l 1\n",
            "c20 step side pickup 1\n",
            "c 350e gas/electri 1\n",
            "3100 pick up 1\n",
            "suburban k1500 4x4 1\n",
            "tacoma *trd sport*back u 1\n",
            "volskwagen jetta 1\n",
            "BWM X5 1\n",
            "860 1\n",
            "avalanche lt 4wd 1\n",
            "xjs v-12 convertible 1\n",
            "sould 1\n",
            "1500 *4x4-slt 4dr -crew cab sb -pickup *local *truck 1\n",
            "w250 cummins 1\n",
            "transit-150 base cargo 1\n",
            "INTERNATIONAL 2654 1\n",
            "armada 2wd 4dr se ffv 1\n",
            "TAHOE Z71 1\n",
            "Packard Touring Sedan 2392 1\n",
            "Chevey Astro Van 1\n",
            "monte carlo ss #3 1\n",
            "ranger xlt 4x4 supercab 1\n",
            "sunbird convertible 1\n",
            "Mainline Tudor Sedan 1\n",
            "optima lx sedan 1\n",
            "rlx sport hybrid w/advanc 1\n",
            "2015 international 1\n",
            "f-150 platinum 4wd supercrew 5.5' box 1\n",
            "THUNDERBIRD  CONV. 1\n",
            "x5 awd xdrive35i premium 1\n",
            "FREIGHTLINER SPRINTER 3500 1\n",
            "volt base 1\n",
            "cj-2 1\n",
            "2001 SABARU LEGACY OUTBACK 1\n",
            "1950 Studebaker 1\n",
            "f-550 bus 1\n",
            "titan xd diesel crew ca 1\n",
            "PEUGEOT 1\n",
            "f250 utility bed v10 1\n",
            "atlas sel 1\n",
            "a5 prem plus convertible 1\n",
            "cummin 3500 laramie 1\n",
            "f-250 crew cab 1\n",
            "jetta gt 1\n",
            "f-150 3.5l turbo 1\n",
            "2010 cls 550 1\n",
            "e-150 van 1\n",
            "fusion hybrid sedan 1\n",
            "GMC/FORD BUCKET TRUCKS 1\n",
            "530i 6cyl automatic only 121k heated leather sport 1\n",
            "rav4 hybrid xle awd 1\n",
            "sentra se-r 1\n",
            "cooper clubman base 3dr 1\n",
            "soul wgn man base 1\n",
            "cooper countryman s all4 i4 turbo awd 1\n",
            "2014 FJ Cruiser 1\n",
            "mustang shelby gt350r 1\n",
            "Silverado 2500 1\n",
            "atlas 3.6l v6 se w/t 1\n",
            "ion coupe 1\n",
            "explorer eddie bauersuv( 1\n",
            "Isuzu ramp truck 1\n",
            "liborty 1\n",
            "town cars 1\n",
            "crew outdoorsman pickup 1\n",
            "camaro coupe 2d 1\n",
            "Fleetwood Southwind 1\n",
            "can-am 1\n",
            "a4 quattro 1.8t 1\n",
            "kona ultimate dct awd 1\n",
            "300 300c 1\n",
            "rdx awd v6 1\n",
            "jetta se 1.8l 1\n",
            "435i xdrive m sport harman/ 1\n",
            "avalon xle touring 1\n",
            "1500 crew cab slt 4x4 1\n",
            "rx 400h base awdsuv 1\n",
            "Coachmen Other 1\n",
            "je 1\n",
            "stratus 4-door 1\n",
            "CHEVROLET/HHR 1\n",
            "sienn xle 1\n",
            "frontier king cab se 1\n",
            "silverado 1500 4wd crew cab 157\" custom trail boss 1\n",
            "tiguan sel 4motion 1\n",
            "mdx sh awd gas suv auto 1\n",
            "tlx 3.5l fwd w/a-spec pkg 1\n",
            "75 1\n",
            "2500 4x4 diesel 1\n",
            "x5 3.01 1\n",
            "sportage lx 4wd 1\n",
            "forester 2.5 x premium p 1\n",
            "f-250 super duty xlt 4x4 / super cab / 7.3 l powerstroke turbo diesel / long bed / manual transmission 1\n",
            "silverado 1500 regula 1\n",
            "pacifica hybrid touring 1\n",
            "benz c 320 1\n",
            "500 lounge convertible 1\n",
            "x5 xdrive35i premium sport leather pano gps 20 niche 1\n",
            "f350 2wd 4dr dually diesel 1\n",
            "AMG General Humvee 1\n",
            "equinox ls 4x4 1\n",
            "f350 tow truck 1\n",
            "Super Beetle Sunbug 1\n",
            "328i sport line 20k miles h 1\n",
            "jetta 1.4 t r-line 1\n",
            "cooper s coupe 1\n",
            "mazda3 4-door grand touri 1\n",
            "2005 PT CRUISER CONVERT 1\n",
            "excursion lmited 1\n",
            "genesis coupe 3.8 r-spec 1\n",
            "ODGE GRAND CARAVAN SE 1\n",
            "commercial van g3 ms 1\n",
            "f550 xl - 16ft box truck 1\n",
            "1966 cj5 1\n",
            "2002 freightliner 1\n",
            "Outlander 1\n",
            "trailhawk 1\n",
            "tacoma 4wd double lb v6 a 1\n",
            "silverado 2500hd lt automatic 1\n",
            "f150 supercab xl 1\n",
            "ranger bad credit 1\n",
            "mark4 1\n",
            "camaro iroc-z28 1\n",
            "tahoe lt autoride 1\n",
            "flex sel 118k awd new tires 3rd row 118k 23mpg 1\n",
            "alanta convertible 1\n",
            "avenger se sedan 1\n",
            "Peterbilt 376 1\n",
            "civic lx 4dr sedan 1\n",
            "k1500 suburban slt 1\n",
            "g-van 1\n",
            "c220 1\n",
            "tahoe ls 2dr ls 1\n",
            "forester awd 2.5 limited 1\n",
            "camry sedan 1\n",
            "liberty freedom edition 4x4 1\n",
            "2001 f250 1\n",
            "m56 s. 1\n",
            "tacoma double cab v6 4wd 4-speed automatic 1\n",
            "- forester 1\n",
            "gs 455 1\n",
            "8n 1\n",
            "jetta value edition 1\n",
            "Lotus Elan S130 1\n",
            "E-Z-GO TXT GAS 1\n",
            "1977 F250 Lowboy 1\n",
            "f-250 stx fx4 extended cab 1\n",
            "accord lx 2.4 1\n",
            "mustang gtcs 1\n",
            "sonnic lt2 1\n",
            "sierra slt**v8,5.3l*leather 1\n",
            "spark ls manual 1\n",
            "yundai Sonata 1\n",
            "mg tc 1\n",
            "utility truck 1\n",
            "civic lx 4dr sedan 5m 1\n",
            "f 350 super duty lariat 1\n",
            "Jayco Jay Feather 1\n",
            "f-350 sd fx4 crew cab 1\n",
            "f150 ext cab 5.0 4x4 1\n",
            "xc60 t5 momentum 1\n",
            "FRRV Chaparral Lite 1\n",
            "super duty f-650 chassis v-10 1\n",
            "f150 2011 1\n",
            "1986 CJ-7 1\n",
            "e 320 bluetec 1\n",
            "2001 es300 1\n",
            "check blazer 1\n",
            "1500 slt 4dr quad cab v8 automatic short bed tow pkg 1\n",
            "Wabash 1\n",
            "f-250 flat bed 1\n",
            "dakota 2dr club cab 131 1\n",
            "sorento awd 4dr v6 lx 1\n",
            "grand cherokee se wj 1\n",
            "Nisan 1\n",
            "97 Geo tracker 1\n",
            "sienna 5dr 8-pass van se fwd (natl) 1\n",
            "mack ch613 1\n",
            "highlander 3.5 limited 1\n",
            "Keep Gladiator Overland 1\n",
            "f550 super duty 4x4 1\n",
            "Town an 1\n",
            "2 series 2dr cpe 228i rwd 1\n",
            "benz 380slc 1\n",
            "convertible crossfire 1\n",
            "charger police sxt 1\n",
            "suburban ltz rwd gas 1\n",
            "camaro z28 t-top 1\n",
            "altima 2.5s sedan 1\n",
            "1500 slt 1500 quad hemi 1\n",
            "golf r 4dr hb dsg 1\n",
            "500c pop 1\n",
            "2door 1\n",
            "x5 awd xdrive35i sport 1\n",
            "ihc scout 2 1\n",
            "f-150 lariat steeda 1\n",
            "633csi 1\n",
            "1931 model a pu truck wide body 1\n",
            "Genesis G70 2.0T automatic 1\n",
            "expedition limited rsc 1\n",
            "tiburon gs 5-spd manual 1\n",
            "ram1500 hemi 1\n",
            "landcruiser fj45 1\n",
            "z3m 1\n",
            "sienna le 8 pass. 1\n",
            "resto mod 1\n",
            "edge sel awd leather 22k miles ecoboost navi camera power fold rear seats lane departure 1\n",
            "tundra 4x4 2016 1\n",
            "Todos 1\n",
            "c 300 sedan,1 owne 1\n",
            "3 select fwd gas sedan 1\n",
            "evoke 1\n",
            "pickup 1500 lone star 4x2 1\n",
            "f2 50 1\n",
            "Miata 1\n",
            "tacoma 2wd sr 1\n",
            "VWs 1\n",
            "3500 service trk,only 1\n",
            "convert 1\n",
            "s60 t6 premier plus sedan 1\n",
            "econoline e350 superduty 1\n",
            "a4 4dr sdn auto quattro 2.0t premium plus 1\n",
            "grand cherokee srt 4x4 1\n",
            "2002 Miata 1\n",
            "300 lxsedan 1\n",
            "a3 tdi premium 1\n",
            "Cutlass ciera 1\n",
            "s6 quattro 1\n",
            "f350 superduty xlt 4x4 1\n",
            "golf alltrack sportwagen 1\n",
            "escape 2014 se 1\n",
            "2013 Isuzu NPR 1\n",
            "e63amg 1\n",
            "lacrosse/lesabre 1\n",
            "benz cl600 lorinser 1\n",
            "escape xlt sport suv 4d 1\n",
            "valiant charger 1\n",
            "MERCEDES-BENZ/CLK-CLASS 1\n",
            "celica gt-s convertible 1\n",
            "accent gshatchback 1\n",
            "s350 1\n",
            "1961 F100 1\n",
            "forrester awd 1\n",
            "sorento lx v6 awd 4dr suv 1\n",
            "XKE 1\n",
            "ft6000 1\n",
            "ex35 journey awd 1\n",
            "commander limited 4dr suv 1\n",
            "2003 F250 Superduty 1\n",
            "captiva awd sport ltz 1\n",
            "b-3-b 1\n",
            "pilot touring w/nav 1\n",
            "BENTLEY GT/GTR 1\n",
            "sable wagon ls premium 1\n",
            "terrain sl 1\n",
            "MOTORCYCLE 1\n",
            "civic si 2dr coupe 1\n",
            "530i sedan 1\n",
            "element lx (awd) 1\n",
            "transit van t-250 low roof 1\n",
            "f-150 lariat supercrew 5.5-ft. bed 4wd 6-speed aut 1\n",
            "mustang 2dr fastback gt 1\n",
            "cr-v ex-l 4wd nav 1\n",
            "rav4 hybrid se 1\n",
            "dtx 1\n",
            "fxst 1\n",
            "super duty f-250 platinum 1\n",
            "benz d300 diesel 1\n",
            "tahoe 2dr 1\n",
            "1988Ford Ranger XLT 1\n",
            "f-150 xlt, 392 month, 2.9%apr, $1500 down, oac, $392.37 month, 2.9%apr, $1500 down, oac, $23,750, 1\n",
            "chevelle malibu conver 1\n",
            "acadia awd slt-1 1\n",
            "forte exsedan 4a 1\n",
            "300-hemi v8!! black pearl!! camel leather! loaded! 1\n",
            "nautilus standard 1\n",
            "lifted f150 xlt rwd 1/2 ton 1\n",
            "gm diesel truck 1\n",
            "International C1200 4x4 1\n",
            "expedition xlt 4dr suv 1\n",
            "clubman cooper hatchback 1\n",
            "rio5 sx 1\n",
            "g-series explorer conversion van 1\n",
            "INTERNATIONAL 4300 BOX TRUCK 1\n",
            "Chrsler Crossfire 1\n",
            "journey $299 month, only 20k miles, $1500 down, 3rd row, $299 month, only 20k miles, $1500 down, 3rd row, 1\n",
            "cherokee limited v6 awd 1\n",
            "decota 1\n",
            "1977 F-350 Super Cab 1\n",
            "Landou 1\n",
            "legacy *back up cam!! 1\n",
            "super duty lariat f-350 srw 1\n",
            "1500 big horn 4x4 5.7l hemi 1\n",
            "accord coupe lx-s 1\n",
            "f-350 service 1\n",
            "silverado 3500 hd diesel 1\n",
            "gold wing 1\n",
            "transit-250 automatic 1\n",
            "f-450 dump truck 1\n",
            "camaro z-28 1\n",
            "4runner sr% 4x4 1\n",
            "2500 st 4wd 1\n",
            "2500 ext cab 1\n",
            "geo tracker convertible 1\n",
            "sq5 3.0t prestige 1\n",
            "F-350  XL  6.2L GAS  RWD-CLEAN 1\n",
            "tundra sr5 v6 1\n",
            "trail blazer lt 1\n",
            "express passenger lt 1\n",
            "v70 convertible 1\n",
            "impreza wrx-s**moon roof 1\n",
            "Studebaker r17 1\n",
            "cherokee altitude sport 1\n",
            "INTERNATIONAL SA625 1\n",
            "escalade 1500 3rd row 1\n",
            "civic cng 1\n",
            "Crosley wagon 1\n",
            "S60 2.5 t5 1\n",
            "Chevoret Camaro 1\n",
            "odyssey ex-l *only 25k miles* leather navi cam power doors 1\n",
            "x1 xdrive 35i 1\n",
            "2000 Tour Bus 1\n",
            "2003 Crown Victoria 1\n",
            "g3500 cube van 1\n",
            "x5 xdrive50i awd m 1\n",
            "versa sv special edition 1\n",
            "s5 3.0t quattro premium 1\n",
            "f350 xl utility truck 1\n",
            "silverado 1500 4wd ext cab 143.5\" lt 1\n",
            "911 turbo s 1 owner 10k gps leather pano roof loaded 1\n",
            "f-150 lariat supercab 1\n",
            "2012 Peterbilt 389/Cottrell 1\n",
            "golf 1 owner 2dr 1\n",
            "2011 terrain 1\n",
            "liberty 4wd sport 1\n",
            "SUBABRU OUTBACK 1\n",
            "crossstrek premium 1\n",
            "2500 diésel 4x4 1\n",
            "mkx ultimate 4wd 1\n",
            "SIERRA 2500HD SLT 1\n",
            "cr-v touring sport utility 4d automatic 1\n",
            "tansit cargo 1\n",
            "tahoe lt 2dr 4x4 v8 5.7l automatic leather chrome wheels 1\n",
            "tacoma trd 4wd 1\n",
            "gr caravan hero 1\n",
            "cooper s. 1\n",
            "passat 2.5 se automatic 1\n",
            "Detomaso Pantera 1\n",
            "focust st 1\n",
            "2005 STXflareside 1\n",
            "cadenza sedan 4d 1\n",
            "c-class c 400 1\n",
            "grand cherokee srt awd 1\n",
            "735i 1\n",
            "ud 2000 1\n",
            "MCI J4500 1\n",
            "tacoma sr5 v6 crew cab 1\n",
            "1984 trans am 1\n",
            "2013 freightliner cascadia 1\n",
            "forte ex hatchback 5d 1\n",
            "c10 cst 1\n",
            "wrangler x virgin stock 1\n",
            "cayenne 4dr s hybrid 1\n",
            "ISUZU NPR-HD DIESEL 1\n",
            "f350 utility dually 1\n",
            "super duty f-450 drw platinum 4wd crew cab 8' box 1\n",
            "4runne sr5 1\n",
            "benz r-350 1\n",
            "outlander sel fwd 1\n",
            "ats 2.5l automatic 1\n",
            "terazza 1\n",
            "1985 blazer 1\n",
            "rav4 xlesuv 1\n",
            "es-350 1\n",
            "silveradoo 1500 1\n",
            "Scion xD Base 4dr Hatchback 5M 1\n",
            "CROSLEY 1\n",
            "excursion xlt sport utilit 1\n",
            "prius hybrid fwd auto 2 1\n",
            "850 spider 1\n",
            "Old willy 1\n",
            "gls 450 4matic suv 1\n",
            "ranger2002 1\n",
            "chysler convertible 200 1\n",
            "sts v8 rwd 1\n",
            "HODA 2 DOOR 1\n",
            "bens amg gts 1\n",
            "MERCEDS-BENZ C -CLASS C250 1\n",
            "International Maxxforce 1\n",
            "versa 1.6sl 1\n",
            "sonata 2.4l se fwd 1\n",
            "Bridgestone + Mastercraft 1\n",
            "sephia 1\n",
            "MB E320 1\n",
            "HUMMER H3 AWD SUV 1\n",
            "1983 Trans Am 1\n",
            "TOWN COUNTRY 1\n",
            "super duty f- drw xl wd reg cab wb ca 1\n",
            "rl 2.5 1\n",
            "e63s 1\n",
            "frontier xe 4x4 1\n",
            "f-250 v10 1\n",
            "silverado lt double 1\n",
            "c30 t5 r-design 2.5l auto heated leather moon roof 1\n",
            "wrnagler 1\n",
            "f-150 platinum 4dr superc 1\n",
            "4- runner 1\n",
            "5 series 535i xdrive 4dr s 1\n",
            "1500 r/t sport 4wd 1\n",
            "AMC CJ5 1\n",
            "forte 5 1\n",
            "Kig Stinger GT 1\n",
            "g6 114k miles ecotec 2.4l i4 169hp 160ft. 1\n",
            "frontier sv automatic 1\n",
            "Oldsmobile 98 Regency 1\n",
            "CHRYLER TOWN AND COUNTRY SPORT 1\n",
            "bennz s550 1\n",
            "Karma Revero 1\n",
            "tahoe -lt 1\n",
            "forester 2.5x premium all wheel drive 1\n",
            "2009 Scion xB 1\n",
            "range velar p380 hse 1\n",
            "2011 Outback Sport 1\n",
            "Hino 258ALP 1\n",
            "pickup 1500 trx4 1\n",
            "2005 hummer h2 1\n",
            "1500 laramie slt 5.9 1\n",
            "soul wgn auto 1\n",
            "civic 2dr auto ex 1\n",
            "CHVEROLET SILVERADO EX-CAB 4X4 1\n",
            "1500 crew sport 4x4 1\n",
            "f150 reg cab 1\n",
            "express 2500 cargo va 1\n",
            "1969 1968 1964 1\n",
            "scion xb hatchback 1\n",
            "grand cherokee xj 1\n",
            "c7500 service truck w crane 1\n",
            "SANTA FE 1\n",
            "x5 m 4dr suv 1\n",
            "s550 sedan 1\n",
            "sierra hd sle2 1\n",
            "Pontaic Grand Prix GTP Coupe 2D 1\n",
            "1954 1\n",
            "cla-250 sport 1\n",
            "rav4 le awd 10k miles camera lane departure crash avoid 34 mpg 1\n",
            "-350 1\n",
            "1FAHP2EW0AG138207 1\n",
            "Ranger Sport 1\n",
            "benz ml55 1\n",
            "Hummer H3 4x4 1\n",
            "beetle bug convertible 1\n",
            "titan se crew cab 5.5' 1\n",
            "xc90 r-design fwd 1\n",
            "durango citadel awd v8 hemi heated leather moon roof 3 row 1\n",
            "versa sv.1.6 1\n",
            "2 door coupe 1\n",
            "super duty f-350 lariat 1\n",
            "eclipse 2008 1\n",
            "touareg v8 awd 1\n",
            "flex limited 2wd v6 1\n",
            "wringler sport 1\n",
            "skyhawk 1\n",
            "super crew 4x4 1\n",
            "malibu premier sedan 1\n",
            "e500 4-matic 1\n",
            "tribute es 1\n",
            "1999 CL500 1\n",
            "2.5 sl 1\n",
            "cougar xr-7 1\n",
            "odyssey ex-l wheelchair h 1\n",
            "libert sport 4 x 4 1\n",
            "s40 1.9t 1\n",
            "6000 topkick 1\n",
            "soul +crossover 1\n",
            "jimmy k5 1\n",
            "frontier crew cab xe 1\n",
            "srx-4 1\n",
            "c 300 4matic keyl 1\n",
            "Jensen 1\n",
            "highland xle 1\n",
            "vnl64t 1\n",
            "f250 xl 4x4 1\n",
            "633 csi 1\n",
            "sts v8 1\n",
            "f350 dually diesel utility 1\n",
            "alpina b7 lwb xdrive 1\n",
            "camry - se 1\n",
            "sedona exmini van 1\n",
            "1995 Ambulance 1\n",
            "lifted f250 diesel xlt 4x4 1\n",
            "HINO 258ALP 1\n",
            "1971 CHEVELLE MALIBU SS REPLICA 1\n",
            "forester 2.5i awdwagon 1\n",
            "ranger xl 4x4 1\n",
            "c/k 1500 short bed 1\n",
            "f35o 1\n",
            "Scion FR-S Monogram 1\n",
            "benz ml55 amg 1\n",
            "super duty f-250 lariat - 1\n",
            "a6 2.0t 1\n",
            "gtr premium 1\n",
            "944, 86 + 90 1\n",
            "camry le wagon 1\n",
            "335i m-sport 1\n",
            "tundra 4wd truck ltd 1\n",
            "3335i x drive gt 1\n",
            "2017 Camaro SS 1LE 1\n",
            "2004 Hummer H2 1\n",
            "forester x se 1\n",
            "1500 slt automatic 1\n",
            "yukon 1500 slt 4x4 half ton 1\n",
            "Saab 9-7x 1\n",
            "1997 s10 1\n",
            "escape 103 in wb xls 1\n",
            "e-250 wheelchair conversion 1\n",
            "corolla le*fuel economy! 1\n",
            "/ accord 1\n",
            "outback xt limited awd 1\n",
            "fairlaine 1\n",
            "fusion r4542 1\n",
            "350 super duty van 1\n",
            "galant fe 1\n",
            "suburban 2500 4x4 lt 1\n",
            "2 series 228i xdrive coupe 1\n",
            "accorx 1\n",
            "trailblazer 4wd. 1\n",
            "ipace 1\n",
            "1953 victoria 1\n",
            "300td 1\n",
            "e350 deisel 1\n",
            "acadia sle-2 automatic 1\n",
            "03 subura baja 1\n",
            "is 250 sport sedan 1\n",
            "silverado 3500 hd lt / 4x4 / dually / 6.6l duramax diesl / allison transmission / long bed / 139k miles / ** lbz engine ** 1\n",
            "accord sedan 4dr i4 cvt ex-l w/navi 1\n",
            "f-150 platinum**navi*cam*l 1\n",
            "rc sport 1\n",
            "Silverado 1\n",
            "c300 4matic sport 1\n",
            "f-150 sport ecoboost 4x4 1\n",
            "Boxster 1\n",
            "mdx tech package awd 1\n",
            "outback 2.5 limited 1\n",
            "gs 350 f-sport premium 1\n",
            "powerstroke diesel 4x4 1\n",
            "mdx sh awd avance 1\n",
            "f-pace 35t prestige 1\n",
            "prius c 5dr hb two 1\n",
            "f650 supercrewzer 1\n",
            "legacy outback sedan 1\n",
            "cabrio convertable 1\n",
            "encore gx awd 4dr essence 1\n",
            "feaf 1\n",
            "q7 55 tfsi premium plus 1\n",
            "patriot 4 wheel drive 1\n",
            "acadia slt 4x4 1\n",
            "q7 3.0t sline prestige awd 1\n",
            "xc90 2.5t 4wd 1\n",
            "ridgeline rtl-t awd 1\n",
            "m550i xdrive 1\n",
            "yukon denali 2wd 1\n",
            "odyssey van ex 1\n",
            "integra se 1\n",
            "Acela Monterra 1\n",
            "sierra classic 2500hd 4x4 1\n",
            "International 7300 4X4 1\n",
            "stingray 1\n",
            "MECEDES BENZ 300TE 1\n",
            "280 1\n",
            "Bluetooth wireless 1\n",
            "sierra 1500 ltz 1\n",
            "forester 2.5i awd gas suv 1\n",
            "Hudson terraplane 1\n",
            "protege es 81k miles 1\n",
            "q5 premium plus awd gas suv 1\n",
            "AM General Water Truck 1\n",
            "charger 4dr sdn sxt 1\n",
            "tiguan 2.0 4 motion 1\n",
            "camry le*fuel economy! 1\n",
            "silverado 3500h 1\n",
            "liberty limited 4dr 1\n",
            "1966 1\n",
            "civic ex, gas saver, reli 1\n",
            "is 250 4dr sport sdn auto awd 1\n",
            "kona limited automatic 1\n",
            "liberty 3.7 v6 1\n",
            "a6 3.2 sw 1\n",
            "Plymouth roadrunner 1\n",
            "a4 allroad quattro 1\n",
            "1987 humvee 1\n",
            "grand cherokee limited 5.9 1\n",
            "NEW HANDICAP VAN 1\n",
            "optima turbo lx 1\n",
            "grandville convertible 1\n",
            "f350 7.3l 1\n",
            "terrain slt-1 awd 1\n",
            "sonata limited 3.3l 1\n",
            "2007 civic EX Coupe 1\n",
            "f-150 xlt xtr super cab b 1\n",
            "silverado 1500,ls 1\n",
            "mustang ecoboost fastback 1\n",
            "f150 (eco boost) 4x4 1\n",
            "roadmaster ltd 1\n",
            "titan 4wd crew cab swb sv 1\n",
            "es350 luxury package 1\n",
            "corolla le 1.8l automatic sedan only 47k low miles 2 owner 1\n",
            "TACOMA  4WD  CLEAN TITLE 1\n",
            "Chrolet Malibu 1\n",
            "sienna 5dr 8-pass van xle fwd (natl) 1\n",
            "golf 1.8t se auto 1\n",
            "15-PASSENGER VAN 1\n",
            "Mark 8 coupe 1\n",
            "dakota big horn 4x4 4dr crew 1\n",
            "1968 Chevelle 1\n",
            "concession 1\n",
            "isuzu 4x4 pickup 1\n",
            "elantra sel ivt 1\n",
            "metro lsi 1\n",
            "workhourse/90km 1\n",
            "Mustang GT premium 1\n",
            "escape titanium fwd 1\n",
            "2012 MAZDA3 1\n",
            "q3 premium plus**navi*moon 1\n",
            "Bentley MK VI saloon 1\n",
            "multiple 1\n",
            "silverado ltz 1500 c 1\n",
            "forte lx auto 1\n",
            "mazda6 touring 4dr sedan 1\n",
            "1500 hfe 2wd 1\n",
            "g6 2dr cpe gt 1\n",
            "sierra sle 4x4 crew 1\n",
            "taurus x limited awd 1\n",
            "Call for a free estimate 1\n",
            "3500 wagon 1\n",
            "rdxnsh/awd 1\n",
            "ats 2.5l standard 1\n",
            "f350 lariat fx4 crew 1\n",
            "tacoma 4wd access cab v6 at (natl) 1\n",
            "2500 cargo 1\n",
            "MACAN GTS 1\n",
            "1500 slt rwd half ton 1\n",
            "savana 2500 extrnded 1\n",
            "1500 4wd crew cab 140.5 exp 1\n",
            "Genesis G70 2.0T Sport Sedan 4D 1\n",
            "xc90 r design 1\n",
            "Special/Riviera Model 40 Coupe 1\n",
            "69 c20 pickup 1\n",
            "corona 1\n",
            "r/t 1\n",
            "nx 200 1\n",
            "Food/Truck 1\n",
            "200 convertable 1\n",
            "rav4 xlr 1\n",
            "DELCO TRAILER 1\n",
            "2015 Silverado 2500 HD 1\n",
            "Isuzu NPR XD Powered Lift Box Truck RWD 1\n",
            "mustang v6 premium 6 speed manual 51k gps leather loaded 1\n",
            "1500 sport 4x4 quad cab 6'4\" box 1\n",
            "f-150 pickup truck 1\n",
            "higlander 1\n",
            "camry se*cam*leather*fue 1\n",
            "Studebaker GT Hawk's 1\n",
            "5.9l cummins 2500 slt 1\n",
            "97 Freightliner FL 70 1\n",
            "traverse rs 2lt 1\n",
            "legacy 3.6r limited sedan 1\n",
            "2 dr, sedan 1\n",
            "1993 3000gt 1\n",
            "LS 4x4 1\n",
            "murano hybrid 1\n",
            "cr-v 5dr awd ex 1\n",
            "Car 1\n",
            "accord sportsedan (1.5t 1\n",
            "f350 supercrew dually 1\n",
            "ats 2.5l 1\n",
            "escape se - awd - 3 months / 3,000 miles limited warranty 1\n",
            "m4 package 1\n",
            "hevrolet Colorado LT CREW CAB 1\n",
            "moke 1\n",
            "sorento **1 owner vehicle 1\n",
            "1928 Pierce Arrow Model 81 1\n",
            "2000 F150 XLT SUPERCAB 1\n",
            "xc60 t5 awd inscription 1\n",
            "dakota nascar truck 1\n",
            "murano sv (2017.5) sport 1\n",
            "rav4 limited heated leat 1\n",
            "is 250 luxury sedan / v6 2.5 l / moon roof / heated & cooled leather / fully loaded 1\n",
            "e 300 sedan 1\n",
            "impreza sedan wrx wrx li 1\n",
            "impreza 2.0i sport package 5 doors awd heated seats 1owner 1\n",
            "dakota slt 4x4 crew cab 1\n",
            "a4 3.2 quattro awd 1\n",
            "maxima 3.5l 1\n",
            "Any maker 1\n",
            "corvette -- c7 1\n",
            "titan sl midnight 1\n",
            "2500hd silverado 1\n",
            "International Freightliner 1\n",
            "2003subaru outback 1\n",
            "regal cxl turbo oshawa 1\n",
            "PLYMOUTH PROWLER 1\n",
            "6 mazda6 1\n",
            "freestyle se awd 1\n",
            "Passat 1\n",
            "liberty limited 4dr suv 1\n",
            "350 4×4 dauly 1\n",
            "c/v tradesman cargo van 101k miles no rear windows 1\n",
            "chysler 300c 1\n",
            "2003fordescape 1\n",
            "gt-r r35 1\n",
            "Dode challenger 1\n",
            "golf wagon tdi 1\n",
            "Chevrolet-2 OWNER! CLEAN! Silverado 1500-140k EXT CAB! 1\n",
            "torino cobra 1\n",
            "focus slt 1\n",
            "REGAL 1\n",
            "Genesis G80 3.3T Sport Sedan 4D 1\n",
            "-150 xlt 1\n",
            "outlook 4dr xr 1\n",
            "f-150 fx-4 1\n",
            "expedition 4x4 eddie bauer 1\n",
            "outback awd 2.5i limited 1\n",
            "outback 2.5xt 1\n",
            "2006 F150 Lariat 1\n",
            "1997 f350 xlt 1\n",
            "INTERNATIONAL 4400 1\n",
            "sonic hatchback 1\n",
            "c15 truck 1\n",
            "santa fe gls 2.7l 1\n",
            "sierra 1500 4dr 4x4 1\n",
            "tundra trd sport 1\n",
            "tracker lt 4x4 1\n",
            "sequoia sr5 4wd 1\n",
            "new spectra 1\n",
            "yukon 4wd 4dr sle 1\n",
            "1500 rebel crew cab 1\n",
            "silverado durmax 1500 1\n",
            "willys mahindra roxor 1\n",
            "e350 club wagon extended 1\n",
            "f-150 supercab 145 in 1\n",
            "sc430 conv. 1\n",
            "toronado 1\n",
            "sierra 3500hd diesel 1\n",
            "c-class c 250 2dr 1\n",
            "AMC RAMBLER 1\n",
            "07 SONATA 1\n",
            "5500 st chassis diesel 1\n",
            "300 limo 1\n",
            "pilot ex-l w/dvd 1\n",
            "f250 4x4 diesel crew cab 1\n",
            "1991 Suzuki samurai 1\n",
            "corolla - le 1\n",
            "r1000s 1\n",
            "odyssey ex w/ leather 1\n",
            "legacy outback 4dr wago 1\n",
            "grand cherokee trail hawk 1\n",
            "saab 9-5 aero wagon 1\n",
            "f-350 super duty crwc 1\n",
            "Scion tC 2dr HB Auto (Natl) 1\n",
            "excursion eddie bauer only 81k leather 3 row seating loaded 1\n",
            "tundra sr5**v8,5.7l*;eat 1\n",
            "sierra 1500 slt crew cab 143 1\n",
            "cr-v /ex 1\n",
            "2500 mega cab laramie picku 1\n",
            "Geo Metro 1\n",
            "Hummer H3 H3x 4x4 1\n",
            "journey economy suv 1\n",
            "q7 quattro prestige s line 1\n",
            "tacpoma double cab 4x4 1\n",
            "xterra offroad 4x4 1\n",
            "360 convertable 1\n",
            "Saab 9-2X Sport Wagon 1\n",
            "wrx hatchback 1\n",
            "tlx w/advance pkg automatic 1\n",
            "mdx tech/entertainment pkg 1\n",
            "explorer eddie bauer 4dr eddie bauer 1\n",
            "dump tuck 1\n",
            "f550 super duty 4wd 1\n",
            "Chevelle  s10 1\n",
            "estima emina 1\n",
            "Sterling Bullet Chassis 5500 4X4 1\n",
            "pathfinder xe 1\n",
            "couger 1\n",
            "911 carrera 4 awd 6spd 1\n",
            "x3 xdrive28i x3 xdrive28i 1\n",
            "tow dolly 1\n",
            "CASE 621C 1\n",
            "f350 4x4 bulletproof 1\n",
            "1976 Monte Carlo 1\n",
            "155,037 1\n",
            "300 d 1\n",
            "glc turbo 1\n",
            "Suzuki XL-7 Luxury 3-Row 1\n",
            "a4 allroad premium plus awd 1\n",
            "328i 98468 1\n",
            "caliber sxt i4 fwd 1\n",
            "gs 50 1\n",
            "fustion se 1\n",
            "s-10 extreme 1\n",
            "lesabre 4dr sdn 1\n",
            "grand prix hurst ssj 1\n",
            "Itasca Spirit 1\n",
            "prius five five panel 1\n",
            "Galaxie Custom 1\n",
            "e400 coupe 1\n",
            "k3500hd utility 1\n",
            "isetta 1\n",
            "INFINIT FX FX45 AWD 1\n",
            "forte ex hatchback 1\n",
            "benz e350 4matic sport 1\n",
            "2c4rc1cg0cr181348 1\n",
            "escape ltd 1\n",
            "benz 300e w124 1\n",
            "grand cherokee limited**le 1\n",
            "250 de cabriolet 1\n",
            "06TRX4 2500 turbo Diesel 1\n",
            "super duty f-250/lift gate/4x4/ 1\n",
            "impreza wagon 5dr auto 2.0i limited pzev 1\n",
            "911carrea s cabriolet 1\n",
            "landcrusier 1\n",
            "passat 1.8t sport 1\n",
            "Pickup 1\n",
            "benz l350 1\n",
            "1967 Nova SS 1\n",
            "grand am sdn se 1\n",
            "ridgeline 4x4 rtl! local a 1\n",
            "dakpta 1\n",
            "taurus tl 1\n",
            "rx-350 1\n",
            "titan club cag pro-4x 1\n",
            "qx80 base 4dr suv 1\n",
            "avenger rt 1\n",
            "F150 XLT CREW CAB 1\n",
            "2500 hd crew cab l bed 1\n",
            "ranger xlt 4dr supercab xlt 1\n",
            "jetta diesel 1\n",
            "tiguan 2.0t sel 4mot 1\n",
            "sierra slt*diesel*allison 1 1\n",
            "deluxe hardtop convertible 1\n",
            "a5 2.0 tfsi premium plus s 1\n",
            "pickup j4000 quadra trac 1\n",
            "f-150 stx supercab 1\n",
            "SCION TC 2dr HB 1\n",
            "amg c63 s sedan 1\n",
            "cherooke laredo 1\n",
            "2012 scion xb 1\n",
            "500e hatchback 2d 1\n",
            "328 awd 1\n",
            "rav4 le awd (natl) 1\n",
            "coupe special deluxe 1\n",
            "caravan se minivan 4d 1\n",
            "glk rwdglk 350 1\n",
            "tacoma prerunner truck 1\n",
            "xj8 vandan plas 1\n",
            "ct6 platinum 3.0tt 1\n",
            "2008 smart fortwo 1\n",
            "c4500 7 yard mason dump truck 1\n",
            "liberty 4wd 4dr limited 1\n",
            "escape sel ecoboost 1\n",
            "2500 $488 montslt,4x4,3/4 ton, will sell fast, hurry in $488 month, slt,4x4,3/4 ton, will sell fast, hurry in $2k down, oac, 2.9% apr, 1\n",
            "c-max energi titanium fwd 1\n",
            "200 sedan 1\n",
            "535i sedan 1\n",
            "e450 super duty bus 1\n",
            "soule 1\n",
            "f350 lariat dually 1\n",
            "2015 freightliner box truck 1\n",
            "xj8 sedan 1\n",
            "HTLD Cyclone 1\n",
            "silverado ltz crew 4x4 1\n",
            "snow ex 1\n",
            "ISUZU NPR FLATBED 1\n",
            "galaxie 500 starliner 1\n",
            "corolla xse cvt 1\n",
            "Mustang GT california special 1\n",
            "grand caravan sxt*v6,3.6l 1\n",
            "mdx fwd w/technology pkg 1\n",
            "190-class 1\n",
            "fusion s model 1\n",
            "focus zx4 sedan 1\n",
            "1500 quad cab slt pic 1\n",
            "f750 super duty 1\n",
            "transit cargo 250 3dr swb l 1\n",
            "cls cls 550 amg 1\n",
            "1967 Triumph TR 4A 1\n",
            "Nissan-34 MPG!! AUTO! BLACK BEAUTY! Sentra-BHPH! 1\n",
            "endeavor xls 4dr su 1\n",
            "oldsmobile ninety eight 1\n",
            "1 series 135i 2dr coupe 1\n",
            "Peterbilt Hino International 1\n",
            "tiburon gt v6 special 1\n",
            "12’ flatbed atruck 1\n",
            "c300/awd/nav... 1\n",
            "p3500 step van v-8 gas multiple uses 1\n",
            "silverado 3500 dually 1\n",
            "equinox premium awd 1\n",
            "yukon xl 2500 4wd 1\n",
            "4-series 440i xdrive gran c 1\n",
            "Crysler PT Cruiser 1\n",
            "911 carrera turbo 2dr c 1\n",
            "International shuttle bus 1\n",
            "nash 1\n",
            "silverado 1500 ltz z 1\n",
            "bonco ll 1\n",
            "bonneville 4dr sedan 1\n",
            "xlt 1\n",
            "rx 450h sport utility 1\n",
            "soul 62k 1\n",
            "corolla xrs 4dr sedan 5a 1\n",
            "landcruiser 4x4 1\n",
            "CRX DX 1\n",
            "1500 laramie**v8,5.7l!! 1\n",
            "1999 Suzuki Grand Vitara 1\n",
            "2011 Scion tc 1\n",
            "Chevy,Ford,Kia, BMW,Jeep,GMC 1\n",
            "f-450 platinum 1\n",
            "benz c300 coupe 1\n",
            "terrain slt v6 awd 1\n",
            "f150 triton 1\n",
            "Sterling Triaxle 1\n",
            "riviera supercharged 1\n",
            "Corvettes, classics, exotics 1\n",
            "a6 quatt. compet. prestige 1\n",
            "mbz 1961 190Db (ponton) 1\n",
            "2003 International 4300 1\n",
            "1966 ElCamino 1\n",
            "iSUZU NPR 1\n",
            "del sol s 1\n",
            "2006 Pontaic Grand Prix 1\n",
            "camaro z28 2dr 1\n",
            "f150 4x4 supwer crew xlt 1\n",
            "solstice base 2dr conver 1\n",
            "benz gla 250 4matic 1\n",
            "sentra 1.8l i4 auto137k miles 32mpg 1\n",
            "death proof nova 1\n",
            "250 5.9l v8 4 speed manual new tires long bed 1\n",
            "intrepid r/t 1\n",
            "cla45 1\n",
            "monte 1\n",
            "diesel h 1\n",
            "f150 extended cab 4x4 1\n",
            "f-350 super duty lariat powerstroke v8 4x4 1\n",
            "jetta sedan 2.0l 1\n",
            "gr. cherokee laredo 1\n",
            "TVR CHIMAERA 4.0 CONV 1\n",
            "cx-3 awd 1\n",
            "LABERON 1\n",
            "malibu lssedan 1\n",
            "1996 monte carlo 1\n",
            "f-150 4wd supercab 145\" xl 1\n",
            "Roofnest Sparrow 1\n",
            "f550 super duty xl 6.7l 1\n",
            "cr-v ex-l navi 1\n",
            "lancer 2.0es 1\n",
            "00000000000000 1\n",
            "corvette 1986 1\n",
            "1968 1\n",
            "Oldsmobile F85 1\n",
            "s5 quattro cabriolet 1\n",
            "accord 2011 1\n",
            "3z 1\n",
            "200 limited platinum 1\n",
            "70 International 1\n",
            "fuso fk200 1\n",
            "versa special edition 1\n",
            "tacoma prerunner double c 1\n",
            "02 chevy. 1\n",
            "tacoma 2wd double cab v6 at prerunner (natl) 1\n",
            "xc90 r-design awd 1\n",
            "super v8 1\n",
            "1999 Z71 1\n",
            "23-window samba deluxe 1\n",
            "350z roadster convertible 1\n",
            "hr-v cvt ex 1\n",
            "rs 6 4.0t quattro avant 1\n",
            "2500 hd z71 ltz 1\n",
            "Infinty g35 1\n",
            "elegante 1\n",
            "jetta tdi sedan 4d 1\n",
            "Cascade 1\n",
            "ODYSSEY 1\n",
            "k10 custom deluxe 1\n",
            "mazada 3 1\n",
            "benz g55 amg 1\n",
            "1993 International Road Tractor 1\n",
            "taurus gl 1\n",
            "f150 super cab 4wd 1\n",
            "super duty e-250 1\n",
            "discovery se**navi*c 1\n",
            "f-150 fx4 3.5 ecoboost 1\n",
            "is is 300 f sport rwd 1\n",
            "C5 Corvette Convertible 1\n",
            "safari slt 1\n",
            "durango slt awd 1\n",
            "FREIGHTLINER M2 Service Truck w 1\n",
            "2019 Hundai Ioniq 1\n",
            "Oldsmobile Rocket 88 1\n",
            "f150 fxrew 4x44 supercrew 1\n",
            "Fff 1\n",
            "f150 4x4 crew cab 1\n",
            "we want your car 1\n",
            "rdx base 4dr suv 1\n",
            "Freightliner MT55 1\n",
            "f250 srw 1\n",
            "altima 3.5 se sedan 1\n",
            "sportage ex fwd 1\n",
            "1974 Triumph Spitfire 1500 1\n",
            "MEYERS SNOW PLOW 1\n",
            "2009 PT Cruiser 1\n",
            "a4 avant quattro 1\n",
            "c-v tradesman 1\n",
            "focus se 4dr 1\n",
            "International 3800 1\n",
            "prius hb 1 1\n",
            "continental reserve automatic 1\n",
            "transit passenger hd 350 hr 1\n",
            "accord lx w/ leather 1\n",
            "golf 2.5l pzev 4dr h 1\n",
            "c-x7 1\n",
            "transit t 250 1\n",
            "ct6 premium luxury awd 1\n",
            "Touring 1\n",
            "ats-v premier turbo 1\n",
            "528 i xdrive 1\n",
            "335i sport sedan 1\n",
            "f450-750 1\n",
            "s40 328i tsx c250 jetta 1\n",
            "focus se 4dr sedan 1\n",
            "Moto Guzzi V9 Bobber Sport 850 1\n",
            "x1 drive28i 1\n",
            "CORVETTE *ONLY 75K 1\n",
            "explorer limited* 1\n",
            "a3 2.0t quattro 4dr wagon 1\n",
            "prius v two cvt 1\n",
            "tacoma 4wd trd sport automatic 1\n",
            "yukon 4dr 4wd sle 1\n",
            "cr-v ex automatic 1\n",
            "zephyr 4dr sdn 1\n",
            "transit t 350 passanger 1\n",
            "c-class c 63 amg® 1\n",
            "odyssey ex-l navi 1\n",
            "cabriolet convertible 1\n",
            "1979 stingray corvette 1\n",
            "cr-v ex 4x4 / moon roof / new tires / excellent shape / 1-owner 1\n",
            "300m touring 1\n",
            "AMC Eagle 1\n",
            "Che y Silverado 4x4 1\n",
            "astro ls 2-owner cargo van 4.3l v6 190hp front and rear ac 1\n",
            "Silverado K2500HD 1\n",
            "hyundia tucson 1\n",
            "escalade ext luxury 1\n",
            "f-150 v8 1\n",
            "traverse rs 1\n",
            "rav4 4wd 4dr 4-cyl 4-spd at ltd (natl) 1\n",
            "pilot ex-l navi 1\n",
            "range diesel 1\n",
            "express bus 2500 1\n",
            "Pontica 1\n",
            "Any make or model 1\n",
            "Dogde grand caravan 1\n",
            "MITS. OUTLANDER SUV 1\n",
            "highlander le plus v6 1\n",
            "tucson se plus sport 1\n",
            "3500 hd ltz 1\n",
            "1990 food trailer and hitch 1\n",
            "xj40 1\n",
            "silverado lt 1500 do 1\n",
            "d 200 (project) 1\n",
            "pilot exl ex-l 1\n",
            "sentra svsedan 1\n",
            "Towing Services 1\n",
            "frontier sl v6 4x4 1\n",
            "g80 3.8 1\n",
            "cruze, 2lt 1\n",
            "genesis 3.80 1\n",
            "f-350 super duty xlt 4x4 6 1\n",
            "benz c300 td 1\n",
            "rogue s awd 4dr 1\n",
            "transcraft 1\n",
            "sorento sx limited 1\n",
            "a5 coupe 2.0 tfsi premium 1\n",
            "ranger xlt xlt 2dr supercab 1\n",
            "caddilac eldorado 1\n",
            "3500 limited 1\n",
            "TRD OFF ROAD 1\n",
            "4500 chassis cab tradesman 1\n",
            "silverado 1500 lt 4dr extended cab lt 1\n",
            "traverse ls awd gas 1\n",
            "slt daytona 4x4 1\n",
            "a3 s line 1\n",
            "wrangler with rubicon kit 1\n",
            "1500 sierra silverado 1\n",
            "outback gt 1\n",
            "accord sedan lx 1.5t cvt 1\n",
            "c-280 1\n",
            "kona sel .l auto 1\n",
            "2010 MURANO SL 1\n",
            "535 gran turismo 1\n",
            "ck1500 1\n",
            "is f 1\n",
            "a4 2.0t premium awd 1\n",
            "MAZDA5 1\n",
            "fit lx hatchback 1\n",
            "1500 4wd quad cab 140.5\" express 1\n",
            "corolla cesedan 4a 1\n",
            "740il e38 1\n",
            "altima 4dr sdn i4 2.5 1\n",
            "1997 CAMARO 1\n",
            "silverado 2500 utility 1\n",
            "grand cherokee ltd. 1\n",
            "e350 elkhart shuttle coach 1\n",
            "outlander sel awd 1\n",
            "priusc 1\n",
            "ftype r 1\n",
            "forester 2.5 xs 1\n",
            "Reef runner 1\n",
            "Bellaire 1\n",
            "syncro 4x4 1\n",
            "x5 4.4i sport utility 4d 1\n",
            "MORRRIS MINOR WOODY 1\n",
            "f150 shelby raptor baja 4x4 1\n",
            "350z roadster touring 1\n",
            "savanna explorer 1\n",
            "Chevorlet Camaro LS 1\n",
            "Chevorlet Optra 5 1\n",
            "x5 xdrive40e 1\n",
            "edge $270 month, $1000 down,nav, htd seats, 0 accidents $1000 down, $270 month, 1\n",
            "tacoma prerunner xtracab 1\n",
            "1935 Plymouth sedan 1\n",
            "genesis 3.8l 4dr sedan 1\n",
            "mazda3 5dr hb man s touring 1\n",
            "sienna limited white 1\n",
            "corento 1\n",
            "benz c3504matic coupe 1\n",
            "Keystone Springdale 1\n",
            "pickup 1500 classic lone 1\n",
            "2002 mustang gt 1\n",
            "versa 4dr sdn cvt 1.6 s 1\n",
            "canyon wt 1\n",
            "s400 hybrid 1\n",
            "acadia awd slt-2 1\n",
            "c-6500 duramax diesel non cdl 1\n",
            "frontier sc 128k **supercharged** 1\n",
            "Meredes E-320 1\n",
            "e430 awd sedan 4d 1\n",
            "tt turbo quattro 1\n",
            "suburban ls 1500 4x4 1\n",
            "escape limited awd 4dr suv 1\n",
            "sierra 1500 slt 4dr crew c 1\n",
            "velorex oscar 1\n",
            "62 corvette both tops 1\n",
            "xk8 coupe 1\n",
            "Chevrolet/Chevy Express 2500 1\n",
            "Volkswagon Beetle Convertible 1\n",
            "panamera rwd 1\n",
            "accord sedan 2.4 l4 lx automatic 1\n",
            "qx56 limited awd 1\n",
            "commercial transit commerci 1\n",
            "aerostar xlt 1\n",
            "grand caravan sxt v6 1\n",
            "tacoma dbl cab lb v6 1\n",
            "flare side 1\n",
            "lr2 4dr hse 1\n",
            "750i alpina 1\n",
            "v90 t5 cross country wagon 1\n",
            "protage 1\n",
            "es es 300h sedan 4d 1\n",
            "1966 to 2020 1\n",
            "Subaro Outback XT 1\n",
            "Fountaine 2014 1\n",
            "6 itouring 1\n",
            "triveca 1\n",
            "1983 Oldsmobile 98 1\n",
            "280zx turbo 1\n",
            "1989 4Runner SR5 1\n",
            "f-250 super duty xl xl 2dr regular cab 1\n",
            "sierra 2500hd base crew cab 1\n",
            "370z touring sport 1\n",
            "spider 124 1\n",
            "Eurovan Camper 1\n",
            "SR5 4 Runner 1\n",
            "outback 2.5xt limited 4 1\n",
            "sierra 1550 1\n",
            "Ponitac Lemans Sport 1\n",
            "lx 470 4wd 1\n",
            "hse**v8, 1\n",
            "hummer h3x 1\n",
            "trans am firehawk 1\n",
            "tacoma long bed sr5 1\n",
            "kc 1/2ton 1\n",
            "SAAB 9-3 TURBO 1\n",
            "passat se tdi diesel 1\n",
            "m235 ix 1\n",
            "Doge challenger 1\n",
            "CUSTOM 1\n",
            "328i xdrive luxury 1\n",
            "sorrento s 1\n",
            "xc90 t5 momentum 4dr suv 1\n",
            "3500 4x4 laramie 4dr crew cab 8 ft. lb srw pickup lifted off road wheels & tires 1\n",
            "MG midget 1275 1\n",
            "qx70 rwd 4dr 1\n",
            "sport 4x4 1\n",
            "2500 4wd laramie mega 1\n",
            "a3 2.0t premium pluswagon 1\n",
            "sable ls 4dr sedan 1\n",
            "cherokee golden eagle 1\n",
            "f-350 chassis 1\n",
            "2011 Impreza wrx 1\n",
            "Mustange Convrtible 1\n",
            "ranger unlimited rubicon 1\n",
            "p/t cruiser 1\n",
            "malibu 4dr sdn lt w/1lt 1\n",
            "passat r line 1\n",
            "Soul Rav4 crv cr-v SPORTAGE 1\n",
            "rio lx hatchback 1\n",
            "grand cherokee 4wd 4dr alti 1\n",
            "f350 super duty kingranch 1\n",
            "impala limited ls 1\n",
            "nisson frontier 1\n",
            "acadia sl 1\n",
            "387 peterbilt 1\n",
            "expedition max xlt 4x4 gas 1\n",
            "town and country wagon 1\n",
            "sierra denali 1500 sun roo 1\n",
            "escape equinox murano 1\n",
            "f-150 xl work truck 1\n",
            "yukon xl sle 1500 1\n",
            "passat fwd 1\n",
            "concours 1\n",
            "forte gt-line 1\n",
            "mdx fwd 1\n",
            "california convertible 1\n",
            "camaro z/28 ss 35th anniversary 67k miles 6 speed manual convertible 35th anniversary 1\n",
            "Chysler  Voyager 1\n",
            "civichonda si 1\n",
            "Hundai Elantra 1\n",
            "ChevySilverado 1\n",
            "XJ8 VDP 4DR SEDAN 1\n",
            "2005 f150 1\n",
            "spark ls hatchback 1\n",
            "soul + nav leather p.r 1 owner 1\n",
            "glb 1\n",
            "challenger base 1\n",
            "soul + 2.0l 117k 2-owner super clean 29mpg 1\n",
            "grand caravan es 1\n",
            "sclass 1\n",
            "tacoma x runner 1\n",
            "s40 t5turbo sedan 1\n",
            "Yj 1\n",
            "f150 supercrew fx4 4wd 1\n",
            "charger rt rwd gas sedan 1\n",
            "avalon ylimited 1\n",
            "1987 f150 1\n",
            "pathfinder platinum platinum 1\n",
            "silverado 1500 ls 4dr extended cab ls 1\n",
            "22r 1\n",
            "utility 1\n",
            "c800 1\n",
            "k900 1\n",
            "r 320 r320 bluetec 1\n",
            "impreza ts 1\n",
            "cherokee high altitude 1\n",
            "f-150 pick-up 1\n",
            "prius 2 hybrid 1\n",
            "tacoma 4x2 *prerunner 4dr access cab 6.1 sb 4a *1-owner* local *truck 1\n",
            "x-type 4dr sedan 2.5l au 1\n",
            "Subary Baja 1\n",
            "altima sdn v6 auto 3.5 1\n",
            "2016 Cevy silverado 1500 1\n",
            "supra a91 1\n",
            "hona civic hybrid 1\n",
            "is is turbo f sport - 20k 1\n",
            "2016 Odes Dominator 800cc 1\n",
            "Cad dts 1\n",
            "95 Geo Prizm 1\n",
            "2010 ESCALADE 1\n",
            "impreza 5sp manual 1\n",
            "f-150 xlt supercab 6.5' b 1\n",
            "silverado ltz 3500hd 1\n",
            "Alero GL1 1\n",
            "camaro ss*v8,6.2l!! 1\n",
            "century presidential 1\n",
            "avalanche 2lt 1\n",
            "YAMAHA SX190 1\n",
            "2008 hummer H3 1\n",
            "4runner sr5 4wd suv 1\n",
            "1965 Mustang 1\n",
            "panamera hb4 edition 1\n",
            "savana g2500 6.5l turbocharged diesel 1\n",
            "conversion van by explorer 1\n",
            "5500 heavy duty 4x4 1\n",
            "c/t hicube 1\n",
            "f 250 xlt fx4 crew cab 1\n",
            "freightliner m2106 1\n",
            "bentley flying spur 1\n",
            "suburban 4wd 4dr 2500 lt w/1lt 1\n",
            "acadia slt-1 awd 6-speed automatic 1\n",
            "300 300c rwd 1\n",
            "amg 1\n",
            "s10 1999 1\n",
            "tlx 4dr sdn fwd 1\n",
            "f350 drw 4x4 1\n",
            "1960 Austin Healey Sprite 1\n",
            "civic cpe lx 1\n",
            "miata touring 1\n",
            "sonata limited 2.0t *ltd 1\n",
            "f-250 super duty xlt 4dr e 1\n",
            "Imperial Crown Convertible 1\n",
            "hoghlander 1\n",
            "5500 slt 1\n",
            "scion tc release series 1\n",
            "GMW YUKON XL 1\n",
            "tundra 2wd truck grade 1\n",
            "sentra sv special edition 1\n",
            "mack cxu612 1\n",
            "si;verado 1\n",
            "passat 1.8t s auto 1\n",
            "ridgeline rts 4x4 1\n",
            "challenger rt plus 1\n",
            "p100d 1\n",
            "1500 sport 4x2 regular cab 6 1\n",
            "vue fwd v6 xr 1\n",
            "Infinti M35 1\n",
            "rx350 suv 1\n",
            "versa sedan s plus cvt 1\n",
            "4runner 4wd 4dr v6 limited (natl) 1\n",
            "camaro ss coupe 1\n",
            "1987 Monte Carlo SS 1\n",
            "avante quattro 1\n",
            "1977 MGB Tourer 1\n",
            "f-150 four-door crew cab 1\n",
            "eclipse+cross 1\n",
            "f-150 fx4 4x4 4dr supercab 1\n",
            "3500 mega cab laramie 1\n",
            "2000 Oldsmobile Intrigue 1\n",
            "HEARTLAND MALLARD M 302 ULTRALIT 1\n",
            "350 sl 1\n",
            "benz 560 sel 1\n",
            "c43 1\n",
            "escape 4wd 4dr titanium 1\n",
            "isc 250 1\n",
            "HRV EX-L 1\n",
            "nautilus reserve automatic 1\n",
            "xlr hardtop convertible 119k new wheels and tires 1\n",
            "armada titanium 1\n",
            "JETTA 1\n",
            "nova - 1978 1\n",
            "f350 4x4 dually 1\n",
            "sorento 4x4 1\n",
            "538i 1\n",
            "neoplan 1\n",
            "transit t350 stakebed truck 1\n",
            "terrain denali 4dr suv 1\n",
            "versa 1.6l 1\n",
            "IS 1\n",
            "Junk Cars 1\n",
            "Oldsmobile 88 LS 1\n",
            "Civic lx 1\n",
            "civi ex 1\n",
            "sierra 1500 slt gfx 1\n",
            "international harvester scout 1\n",
            "1959 biscayne impala 1\n",
            "f-150 4wd 1\n",
            "2.0 liter turbo 1\n",
            "altima ser 1\n",
            "750i m-sport package 1\n",
            "campagnola 1\n",
            "Crhysler 200 1\n",
            "mkz base 1\n",
            "canyon 2wd ext cab 128.3\" sle 1\n",
            "rogue sv hybrid 1\n",
            "f-550 11ft flatbed 1\n",
            "CHEV. CORVETTE 1\n",
            "raptor 4x4 supercrew 1\n",
            "silverado 3500hd cc wt 1\n",
            "260z 1\n",
            "blazer 2 door 1\n",
            "Alpha Romeo Stelvio Sport 1\n",
            "yukon xl denali 4wd 1\n",
            "xc 1\n",
            "transit wagon t-350 148 low 1\n",
            "yukon xl 4x4 1\n",
            "hyandai sonata 1\n",
            "mks ecoboost awd luxury 1\n",
            "mx-5 miata roadster 1\n",
            "x5 xdrive35d m-sport pkg -- 1\n",
            "e-150 ecovan 1\n",
            "escapre hybrid 1\n",
            "e150 handicap van 1\n",
            "Frazer Standard 1\n",
            "5 grand touring 1\n",
            "macan sport 1\n",
            "Oldsmobile LSS Sedan 1\n",
            "tsx 2.4l w/tech 1\n",
            "durango slt 2wd 1\n",
            "Setra S417 1\n",
            "Chevolet Colorado ZR2 1\n",
            "silverado 4x4 lt 1\n",
            "New Flyer D40LF 1\n",
            "cruze ltzsedan w/1lz 1\n",
            "avalanch 1\n",
            "jetta sportswagen 1\n",
            "ta 1\n",
            "1952 Bentley Mark VI 1\n",
            "International b32 1\n",
            "SCION TC Base 1\n",
            "tundra limited 4x4 trd 1\n",
            "3 i gt 1\n",
            "express cargo van van 1\n",
            "explorer 4x4 gas suv auto 1\n",
            "2007 Quattroporte Sport GT 1\n",
            "tundra limited crewmax 1\n",
            "sonoma sls automatic 1\n",
            "benz amg gle coupe 1\n",
            "Pete 379 1\n",
            "sentra sv cvt *ltd avail* 1\n",
            "outback 2.5 xt 1\n",
            "accord 1993 1\n",
            "flat bed lift gate 1\n",
            "cx 3 1\n",
            "zx2 1\n",
            "ud 1500 1\n",
            "odyssey,ford winstar 1\n",
            "landcruiser prado 1\n",
            "Zenith 1\n",
            "Forrest River Sierra 384QBOK 1\n",
            "silverado 2500 crew cab 1\n",
            "f-150 xl stx sport pkg 1\n",
            "optima hybrid ex 4d sedan automatic 1\n",
            "1993 300ZX 1\n",
            "lr4/hse/nav 1\n",
            "clubwagon 1\n",
            "1975 camaro 1\n",
            "silverado ltz 3500 c 1\n",
            "acadia slt-2 awd 1\n",
            "caddilac escalade esv 2006 1\n",
            "2013 Freightliner Cascadia 1\n",
            "brz 2.0 limited 1\n",
            "xjr super charged 1\n",
            "sienna l automatic 1\n",
            "ml550 4-matic/nav 1\n",
            "Eagle Summit 1\n",
            "equinox 1lt awd 1\n",
            "f-150 lariat 4x4 4door 1\n",
            "Paige 1\n",
            "ranger xlt super cab 4x4 1\n",
            "sierra 3500hd denali duramax 1\n",
            "olds coupe 1\n",
            "challenger srt 392 rwd gas 1\n",
            "1983 mustang 1\n",
            "maxim 1\n",
            "Corvette Coupe 1\n",
            "a4 premium plus awd nav 1\n",
            "highlander le i4 fwd (natl) 1\n",
            "tahoe ltz automatic 1\n",
            "a4 wagon 1\n",
            "tundra double cab 4-door 1\n",
            "tundra iforce v8 trd 1\n",
            "International 9300 1\n",
            "dakota bighorn 4x4 1\n",
            "mercedez benz c300 sport 1\n",
            "transit passenger wagon xlt 1\n",
            "f-250sd platinumcrew cab 1\n",
            "OLDSMOBILE INTRIGUE 1\n",
            "replica 1\n",
            "tundra grade 4x4 v8 5.7l automatic crewmax 2 owers 1\n",
            "tiguan limited 4motion 1\n",
            "edge sport edition 1\n",
            "q70l 3.7x 1\n",
            "tt 225 1\n",
            "chev-ford 1\n",
            "soul bluetooth power window 1\n",
            "soul urban special edition 1\n",
            "royal custom lancer 1\n",
            "3500 deisel cummins crew cab 1\n",
            "pilot touring 4x4 1\n",
            "grand caravan american va 1\n",
            "1977 maverick 1\n",
            "F350 Super Duty 1\n",
            "gs350 awd gas sedan auto 1\n",
            "American Motors (AMC) Eagle 4WD 1\n",
            "tahoea 1\n",
            "PETERBILT KENWORTH FREIGHTLINER 1\n",
            "s/w 1\n",
            "state auto sales 1\n",
            "fe-140g 1\n",
            "2002 rsx type s 1\n",
            "2001 f250 super duty 1\n",
            "cr-v exl suv 1\n",
            "200 4dr sdn s awd 1\n",
            "touareg l 1\n",
            "rogue 2017.5 sv 1\n",
            "jetta 1.4t s auto 1\n",
            "ct 200h premium hybrid gps heated leather moon 2 owners 1\n",
            "veloster base 3dr 1\n",
            "Madza Mx5  Miaita. 1\n",
            "944 - 5 speed ---- 1\n",
            "6 series 650i 2dr coupe 1\n",
            "a4 avant quattro wagon 1\n",
            "fusion se luxury 1\n",
            "corvette coupe 6.0l v 1\n",
            "s60 inscription platinum 1\n",
            "f450 diesel flatbed 1\n",
            "durango r/t automatic 1\n",
            "f650 6 door custom stretch 1\n",
            "sport cc 1\n",
            "altima coupe 3.5 1\n",
            "amg gt s carbon c 1\n",
            "e 55 amg v8 rwd 1\n",
            "e-350 4-matic stunning interior, 1\n",
            "express 2500 carpet c 1\n",
            "rainier cxl sport 1\n",
            "silverado 1500 8\" rea 1\n",
            "yukon xl 1500 denali 1\n",
            "cherokee altitude 4x4 1\n",
            "For Ranchero GT Brougham 1\n",
            "expedition el xl fleet 1\n",
            "sentrasr 1\n",
            "country squire ltd 1\n",
            "golf gti 2.0t rabbit edition manual 1\n",
            "aveo lt sedan 1\n",
            "1500 quad cab hemi 1\n",
            "tacoma sr5 dbl lb 1\n",
            "del sol si 1\n",
            "944 s2 1\n",
            "1951 Studebaker 1\n",
            "sierra 2500 hd base 1\n",
            "outback 2.5i limited 4d 1\n",
            "escape r4510 1\n",
            "4runner sr5 4dr suv 1\n",
            "astre 1\n",
            "transit connect xl van 1\n",
            "corvette l82 1\n",
            "tj lwb 1\n",
            "automatic 1\n",
            "KAWASAKI NINJA ZX-6R 1\n",
            "INTERNATIONAL 4300 CRANE 1\n",
            "cr-v 4x4 lx 1\n",
            "liberty sport 4wdsuv 1\n",
            "CHRYLSER GRAND CARAVAN 1\n",
            "e350 cutaway wheelchair van 1\n",
            "4runner sr5premium 4x4 1\n",
            "benz 500 sel 1\n",
            "ml320 cdi 4matic 1\n",
            "mirage de - 3 months / 3,000 miles limited warranty 1\n",
            "forda fiesta se 1\n",
            "'99 H1 Hummer 1\n",
            "hINO 268 1\n",
            "town and country limited 1\n",
            "WMWXP7C59K2A51028 1\n",
            "mustang gt v8 coupe 1\n",
            "g-series 1\n",
            "beetle 2.5l hatchback 1\n",
            "f-350 diesel truck 6.7l turbo diesel one owner lariat 1\n",
            "suzuki grand vitara xl-7 1\n",
            "impreza sedan premium 1 owner new head gaskets &timing belt 1\n",
            "short flatbed 1\n",
            "yukon slt 2003 1\n",
            "170000 1\n",
            "f-150 xlt supercab 4x4 f150 1\n",
            "terrain fwd 4dr sle 1\n",
            "focus sel automatic 1\n",
            "glk 350 low 1\n",
            "escalade ext sport 1\n",
            "gl-class gl350 bluetec suv 1\n",
            "Reatta 1\n",
            "2007 saab 9-3 1\n",
            "1500 laramie 4dr quad cab 4x4 v8 hemi leather moon 20s 1\n",
            "f250 lariat lightduty 1\n",
            "mkz, 4d sedan 1\n",
            "insight base 1\n",
            "c20 silverado 1\n",
            "outback lagacy wagon awd 1\n",
            "sierra 1500 rwd half ton gas 1\n",
            "station wagon v70 t5 1\n",
            "mecedes benz 1\n",
            "rma 1500 big horn 1\n",
            "escape se**back up cam*eco 1\n",
            "smart electric drive Prime 1\n",
            "escape xlssuv w/automatic 1\n",
            "Toyoya Tundra 1\n",
            "f350 super duty - service 1\n",
            "c-class amg c 43 1\n",
            "Keystone cougar 1\n",
            "1973 Corvette Stingray 1\n",
            "civic ex turbo 1\n",
            "promaster 136 1\n",
            "stealth rt twin turbo 1\n",
            "lwb 510+hp 1\n",
            "volkswagon CC 1\n",
            "super duty f-350 srw platinum automatic 1\n",
            "3500 cutaway 1\n",
            "Saab 92-X Aero 1\n",
            "thunderbird tudor 1\n",
            "t&c touring-l 1\n",
            "avalanche lt z71 1\n",
            "maxima 4dr sdn 3.5 s 1\n",
            "impreza premium wagon 1\n",
            "fusion hybrid titanium 1\n",
            "1975 olds 98 1\n",
            "gti golf s se 1\n",
            "sable wagon premium 1\n",
            "econoline cutaway 1\n",
            "davidson 883 iron 1\n",
            "340S 1\n",
            "Kendon 1\n",
            "accord lx , v6 1\n",
            "TOYOTY ECHO 1\n",
            "express 1500 awd cargo 1\n",
            "Eagle limited 4x4 1\n",
            "durango slt 4dr slt 1\n",
            "f-350 lariat fx4 1\n",
            "3500 cummins 4x4 crewcab 1\n",
            "2018 Wrx Sti 1\n",
            "arcadia slt awd 1\n",
            "syclone 1\n",
            "benz ml 350 4 matic 1\n",
            "International 4000 1\n",
            "f150 super cab * - loaded 1\n",
            "m240i convertible 18k sport premium m pkg leather 1\n",
            "silverado w/t 1\n",
            "sonic 4dr sdn auto premier 1\n",
            "slk 320 1\n",
            "2016 WW JETTA  SE   SPORT 1\n",
            "MACK CV713 Granite Tri-axle 1\n",
            "uplander ls ext. 1ls 1\n",
            "t2 camper 1\n",
            "1500 short box 4x4 1\n",
            "capiva sport 1\n",
            "320i e21 1\n",
            "gl-class gl320 cdi 1\n",
            "Carerpill 1\n",
            "sinic 1\n",
            "crew cab dually 3500 1\n",
            "f-250 super duty xlt 4dr cr 1\n",
            "venza hatchback fwd 1\n",
            "tundra limited doublecab 1\n",
            "ToyotaM Prius 1\n",
            "25oo-hd crew 1\n",
            "2006 chev. corvette COUPE 1\n",
            "mdx sh awd 4dr suv 1\n",
            "xv crosstrek 2.0 premium 1\n",
            "edge sel vista roof & 1\n",
            "cls-class sdn 5. 1\n",
            "car truck hot rod 1\n",
            "cargo commercial truck 1\n",
            "f-150 lariat certified pre 1\n",
            "330i conv 1\n",
            "convertable 1\n",
            "suburban 2500 ls 1\n",
            "trail blazer lt 4x4 1\n",
            "ecoline van e350 1\n",
            "equinox p4202 1\n",
            "gx gx 460 premium 4wd 1\n",
            "sierra 2500hd cre cab 4x4 1\n",
            "land cruiser kzj71 1\n",
            "fisker karma 1\n",
            "f-250 xlt crew 1\n",
            "370z sport touring v6 3.7l 6 speed manual 1 owner 1\n",
            "captiva awd 1\n",
            "ranger xlt 4x4 truck 1\n",
            "500x trekking 1 owner 1\n",
            "international 9400i 1\n",
            "gli 30th edition 1\n",
            "international 4300 rollback 1\n",
            "Toyoat Rav4 1\n",
            "x5 sdrive40i 1\n",
            "International prostar+ 1\n",
            "benz gl450 awd 1\n",
            "21847S283545 1\n",
            "vnl64t630 1\n",
            "mountainner premier 1\n",
            "camry se 2.5 1\n",
            "Isuzu Trooper S 1\n",
            "1500 slt 4x4 quad cab 135k lifted offroad tires tow pac 1\n",
            "Frightliner Colombia 1\n",
            "studebaker avanti 1\n",
            "Suabru Outback 1\n",
            "2500 *tradesman*4x4 *4dr -*c 1\n",
            "acadia sle fwd 1\n",
            "cheverolet 1\n",
            "davidson softail 1\n",
            "f150 super crew cab 4x4 1\n",
            "9-3 SE 1\n",
            "f-150 xlt supercrew 4wd 4-speed automatic 1\n",
            "mazda3 sedan 1\n",
            "quest xe 1\n",
            "accord se sedan 4d 1\n",
            "5-series 528i xdrive 1\n",
            "FOREST RIVER GAZELLE ULTRA L 1\n",
            "transit 250 mr 1\n",
            "optima k5 1\n",
            "e350 4matic wagon 1\n",
            "grand cherokee 4wd 4dr limi 1\n",
            "durango slt (hemi) 1\n",
            "ranger xlt supercab 2wd - 1\n",
            "malibu 4dr sdn ls w/1 1\n",
            "impala 4dr sdn lt w/1 1\n",
            "Volkswagen/Austin gasser 1\n",
            "benz slk 1\n",
            "1500 4.7 slt 1\n",
            "cr-v 2wdse 1\n",
            "PACKARD CLIPPER 1\n",
            "Chevy/Monte Carlo 1\n",
            "newport custom 1\n",
            "es 300h luxury sedan 4d 1\n",
            "crv ex awd gas suv auto 1\n",
            "International maxxforce diesel 1\n",
            "accord v6 ex-l 1\n",
            "Like New 1\n",
            "q7 prestige tdi 1\n",
            "skyline r32 gts-t 1\n",
            "fj cruiser 4wd 4dr auto 1\n",
            "colorado 4wd crew cab lt w/1lt 1\n",
            "e200 a econoline van 1\n",
            "2000 Mack 1\n",
            "rogue 2017.5 awd sv 1\n",
            "sierra 1500 2wd reg cab 133.0\" 1\n",
            "chassis 3500 4x4 2dr 1\n",
            "silverado 2500hd built after aug 1\n",
            "b400 se 1\n",
            "continental mark iv 1\n",
            "FOED MUSTANG 1\n",
            "versa note 5dr hb cvt 1.6 sv 1\n",
            "Club car 4 seat 1\n",
            "2020 Polaris Slingshot R 1\n",
            "sorento 4wd 1\n",
            "yukon xl denali**3rd row*na 1\n",
            "titan 4wd 1\n",
            "x5 4.4i awd 1\n",
            "cl 500 1\n",
            "352i 1\n",
            "Genesis G80 -3.3 Twin Trubo 1\n",
            "sl550 5.5l v8 1\n",
            "corolla ve 1\n",
            "1500 st express 1\n",
            "montero sport xls 1\n",
            ": 1\n",
            "forester sti 1\n",
            "silverado 1500 ltz automatic 1\n",
            "beetle 1973 1\n",
            "535 diesel sedan 1\n",
            "s500 5.0l 1\n",
            "altima sl sedan 1\n",
            "corolla..le 1\n",
            "Bwm 733i 1\n",
            "5N1AA0NE3BN614984 1\n",
            "Maui Full Body Bedliner 1\n",
            "1999 wanderer 1\n",
            "x5 xdrive 48i 1\n",
            "xj6 sedan 1\n",
            "x5 xdrive 1\n",
            "64 nova wagon 1\n",
            "trailblazer ltz 4x4 1\n",
            "cr-v * clean carfax! 1\n",
            "sovereign xj12 saloon 1\n",
            "2017 C300 4Matic Coupe 1\n",
            "Pre owned vehicle car suv truck 1\n",
            "versa note s 4dr hatchbac 1\n",
            "f-150 supercrew xl 4x4 1\n",
            "sonata sportsedan 1\n",
            "tahoe lt lt 4dr suv 1\n",
            "2010 Suzuki Kizashi 1\n",
            "BLUE 64 SPRINT CONVERTIBLE 1\n",
            "jetta 2.0 1\n",
            "nash ambassador 1\n",
            "2014 Outack 2.5i 1\n",
            "sierra slt crew all terrain 1\n",
            "a5 premium plus convertible 1\n",
            "charger rt 4dr sedan 1\n",
            "glc300 1\n",
            "benz ml63 amg 1\n",
            "rogue sl hybrid awd 1\n",
            "86 2dr coupe 6a backup c 1\n",
            "Toyta Camry 1\n",
            "rs 5 coupe 1\n",
            "international 9400 i eagle 1\n",
            "s 560 1\n",
            "1968 Rolls Royce￼ 1\n",
            "rx 350 4dr f sport 1\n",
            "sonic ltz turbo 1\n",
            "f-150 2wd supercrew 145 fx2 1\n",
            "2002 Oldsmobile Bravada 1\n",
            "f-550 4x4 box truck 1\n",
            "routen 1\n",
            "promaster city cargo tradesm 1\n",
            "legacy 2.5 gt 1\n",
            "terrian sle2 1\n",
            "ltz tahoe 1\n",
            "Peterbuilt 1\n",
            "cooper countryman base 1\n",
            "town n country limited 1\n",
            "fairlane 500 skyliner 1\n",
            "x5 awd 4dr xdrive35i premium 1\n",
            "silverado 2500 crew cab w/t 4x4 1\n",
            "mdx tech premium awd 1\n",
            "slc300 1\n",
            "ls 460 4dr sdn 1\n",
            "crosstrek 2.0i limited aw 1\n",
            "f450 diesel power stroke xl 1\n",
            "es 350 350 1\n",
            "a4 2.0t quattro sedan 1\n",
            "wrx sedan only 4200 miles 4cyl 2.0l turbo 1 owner 1\n",
            "edge selcrossover 1\n",
            "challenger srt-8 1\n",
            "acadia 2016 1\n",
            "scion xD 1\n",
            "Durango R/T 1\n",
            "sienna fwd limited white 1\n",
            "67 International Loadstar 1\n",
            "crossfire ltd 1\n",
            "Hyundia Azera 1\n",
            "legacy wagon 5dr outback h6 vdc 1\n",
            "es-339 1\n",
            "forte5 lx auto 1\n",
            "expedition loaded 1\n",
            "is G80 1\n",
            "330i xdrive f201277a 1\n",
            "7 series 750i*v8,4.4l*luxur 1\n",
            "fords ranger 1\n",
            "fj62 land cruiser 1\n",
            "leaf svplus hatchback 4d 1\n",
            "refrigerator e350 1\n",
            "panamera turbo s 1\n",
            "340ix 1\n",
            "town & country touring. 1\n",
            "5 series 4dr sdn 535i xdriv 1\n",
            "hummer h2 luxury 1\n",
            "transit t 350 ecoboost van 1\n",
            "sonata limited pzev 1\n",
            "liberty limited edition sp 1\n",
            "f-150 4x4 super cab xlt 1\n",
            "Impala brookwood 1\n",
            "ats v 1\n",
            "continental awd gas auto 1\n",
            "f-550 flatbed diesel 1\n",
            "Mercedez Benz  ML350 1\n",
            "coupe deville 62 1\n",
            "f100 panel truck 1\n",
            "1GBHP32M1D3330075 1\n",
            "no issues at all 1\n",
            "hino 155 1\n",
            "2004 s80 / turbo 1\n",
            "5500 crew cab flatbed 1\n",
            "f-350sd king ranch 1\n",
            "Nissas Xterra 1\n",
            "lifted f450 powerstroke 1\n",
            "impala sdn lt 1\n",
            "maserati quattroporte s 1\n",
            "x1 x 1\n",
            "1500trx trx 1\n",
            "mustang v6 manual 1\n",
            "impreza 2.0i awd automatic sedan only 68k 2 owners 1\n",
            "edge sel fwd gas suv auto 1\n",
            "f7 1\n",
            "silverado 1500 4wd crew cab 143.5\" ltz 1\n",
            "dakota quad cab slt 1\n",
            "focus titanium 5 doors heated leather moon 35k 1 owner 1\n",
            "500l pop hatchback 1\n",
            "corvette 1lt performa 1\n",
            "civic dx hatchback 1\n",
            "maserati quattroporte S Q4 1\n",
            "cts-v rwd 1\n",
            "EX-L 1\n",
            "titan sv,$392 month, 4x4 $1500 down, 3.9%apr, oac, only $392 month, 4x4 one owner,$1500 down, 3.9%apr, oac, only 65k miles 1\n",
            "528i 5 series 1\n",
            "coe semi w/18 feet frame 1\n",
            "silverado 1500 trail bos 1\n",
            "volts wagon passat 1\n",
            "e350 sd ext cargo van 1\n",
            "MACK CV713 Granite Dump Truck 1\n",
            "silverado 1500 ld 4wd 1\n",
            "volkswagon cabrio 1\n",
            "Pylmouth Valiant 1\n",
            "f550 super 1\n",
            "s70 se 1\n",
            "optimia premium 1\n",
            "Will fit 1\n",
            "mrx 1\n",
            "f-150 xlt**back up cam*v6, 1\n",
            "AM GENERAL H1 HUMVEE 1\n",
            "corolla s 4dr sedan 1\n",
            "des-Benz GLA 1\n",
            "s10 extcab 1\n",
            "charger 2.7 1\n",
            "express duramax g4500 1\n",
            "c7500 14 foot stake body flatbed 1\n",
            "02 murcury mountaineer 1\n",
            "jimmy slt 4x4 1\n",
            "acadia awdslt w/slt-1 1\n",
            "tundra (4.7l) 1\n",
            "dart gt sporty 1\n",
            "is250 sport rwd gas sedan 1\n",
            "f150 4x4 xlt crew 1\n",
            "isuzu trooper 2.6 4WD 1\n",
            "1500 classic 4wd 1\n",
            "f150 crewcab xlt 1\n",
            "1500 sierra slt 1\n",
            "contnetal mark i 1\n",
            "civic lx fwd 1\n",
            "f-150 xlt 2wd supercab 6.5 1\n",
            "p1800e 1\n",
            "avalon xl white color 1\n",
            "wrangler/tj 1\n",
            "leaf s electric 1\n",
            "325i e30 1\n",
            "q60 awd cpe 1\n",
            "yukon denali suv 3rd row 1\n",
            "custom sedan v8 flathead fwd 1\n",
            "3500 dump 1\n",
            "GEM E825 1\n",
            "2500 st 4wd 8'bed 1\n",
            "335i 335i sa 1\n",
            "grand caravan se dvd 1\n",
            "wrx impreza 1\n",
            "tacoma prerunner sr5 rwd 1\n",
            "f150 f150 1\n",
            "crv exl-navi 1\n",
            "2000 Freightliner FL112 1\n",
            "cheverlet Tahoe 1\n",
            "soul 5dr wgn man + 1\n",
            "accord lx sedan 4dr 1\n",
            "3500 sierra drw crew cab 1\n",
            "altima hybrid hev 1\n",
            "CASCADIA 1\n",
            "1990 mustang gt 1\n",
            "VV Manx 1\n",
            "forester 2.5i limited xt 1\n",
            "equinox sport utility 1\n",
            "rx350 awd suv 1\n",
            "qx 50 luxe 1\n",
            "2002 pickup 1\n",
            "Romeo Stelvio 1\n",
            "f150 4x4 pickup truck 1\n",
            "Cheverolet Tahoe 1\n",
            "transit connect cargo xl v 1\n",
            "Fat Boy 1\n",
            "forte s automatic 1\n",
            "rc350 1\n",
            "cc102 1\n",
            "supra jza80 1\n",
            "f750 boom bucket truck 1\n",
            "durango special service 1\n",
            "pilot 4wd 4dr vp 1\n",
            "Rugged 1\n",
            "golf gti se 1\n",
            "Oldsmobile Sedan 1\n",
            "highlander v6 limted 1\n",
            "s-class amg s 65 1\n",
            "Monza Coupe 1\n",
            "model 60s 1\n",
            "Acterra Full cab 1\n",
            "Transit 250 High Roof 1\n",
            "boxster w/power top 1\n",
            "pruis iii 1\n",
            "ls 500 base 1\n",
            "3 s 5 door grand touring 1\n",
            "lr4 lux 1\n",
            "163869 1\n",
            "soul +plus 1\n",
            "grand cherokee trailhawk automatic 1\n",
            "scion tcscion 1\n",
            "silverado lt trail 1\n",
            "f350 supercab 7.3 diesel 1\n",
            "trail boss lt 1\n",
            "uplander van 1\n",
            "3500 diesel dually 1\n",
            "Cheverolet Van 1\n",
            "s5 quattro prestige 1\n",
            "Renault Fuego 5 Speed manual 1\n",
            "box van 1\n",
            "pathfinder 4wd 4dr sv sv 1\n",
            "avalanche 1500 ltz 1\n",
            "transit 250 medium roof 148 wb wheelchair van 1\n",
            "d50 1\n",
            "535 x drive awd 1\n",
            "230i convertible 1\n",
            "f-350 super duty, dually 1\n",
            "7 series 750i xdrive 1\n",
            "mkt w/ecoboost 1\n",
            "cr-v 4x4. 1\n",
            "outback wagon. 1\n",
            "golf sportwagen 1.8t 1\n",
            "a4 3.2 avant quattro 1\n",
            "freestar limited van 1\n",
            "03 accord coupe 1\n",
            "express 2500 4x4 1\n",
            "impreza 2.0i premium 5-door cvt 1\n",
            "tacoma sport 1\n",
            "f250 xl 4wd 1\n",
            "x1 xdrive28i xdrive28i 1\n",
            "tacoma sr5 double cab 5' bed v6 4x4 at (natl) 1\n",
            "sportgage 1\n",
            "Mecedes-Benz E320 1\n",
            "wrangler unlimited jl 1\n",
            "380-class 380 sl 1\n",
            "250 pickup 1\n",
            "f250 crew 4x4 6.2 v8 1\n",
            "cr-v ex awd 2001 1\n",
            "fleeside 1\n",
            "f-350 super duty, f250 1\n",
            "xterra 4dr xe 2wd v6 auto 1\n",
            "express van 2500 1\n",
            "grand cherokee upland sport 1\n",
            "1969 c-10 1\n",
            "altima coupe se 3.5l v6 1\n",
            "cayenne gts awdsuv 1\n",
            "3 sires 328xi 1\n",
            "Lincolns 1\n",
            "titan pro-4x 4x4 1/2 ton 1\n",
            "sienna ltd automatic 1\n",
            "f- 150 xl 1\n",
            "4runner sport 4x4 1\n",
            "Hyunday Veloster Turbo 1\n",
            "Chewy 1\n",
            "pt cruiser ltd. 1\n",
            "astrovan 1\n",
            "accord sdn ex-l at pzev 1\n",
            "4 series 428i xdrive gran c 1\n",
            "911 carrera gts 1\n",
            "g35xsports 1\n",
            "x5 xdrive35i automatic 1\n",
            "sentra sl navigation 1\n",
            "benz 300sd turbo 1\n",
            "tacoma flat bed 1\n",
            "f-350 dually diesel 1\n",
            "Z4 S28I 1\n",
            "c10 short step side 1\n",
            "saville 1\n",
            "optioma 1\n",
            "5i sport 1\n",
            "civic lx coupe cvt 1\n",
            "Equinox Lt 1\n",
            "ranger xlt 2dr extended c 1\n",
            "s4 quattro cab. 1\n",
            "scottdale big 10 1\n",
            "challenger r/t coupe 1\n",
            "2 series m235i estoril blu 1\n",
            "compass trailhawk automatic 1\n",
            "acord crosstour 1\n",
            "TAURUS LIMITED 1\n",
            "sierra pickup 1\n",
            "CRANE TRTUCK 1\n",
            "fx 35 awd 1\n",
            "impreza wrx sti impreza sedan nice 1\n",
            "yukon xl 4wd 4dr denali 1\n",
            "sl 320 1\n",
            "accord v6 hybrid w/navi 1\n",
            "Mits 1\n",
            "4s3bmbg60a3217471 1\n",
            "pathfinder sv 4dr suv 1\n",
            "challenger 2dr coupe sxt 1\n",
            "barth 1\n",
            "f250 reg cab 1\n",
            "travco landau 1\n",
            "sante fe limited awd 1\n",
            "rouge select 1\n",
            "MERCEDS-BENZ CLK 1\n",
            "tacoma 4dr access cab 1\n",
            "g20 shorty 1\n",
            "06 benz c280 4matic 1\n",
            "2014 Nissa Sentra SV 1\n",
            "2003 Thunderbird 1\n",
            "e550 e-550 1\n",
            "xk base 1\n",
            "s450 1\n",
            "f150 crewcab platinum 1\n",
            "Eldorado 1\n",
            "HTLD Prowler 1\n",
            "cts sedan luxury heate 1\n",
            "a4 1.8t 2dr convertible 1\n",
            "rio lx 4d 1\n",
            "chinook 1\n",
            "tahoe ltz 4dr suv 1\n",
            "edge sel awdcrossover 1\n",
            "f250 xlt 4x4 crew 1\n",
            "hundai santa fe 1\n",
            "mkc select suv 1\n",
            "flex secrossover 1\n",
            "x3 m sport 1\n",
            "350 closed utility 1\n",
            "cooper s 74k manual navi pano htd leather harmon sound 1\n",
            "2500 power wagon crew cab 1\n",
            "is 350c 1\n",
            "grand cherokee laredo nav 1\n",
            "For Thunderbird 1\n",
            "FOOTH AUTO 1\n",
            "f-150 xl 2wd reg cab 6.5' box 1\n",
            "civic lx 2dr coupe 1\n",
            "a4 1.8 t avant 1\n",
            "trx 1500 1\n",
            "caterpillar 1\n",
            "silverado scottsdale 1\n",
            "velar diesel 1\n",
            "f-250 super duty ext cab 1\n",
            "tacoma double cab 4x4 / v 1\n",
            "promaster 3500 159\" 1\n",
            "gran caravan 1\n",
            "reatta convertible 1\n",
            "charger sxt v6 awd 1\n",
            "qx56 base 1\n",
            "tacoma trd-sport 4 door 1\n",
            "Trans Tech ST5 1\n",
            "civic hybrid 4dr sdn l4 1\n",
            "2002 F350 1\n",
            "golf alltrack awd gas 1\n",
            "tractor 1\n",
            "ml63 amg 1\n",
            "f-350 super duty xlt 4dr c 1\n",
            "benz c220 1\n",
            "forte 4dr sdn auto lx *90 da 1\n",
            "transit connect xl lwb 1\n",
            "c 300 luxury 4matic 1\n",
            "is 350 basesedan 1\n",
            "Mazda5 Sport 1\n",
            "2500 2wd quad cab 140.5 sl 1\n",
            "express 3500 box van 1\n",
            "explorer durano navigator 1\n",
            "town car hearse 1\n",
            "civic ex vehicle wrecked 1\n",
            "5500 4x4 1\n",
            "c-class 4dr sdn 3 1\n",
            "f150 fx4 off road 4x4 1\n",
            "FOR FOCUS SE 1\n",
            "k1000 1\n",
            "330e iperformance 1\n",
            "2000 Freightliner dump 1\n",
            "q7 premium plus 3.0 sc 1\n",
            "Prevost Motor Coach 1\n",
            "expidition 4wd 1\n",
            "x1 x2 x4 x5 x6 x7 135i x3 1\n",
            "Hyuandi Tuscon limited AWD 1\n",
            "Mitshubishi lancer 1\n",
            "BMW, 328i 1\n",
            "suzuki vitara 2.0 1\n",
            "BMW325I 1\n",
            "rio lx automatic 1\n",
            "Madza 5 1\n",
            "KIAOPTIMA EX-GDI 1\n",
            "Ptrb truck 1\n",
            "piolt 1\n",
            "F250 4x4 1\n",
            "HUMMER H3 Base 4dr SUV 1\n",
            "b9 tribeca awd 1\n",
            "Volts wagon passw 1\n",
            "fk-260 1\n",
            "sierra sle v8 1\n",
            "f-250 super duty powerstr 1\n",
            "deisel cummin 3500 1\n",
            "2500hd 4.8l cargo 1\n",
            "f350 crew flatbed 4x4 1\n",
            "plymouth belvedere ii 1\n",
            "es-300 1\n",
            "sierra 1500 truck 1\n",
            "civic ex-l fwd gas auto 1\n",
            "4 series 430i 2d coupe automatic 1\n",
            "cheverolet cobalt 1\n",
            "etc. 1\n",
            "MG-TD Classic 1953 1\n",
            "econline e3 1\n",
            "Mazda3 4-Door 1\n",
            "forte sdn man ex 1\n",
            "silverado 1500 rst automatic 1\n",
            "Mariela Morales 1\n",
            "c10 cheyenne super 1\n",
            "f250 6.4l diesel 4x4 1\n",
            "express 3500 ext 1\n",
            "el camino base 1\n",
            "a4 2.0t quattro premi 1\n",
            "Accord civic camry Corolla 1\n",
            "1500 4wd crew cab 140.5\" laramie 1\n",
            "spark - ls 1\n",
            "american lafrance 1\n",
            "legacy 3.0 r limited 1\n",
            "cherokee xj sport 1\n",
            "titan sl 4x4 1\n",
            "triumph tr3 1\n",
            "tacoma sr double cab 5' bed v6 4x4 at (natl) 1\n",
            "2001 workhorse customs 1\n",
            "1997 Isuzu NPR 1\n",
            "golf wagon 4motion 1\n",
            "sonata v6 1\n",
            "tahoe 4wd premier 1\n",
            "Mobile Ramp 1\n",
            "2003 Jetta GLS Wagon 1\n",
            "club coupe 1\n",
            "- international 1\n"
          ],
          "name": "stdout"
        }
      ]
    },
    {
      "cell_type": "code",
      "metadata": {
        "id": "LzyUMhxviINK"
      },
      "source": [
        "#fig = plt.figure(figsize=[10,15])\n",
        "#sns.countplot(y='model',data=df.fillna('n/a'))"
      ],
      "execution_count": 22,
      "outputs": []
    },
    {
      "cell_type": "code",
      "metadata": {
        "colab": {
          "base_uri": "https://localhost:8080/",
          "height": 624
        },
        "id": "R0kb0pk_mIDI",
        "outputId": "54596274-9631-4b70-fdae-bbd05a2aef8b"
      },
      "source": [
        "fig = plt.figure(figsize=[10,10])\n",
        "sns.countplot(y='cylinders',data=df.fillna(\"N/A\"))"
      ],
      "execution_count": 23,
      "outputs": [
        {
          "output_type": "execute_result",
          "data": {
            "text/plain": [
              "<matplotlib.axes._subplots.AxesSubplot at 0x7f58f5747c90>"
            ]
          },
          "metadata": {
            "tags": []
          },
          "execution_count": 23
        },
        {
          "output_type": "display_data",
          "data": {
            "image/png": "[encoded data removed]",
            "text/plain": [
              "<Figure size 720x720 with 1 Axes>"
            ]
          },
          "metadata": {
            "tags": [],
            "needs_background": "light"
          }
        }
      ]
    },
    {
      "cell_type": "code",
      "metadata": {
        "colab": {
          "base_uri": "https://localhost:8080/",
          "height": 624
        },
        "id": "LqX_O_iznO8J",
        "outputId": "e03946ba-dd55-47cc-dad1-1a8beac01eaa"
      },
      "source": [
        "fig = plt.figure(figsize=[10,10])\n",
        "sns.countplot(y='condition',data=df.fillna(\"N/A\"))"
      ],
      "execution_count": 24,
      "outputs": [
        {
          "output_type": "execute_result",
          "data": {
            "text/plain": [
              "<matplotlib.axes._subplots.AxesSubplot at 0x7f58f5772f50>"
            ]
          },
          "metadata": {
            "tags": []
          },
          "execution_count": 24
        },
        {
          "output_type": "display_data",
          "data": {
            "image/png": "[encoded data removed]",
            "text/plain": [
              "<Figure size 720x720 with 1 Axes>"
            ]
          },
          "metadata": {
            "tags": [],
            "needs_background": "light"
          }
        }
      ]
    },
    {
      "cell_type": "code",
      "metadata": {
        "colab": {
          "base_uri": "https://localhost:8080/",
          "height": 624
        },
        "id": "li0PdLP0nTpU",
        "outputId": "d29602cd-accb-4538-9a9b-5bf9a7ca55ee"
      },
      "source": [
        "fig = plt.figure(figsize=[10,10])\n",
        "sns.countplot(y='fuel',data=df.fillna(\"N/A\"))"
      ],
      "execution_count": 25,
      "outputs": [
        {
          "output_type": "execute_result",
          "data": {
            "text/plain": [
              "<matplotlib.axes._subplots.AxesSubplot at 0x7f58f74f9310>"
            ]
          },
          "metadata": {
            "tags": []
          },
          "execution_count": 25
        },
        {
          "output_type": "display_data",
          "data": {
            "image/png": "[encoded data removed]",
            "text/plain": [
              "<Figure size 720x720 with 1 Axes>"
            ]
          },
          "metadata": {
            "tags": [],
            "needs_background": "light"
          }
        }
      ]
    },
    {
      "cell_type": "code",
      "metadata": {
        "colab": {
          "base_uri": "https://localhost:8080/",
          "height": 624
        },
        "id": "DRsePzbbni6v",
        "outputId": "18ed4b6e-792d-4128-a2f5-6eb40bc05a4f"
      },
      "source": [
        "fig = plt.figure(figsize=[10,10])\n",
        "sns.countplot(y='transmission',data=df.fillna(\"N/A\"))"
      ],
      "execution_count": 26,
      "outputs": [
        {
          "output_type": "execute_result",
          "data": {
            "text/plain": [
              "<matplotlib.axes._subplots.AxesSubplot at 0x7f58ff3cb590>"
            ]
          },
          "metadata": {
            "tags": []
          },
          "execution_count": 26
        },
        {
          "output_type": "display_data",
          "data": {
            "image/png": "[encoded data removed]",
            "text/plain": [
              "<Figure size 720x720 with 1 Axes>"
            ]
          },
          "metadata": {
            "tags": [],
            "needs_background": "light"
          }
        }
      ]
    },
    {
      "cell_type": "code",
      "metadata": {
        "colab": {
          "base_uri": "https://localhost:8080/",
          "height": 624
        },
        "id": "aWNMXA2Vntjs",
        "outputId": "92d4b465-6ea3-4d01-c412-ebc72af6cca5"
      },
      "source": [
        "fig = plt.figure(figsize=[10,10])\n",
        "sns.countplot(y='drive',data=df.fillna(\"N/A\"))"
      ],
      "execution_count": 27,
      "outputs": [
        {
          "output_type": "execute_result",
          "data": {
            "text/plain": [
              "<matplotlib.axes._subplots.AxesSubplot at 0x7f58f96bdb10>"
            ]
          },
          "metadata": {
            "tags": []
          },
          "execution_count": 27
        },
        {
          "output_type": "display_data",
          "data": {
            "image/png": "[encoded data removed]",
            "text/plain": [
              "<Figure size 720x720 with 1 Axes>"
            ]
          },
          "metadata": {
            "tags": [],
            "needs_background": "light"
          }
        }
      ]
    },
    {
      "cell_type": "code",
      "metadata": {
        "colab": {
          "base_uri": "https://localhost:8080/",
          "height": 624
        },
        "id": "lSyVD_3OnwWk",
        "outputId": "6419e6c2-0839-4322-db40-8eabc9c65c84"
      },
      "source": [
        "fig = plt.figure(figsize=[10,10])\n",
        "sns.countplot(y='size',data=df.fillna(\"N/A\"))"
      ],
      "execution_count": 28,
      "outputs": [
        {
          "output_type": "execute_result",
          "data": {
            "text/plain": [
              "<matplotlib.axes._subplots.AxesSubplot at 0x7f58ff3c5e90>"
            ]
          },
          "metadata": {
            "tags": []
          },
          "execution_count": 28
        },
        {
          "output_type": "display_data",
          "data": {
            "image/png": "[encoded data removed]",
            "text/plain": [
              "<Figure size 720x720 with 1 Axes>"
            ]
          },
          "metadata": {
            "tags": [],
            "needs_background": "light"
          }
        }
      ]
    },
    {
      "cell_type": "code",
      "metadata": {
        "colab": {
          "base_uri": "https://localhost:8080/",
          "height": 624
        },
        "id": "4UZELIdsnyU5",
        "outputId": "77bf3a04-73de-4156-d3ee-75a74e96c3cf"
      },
      "source": [
        "fig = plt.figure(figsize=[10,10])\n",
        "sns.countplot(y='type',data=df.fillna(\"N/A\"))"
      ],
      "execution_count": 29,
      "outputs": [
        {
          "output_type": "execute_result",
          "data": {
            "text/plain": [
              "<matplotlib.axes._subplots.AxesSubplot at 0x7f58f57cdc10>"
            ]
          },
          "metadata": {
            "tags": []
          },
          "execution_count": 29
        },
        {
          "output_type": "display_data",
          "data": {
            "image/png": "[encoded data removed]",
            "text/plain": [
              "<Figure size 720x720 with 1 Axes>"
            ]
          },
          "metadata": {
            "tags": [],
            "needs_background": "light"
          }
        }
      ]
    },
    {
      "cell_type": "code",
      "metadata": {
        "colab": {
          "base_uri": "https://localhost:8080/",
          "height": 624
        },
        "id": "wTjLKdN2n47O",
        "outputId": "da7fd5f8-ebb9-48fe-a2a4-dcd2c359e619"
      },
      "source": [
        "fig = plt.figure(figsize=[10,10])\n",
        "sns.countplot(y='paint_color',data=df.fillna(\"N/A\"))"
      ],
      "execution_count": 30,
      "outputs": [
        {
          "output_type": "execute_result",
          "data": {
            "text/plain": [
              "<matplotlib.axes._subplots.AxesSubplot at 0x7f58ff4842d0>"
            ]
          },
          "metadata": {
            "tags": []
          },
          "execution_count": 30
        },
        {
          "output_type": "display_data",
          "data": {
            "image/png": "[encoded data removed]",
            "text/plain": [
              "<Figure size 720x720 with 1 Axes>"
            ]
          },
          "metadata": {
            "tags": [],
            "needs_background": "light"
          }
        }
      ]
    },
    {
      "cell_type": "markdown",
      "metadata": {
        "id": "amkU5Y6g7Dp4"
      },
      "source": [
        "### 문제 6. 수치형 데이터의 통계 분석하기"
      ]
    },
    {
      "cell_type": "code",
      "metadata": {
        "colab": {
          "base_uri": "https://localhost:8080/",
          "height": 189
        },
        "id": "tgPIDFNdowNe",
        "outputId": "71391a96-c2ee-4368-e8e5-066930e9ad87"
      },
      "source": [
        "fig = plt.figure(figsize=[8,2])\n",
        "sns.rugplot(data=df,x='price',height=1)"
      ],
      "execution_count": 31,
      "outputs": [
        {
          "output_type": "execute_result",
          "data": {
            "text/plain": [
              "<matplotlib.axes._subplots.AxesSubplot at 0x7f58fa0d5c90>"
            ]
          },
          "metadata": {
            "tags": []
          },
          "execution_count": 31
        },
        {
          "output_type": "display_data",
          "data": {
            "image/png": "[encoded data removed]",
            "text/plain": [
              "<Figure size 576x144 with 1 Axes>"
            ]
          },
          "metadata": {
            "tags": [],
            "needs_background": "light"
          }
        }
      ]
    },
    {
      "cell_type": "code",
      "metadata": {
        "colab": {
          "base_uri": "https://localhost:8080/",
          "height": 627
        },
        "id": "6oOnZXC8ocKp",
        "outputId": "a0355d54-a7b2-4e85-da55-b421bc237755"
      },
      "source": [
        "fig = plt.figure(figsize=[8,10])\n",
        "sns.histplot(data=df,x='age',bins=18,kde=True)"
      ],
      "execution_count": 32,
      "outputs": [
        {
          "output_type": "execute_result",
          "data": {
            "text/plain": [
              "<matplotlib.axes._subplots.AxesSubplot at 0x7f58ff781e10>"
            ]
          },
          "metadata": {
            "tags": []
          },
          "execution_count": 32
        },
        {
          "output_type": "display_data",
          "data": {
            "image/png": "[encoded data removed]",
            "text/plain": [
              "<Figure size 576x720 with 1 Axes>"
            ]
          },
          "metadata": {
            "tags": [],
            "needs_background": "light"
          }
        }
      ]
    },
    {
      "cell_type": "code",
      "metadata": {
        "colab": {
          "base_uri": "https://localhost:8080/",
          "height": 624
        },
        "id": "eBJWdmbkokP6",
        "outputId": "f6bacb18-d0bb-4a1d-f9f6-9f593d19c7f5"
      },
      "source": [
        "fig = plt.figure(figsize=[8,10])\n",
        "sns.histplot(data=df,x='odometer',kde=True)"
      ],
      "execution_count": 33,
      "outputs": [
        {
          "output_type": "execute_result",
          "data": {
            "text/plain": [
              "<matplotlib.axes._subplots.AxesSubplot at 0x7f58e7b6b950>"
            ]
          },
          "metadata": {
            "tags": []
          },
          "execution_count": 33
        },
        {
          "output_type": "display_data",
          "data": {
            "image/png": "[encoded data removed]",
            "text/plain": [
              "<Figure size 576x720 with 1 Axes>"
            ]
          },
          "metadata": {
            "tags": [],
            "needs_background": "light"
          }
        }
      ]
    },
    {
      "cell_type": "markdown",
      "metadata": {
        "id": "izztXKpllMss"
      },
      "source": [
        "## Step 3. 데이터 클리닝 수행하기"
      ]
    },
    {
      "cell_type": "markdown",
      "metadata": {
        "id": "KywGh9sjtYl9"
      },
      "source": [
        "### 문제 7. 범주형 데이터 시각화하여 분석하기"
      ]
    },
    {
      "cell_type": "code",
      "metadata": {
        "colab": {
          "base_uri": "https://localhost:8080/"
        },
        "id": "5JrG0Vvut8gZ",
        "outputId": "213db2c6-5358-422a-a25c-415be358c18c"
      },
      "source": [
        "df.columns"
      ],
      "execution_count": 34,
      "outputs": [
        {
          "output_type": "execute_result",
          "data": {
            "text/plain": [
              "Index(['region', 'price', 'manufacturer', 'model', 'condition', 'cylinders',\n",
              "       'fuel', 'odometer', 'title_status', 'transmission', 'drive', 'size',\n",
              "       'type', 'paint_color', 'age'],\n",
              "      dtype='object')"
            ]
          },
          "metadata": {
            "tags": []
          },
          "execution_count": 34
        }
      ]
    },
    {
      "cell_type": "code",
      "metadata": {
        "id": "TqXkwW8JDxhH",
        "colab": {
          "base_uri": "https://localhost:8080/",
          "height": 308
        },
        "outputId": "498031b5-9e86-4de9-be69-a0a50c1cf9f6"
      },
      "source": [
        "# Boxplot 계열로 범주형 데이터를 시각화하여 분석하기\n",
        "sns.boxplot(data=df.fillna('N/A'),x='manufacturer',y='price')"
      ],
      "execution_count": 35,
      "outputs": [
        {
          "output_type": "execute_result",
          "data": {
            "text/plain": [
              "<matplotlib.axes._subplots.AxesSubplot at 0x7f58e7b44d10>"
            ]
          },
          "metadata": {
            "tags": []
          },
          "execution_count": 35
        },
        {
          "output_type": "display_data",
          "data": {
            "image/png": "[encoded data removed]",
            "text/plain": [
              "<Figure size 432x288 with 1 Axes>"
            ]
          },
          "metadata": {
            "tags": [],
            "needs_background": "light"
          }
        }
      ]
    },
    {
      "cell_type": "code",
      "metadata": {
        "colab": {
          "base_uri": "https://localhost:8080/",
          "height": 308
        },
        "id": "GO9upsq3uKgv",
        "outputId": "c8f2f74c-8eca-49be-aff4-80321118728a"
      },
      "source": [
        "sns.boxplot(data=df.fillna('N/A'),x='fuel',y='price')"
      ],
      "execution_count": 36,
      "outputs": [
        {
          "output_type": "execute_result",
          "data": {
            "text/plain": [
              "<matplotlib.axes._subplots.AxesSubplot at 0x7f58e522f6d0>"
            ]
          },
          "metadata": {
            "tags": []
          },
          "execution_count": 36
        },
        {
          "output_type": "display_data",
          "data": {
            "image/png": "[encoded data removed]",
            "text/plain": [
              "<Figure size 432x288 with 1 Axes>"
            ]
          },
          "metadata": {
            "tags": [],
            "needs_background": "light"
          }
        }
      ]
    },
    {
      "cell_type": "markdown",
      "metadata": {
        "id": "CXLd43EZ9EgS"
      },
      "source": [
        "### 문제 8. 범주형 데이터 클리닝하기"
      ]
    },
    {
      "cell_type": "code",
      "metadata": {
        "id": "8HbUtvqs9C-C",
        "colab": {
          "base_uri": "https://localhost:8080/"
        },
        "outputId": "bde97387-ec6c-4075-8ec9-157f49c7bb11"
      },
      "source": [
        "# 범주형 데이터를 아래 방법 중 적절히 판단하여 처리하기\n",
        "# 1. 결손 데이터가 포함된 Row를 제거\n",
        "# 2. 결손 데이터를 others 범주로 변경하기\n",
        "# 3. 지나치게 소수로 이루어진 범주를 others 범주로 변경하기\n",
        "# 4. Classifier를 학습하여, 결손데이터를 추정하여 채워넣기\n",
        "df.columns"
      ],
      "execution_count": 37,
      "outputs": [
        {
          "output_type": "execute_result",
          "data": {
            "text/plain": [
              "Index(['region', 'price', 'manufacturer', 'model', 'condition', 'cylinders',\n",
              "       'fuel', 'odometer', 'title_status', 'transmission', 'drive', 'size',\n",
              "       'type', 'paint_color', 'age'],\n",
              "      dtype='object')"
            ]
          },
          "metadata": {
            "tags": []
          },
          "execution_count": 37
        }
      ]
    },
    {
      "cell_type": "code",
      "metadata": {
        "colab": {
          "base_uri": "https://localhost:8080/"
        },
        "id": "aB2hjYMwu4ET",
        "outputId": "011d222f-e839-4a33-be75-c2cad001590a"
      },
      "source": [
        "df['manufacturer'].fillna('others').value_counts()"
      ],
      "execution_count": 38,
      "outputs": [
        {
          "output_type": "execute_result",
          "data": {
            "text/plain": [
              "ford               70985\n",
              "chevrolet          55064\n",
              "toyota             34202\n",
              "honda              21269\n",
              "nissan             19067\n",
              "jeep               19014\n",
              "ram                18342\n",
              "others             17646\n",
              "gmc                16785\n",
              "bmw                14699\n",
              "dodge              13707\n",
              "mercedes-benz      11817\n",
              "hyundai            10338\n",
              "subaru              9495\n",
              "volkswagen          9345\n",
              "kia                 8457\n",
              "lexus               8200\n",
              "audi                7573\n",
              "cadillac            6953\n",
              "chrysler            6031\n",
              "acura               5978\n",
              "buick               5501\n",
              "mazda               5427\n",
              "infiniti            4802\n",
              "lincoln             4220\n",
              "volvo               3374\n",
              "mitsubishi          3292\n",
              "mini                2376\n",
              "pontiac             2288\n",
              "rover               2113\n",
              "jaguar              1946\n",
              "porsche             1384\n",
              "mercury             1184\n",
              "saturn              1090\n",
              "alfa-romeo           897\n",
              "tesla                868\n",
              "fiat                 792\n",
              "harley-davidson      153\n",
              "ferrari               95\n",
              "datsun                63\n",
              "aston-martin          24\n",
              "land rover            21\n",
              "morgan                 3\n",
              "Name: manufacturer, dtype: int64"
            ]
          },
          "metadata": {
            "tags": []
          },
          "execution_count": 38
        }
      ]
    },
    {
      "cell_type": "markdown",
      "metadata": {
        "id": "HyrWMINLyM0O"
      },
      "source": [
        "- manufacturer"
      ]
    },
    {
      "cell_type": "code",
      "metadata": {
        "colab": {
          "base_uri": "https://localhost:8080/",
          "height": 283
        },
        "id": "IThr995ivEkH",
        "outputId": "5e8b14d1-3d2b-47d4-a3bf-83fa94f1cfb2"
      },
      "source": [
        "col = 'manufacturer'\n",
        "counts = df[col].fillna('others').value_counts()\n",
        "plt.plot(range(len(counts)),counts)"
      ],
      "execution_count": 39,
      "outputs": [
        {
          "output_type": "execute_result",
          "data": {
            "text/plain": [
              "[<matplotlib.lines.Line2D at 0x7f58e4d3afd0>]"
            ]
          },
          "metadata": {
            "tags": []
          },
          "execution_count": 39
        },
        {
          "output_type": "display_data",
          "data": {
            "image/png": "[encoded data removed]",
            "text/plain": [
              "<Figure size 432x288 with 1 Axes>"
            ]
          },
          "metadata": {
            "tags": [],
            "needs_background": "light"
          }
        }
      ]
    },
    {
      "cell_type": "code",
      "metadata": {
        "id": "uvP0wV-Hv3OL"
      },
      "source": [
        "n_categorical = 10\n",
        "counts.index[n_categorical:]\n",
        "df[col] = df[col].apply(lambda s:s if str(s) not in counts.index[n_categorical:] else 'others')"
      ],
      "execution_count": 40,
      "outputs": []
    },
    {
      "cell_type": "code",
      "metadata": {
        "colab": {
          "base_uri": "https://localhost:8080/"
        },
        "id": "0TNTSFZjvu7t",
        "outputId": "5cdf22dd-b04d-41df-bbe8-8bbc71b900c8"
      },
      "source": [
        "df[col].value_counts()"
      ],
      "execution_count": 41,
      "outputs": [
        {
          "output_type": "execute_result",
          "data": {
            "text/plain": [
              "others       139807\n",
              "ford          70985\n",
              "chevrolet     55064\n",
              "toyota        34202\n",
              "honda         21269\n",
              "nissan        19067\n",
              "jeep          19014\n",
              "ram           18342\n",
              "gmc           16785\n",
              "bmw           14699\n",
              "Name: manufacturer, dtype: int64"
            ]
          },
          "metadata": {
            "tags": []
          },
          "execution_count": 41
        }
      ]
    },
    {
      "cell_type": "markdown",
      "metadata": {
        "id": "sNYglGb4yLnm"
      },
      "source": [
        "- region"
      ]
    },
    {
      "cell_type": "code",
      "metadata": {
        "colab": {
          "base_uri": "https://localhost:8080/",
          "height": 283
        },
        "id": "2PY9ZIKMwhr4",
        "outputId": "65f4025f-36df-4f89-df8e-d21d92ff774f"
      },
      "source": [
        "col = 'region'\n",
        "counts = df[col].fillna('others').value_counts()\n",
        "plt.grid()\n",
        "plt.plot(range(len(counts)),counts)"
      ],
      "execution_count": 42,
      "outputs": [
        {
          "output_type": "execute_result",
          "data": {
            "text/plain": [
              "[<matplotlib.lines.Line2D at 0x7f58e3c679d0>]"
            ]
          },
          "metadata": {
            "tags": []
          },
          "execution_count": 42
        },
        {
          "output_type": "display_data",
          "data": {
            "image/png": "[encoded data removed]",
            "text/plain": [
              "<Figure size 432x288 with 1 Axes>"
            ]
          },
          "metadata": {
            "tags": [],
            "needs_background": "light"
          }
        }
      ]
    },
    {
      "cell_type": "code",
      "metadata": {
        "id": "irbd9T0Ywwwf"
      },
      "source": [
        "n_categorical = 5\n",
        "counts.index[n_categorical:]\n",
        "df[col] = df[col].apply(lambda s:s if str(s) not in counts.index[n_categorical:] else 'others')"
      ],
      "execution_count": 43,
      "outputs": []
    },
    {
      "cell_type": "code",
      "metadata": {
        "colab": {
          "base_uri": "https://localhost:8080/"
        },
        "id": "tu1ot31Dw9XY",
        "outputId": "2ccaf924-2732-4343-d42d-ce968de33b33"
      },
      "source": [
        "df[col].value_counts()"
      ],
      "execution_count": 44,
      "outputs": [
        {
          "output_type": "execute_result",
          "data": {
            "text/plain": [
              "others                     410754\n",
              "columbus                     3608\n",
              "jacksonville                 3562\n",
              "spokane / coeur d'alene      2988\n",
              "eugene                       2985\n",
              "fresno / madera              2983\n",
              "Name: region, dtype: int64"
            ]
          },
          "metadata": {
            "tags": []
          },
          "execution_count": 44
        }
      ]
    },
    {
      "cell_type": "markdown",
      "metadata": {
        "id": "BNvRT6umyKVb"
      },
      "source": [
        "- model"
      ]
    },
    {
      "cell_type": "code",
      "metadata": {
        "colab": {
          "base_uri": "https://localhost:8080/",
          "height": 283
        },
        "id": "3m3EmGTsxBOX",
        "outputId": "4c0ff247-a47b-43c8-ebab-c0c6b85049f1"
      },
      "source": [
        "col = 'model'\n",
        "counts = df[col].fillna('others').value_counts()\n",
        "plt.grid()\n",
        "plt.plot(range(len(counts)),counts)"
      ],
      "execution_count": 45,
      "outputs": [
        {
          "output_type": "execute_result",
          "data": {
            "text/plain": [
              "[<matplotlib.lines.Line2D at 0x7f58f683d8d0>]"
            ]
          },
          "metadata": {
            "tags": []
          },
          "execution_count": 45
        },
        {
          "output_type": "display_data",
          "data": {
            "image/png": "[encoded data removed]",
            "text/plain": [
              "<Figure size 432x288 with 1 Axes>"
            ]
          },
          "metadata": {
            "tags": [],
            "needs_background": "light"
          }
        }
      ]
    },
    {
      "cell_type": "code",
      "metadata": {
        "id": "q_mvmDb3xGGK"
      },
      "source": [
        "n_categorical = 10 \n",
        "others = counts.index[n_categorical:]\n",
        "df[col] = df[col].apply(lambda s:s if str(s) not in others else 'others')"
      ],
      "execution_count": 46,
      "outputs": []
    },
    {
      "cell_type": "code",
      "metadata": {
        "colab": {
          "base_uri": "https://localhost:8080/"
        },
        "id": "baDJQ8wQxp_K",
        "outputId": "8cbda59e-ae40-4195-dcac-79827363d2fb"
      },
      "source": [
        "df[col].value_counts()"
      ],
      "execution_count": 47,
      "outputs": [
        {
          "output_type": "execute_result",
          "data": {
            "text/plain": [
              "others            386690\n",
              "f-150               8009\n",
              "silverado 1500      5140\n",
              "1500                4211\n",
              "camry               3135\n",
              "silverado           3023\n",
              "accord              2969\n",
              "wrangler            2848\n",
              "civic               2799\n",
              "altima              2779\n",
              "Name: model, dtype: int64"
            ]
          },
          "metadata": {
            "tags": []
          },
          "execution_count": 47
        }
      ]
    },
    {
      "cell_type": "markdown",
      "metadata": {
        "id": "iLoah3wVyH7M"
      },
      "source": [
        "- condition"
      ]
    },
    {
      "cell_type": "code",
      "metadata": {
        "colab": {
          "base_uri": "https://localhost:8080/",
          "height": 283
        },
        "id": "flprYxoNx3qH",
        "outputId": "fdf6734d-26a3-4440-dd71-6e321e77f14e"
      },
      "source": [
        "col = 'condition'\n",
        "counts = df[col].fillna('others').value_counts()\n",
        "plt.grid()\n",
        "plt.plot(range(len(counts)),counts)"
      ],
      "execution_count": 48,
      "outputs": [
        {
          "output_type": "execute_result",
          "data": {
            "text/plain": [
              "[<matplotlib.lines.Line2D at 0x7f58f5fce490>]"
            ]
          },
          "metadata": {
            "tags": []
          },
          "execution_count": 48
        },
        {
          "output_type": "display_data",
          "data": {
            "image/png": "[encoded data removed]",
            "text/plain": [
              "<Figure size 432x288 with 1 Axes>"
            ]
          },
          "metadata": {
            "tags": [],
            "needs_background": "light"
          }
        }
      ]
    },
    {
      "cell_type": "code",
      "metadata": {
        "id": "hgj5z6YAx0Sz"
      },
      "source": [
        "n_categorical = 3\n",
        "counts.index[n_categorical:]\n",
        "df[col] = df[col].apply(lambda s:s if str(s) not in counts.index[n_categorical:] else 'others')"
      ],
      "execution_count": 49,
      "outputs": []
    },
    {
      "cell_type": "code",
      "metadata": {
        "colab": {
          "base_uri": "https://localhost:8080/"
        },
        "id": "1YZBP8abyBoK",
        "outputId": "9df56fe0-6914-4c14-b710-1a6ccb49bf13"
      },
      "source": [
        "df[col].value_counts()"
      ],
      "execution_count": 50,
      "outputs": [
        {
          "output_type": "execute_result",
          "data": {
            "text/plain": [
              "good         121456\n",
              "excellent    101467\n",
              "others        29853\n",
              "Name: condition, dtype: int64"
            ]
          },
          "metadata": {
            "tags": []
          },
          "execution_count": 50
        }
      ]
    },
    {
      "cell_type": "markdown",
      "metadata": {
        "id": "QtwAQduIyDwD"
      },
      "source": [
        "- cylinders"
      ]
    },
    {
      "cell_type": "code",
      "metadata": {
        "colab": {
          "base_uri": "https://localhost:8080/",
          "height": 283
        },
        "id": "A6JHXF6IyU_M",
        "outputId": "310f340c-cc5b-4a24-9e6c-777b5be86897"
      },
      "source": [
        "col = 'cylinders'\n",
        "counts = df[col].fillna('others').value_counts()\n",
        "plt.grid()\n",
        "plt.plot(range(len(counts)),counts)"
      ],
      "execution_count": 51,
      "outputs": [
        {
          "output_type": "execute_result",
          "data": {
            "text/plain": [
              "[<matplotlib.lines.Line2D at 0x7f58f601ec50>]"
            ]
          },
          "metadata": {
            "tags": []
          },
          "execution_count": 51
        },
        {
          "output_type": "display_data",
          "data": {
            "image/png": "[encoded data removed]",
            "text/plain": [
              "<Figure size 432x288 with 1 Axes>"
            ]
          },
          "metadata": {
            "tags": [],
            "needs_background": "light"
          }
        }
      ]
    },
    {
      "cell_type": "code",
      "metadata": {
        "id": "UUZGblMByZUh"
      },
      "source": [
        "n_categorical = 4\n",
        "counts.index[n_categorical:]\n",
        "df[col] = df[col].apply(lambda s:s if str(s) not in counts.index[n_categorical:] else 'others')"
      ],
      "execution_count": 52,
      "outputs": []
    },
    {
      "cell_type": "code",
      "metadata": {
        "colab": {
          "base_uri": "https://localhost:8080/"
        },
        "id": "JnFoSKMYydwZ",
        "outputId": "362a069e-3c7a-4a50-fa8f-a02bd268261c"
      },
      "source": [
        "df[col].value_counts()"
      ],
      "execution_count": 53,
      "outputs": [
        {
          "output_type": "execute_result",
          "data": {
            "text/plain": [
              "6 cylinders    94169\n",
              "4 cylinders    77642\n",
              "8 cylinders    72062\n",
              "others          5329\n",
              "Name: cylinders, dtype: int64"
            ]
          },
          "metadata": {
            "tags": []
          },
          "execution_count": 53
        }
      ]
    },
    {
      "cell_type": "markdown",
      "metadata": {
        "id": "iEB-zlnJyfGk"
      },
      "source": [
        "- fuel\n"
      ]
    },
    {
      "cell_type": "code",
      "metadata": {
        "colab": {
          "base_uri": "https://localhost:8080/",
          "height": 283
        },
        "id": "NPGn1NLFyiRt",
        "outputId": "f66b0f37-9140-46ad-c913-d3a60961d9af"
      },
      "source": [
        "col = 'fuel'\n",
        "counts = df[col].fillna('others').value_counts()\n",
        "plt.grid()\n",
        "plt.plot(range(len(counts)),counts)"
      ],
      "execution_count": 54,
      "outputs": [
        {
          "output_type": "execute_result",
          "data": {
            "text/plain": [
              "[<matplotlib.lines.Line2D at 0x7f58f6078750>]"
            ]
          },
          "metadata": {
            "tags": []
          },
          "execution_count": 54
        },
        {
          "output_type": "display_data",
          "data": {
            "image/png": "[encoded data removed]",
            "text/plain": [
              "<Figure size 432x288 with 1 Axes>"
            ]
          },
          "metadata": {
            "tags": [],
            "needs_background": "light"
          }
        }
      ]
    },
    {
      "cell_type": "code",
      "metadata": {
        "id": "QQpvcoVJylKo"
      },
      "source": [
        "n_categorical = 2\n",
        "counts.index[n_categorical:]\n",
        "df[col] = df[col].apply(lambda s:s if str(s) not in counts.index[n_categorical:] else 'others')"
      ],
      "execution_count": 55,
      "outputs": []
    },
    {
      "cell_type": "code",
      "metadata": {
        "colab": {
          "base_uri": "https://localhost:8080/"
        },
        "id": "usCTxN25yv6S",
        "outputId": "05f0369c-6280-48f5-a819-7ec5da647da1"
      },
      "source": [
        "df[col].value_counts()"
      ],
      "execution_count": 56,
      "outputs": [
        {
          "output_type": "execute_result",
          "data": {
            "text/plain": [
              "gas       356209\n",
              "others     36930\n",
              "other      30728\n",
              "Name: fuel, dtype: int64"
            ]
          },
          "metadata": {
            "tags": []
          },
          "execution_count": 56
        }
      ]
    },
    {
      "cell_type": "markdown",
      "metadata": {
        "id": "Y9Ab6Jvfyy4f"
      },
      "source": [
        "- title_status"
      ]
    },
    {
      "cell_type": "code",
      "metadata": {
        "colab": {
          "base_uri": "https://localhost:8080/",
          "height": 283
        },
        "id": "8Q9s7wdxy3Ai",
        "outputId": "b1f261e6-0c4d-4aba-d940-4603fcbd8a38"
      },
      "source": [
        "col = 'title_status'\n",
        "counts = df[col].fillna('others').value_counts()\n",
        "plt.grid()\n",
        "plt.plot(range(len(counts)),counts)"
      ],
      "execution_count": 57,
      "outputs": [
        {
          "output_type": "execute_result",
          "data": {
            "text/plain": [
              "[<matplotlib.lines.Line2D at 0x7f58f6d19810>]"
            ]
          },
          "metadata": {
            "tags": []
          },
          "execution_count": 57
        },
        {
          "output_type": "display_data",
          "data": {
            "image/png": "[encoded data removed]",
            "text/plain": [
              "<Figure size 432x288 with 1 Axes>"
            ]
          },
          "metadata": {
            "tags": [],
            "needs_background": "light"
          }
        }
      ]
    },
    {
      "cell_type": "code",
      "metadata": {
        "id": "p8-iG_Piy5T7"
      },
      "source": [
        "df.drop('title_status',axis=1,inplace=True)"
      ],
      "execution_count": 58,
      "outputs": []
    },
    {
      "cell_type": "markdown",
      "metadata": {
        "id": "cnrU_SykzGtB"
      },
      "source": [
        "- Transmission\n"
      ]
    },
    {
      "cell_type": "code",
      "metadata": {
        "colab": {
          "base_uri": "https://localhost:8080/",
          "height": 285
        },
        "id": "9YMAseDEzK6h",
        "outputId": "e7cabe7c-6c2a-41c9-b0c5-d13910ebb0b5"
      },
      "source": [
        "col = 'transmission'\n",
        "counts = df[col].fillna('others').value_counts()\n",
        "plt.grid()\n",
        "plt.plot(range(len(counts)),counts)"
      ],
      "execution_count": 59,
      "outputs": [
        {
          "output_type": "execute_result",
          "data": {
            "text/plain": [
              "[<matplotlib.lines.Line2D at 0x7f58f6d6d7d0>]"
            ]
          },
          "metadata": {
            "tags": []
          },
          "execution_count": 59
        },
        {
          "output_type": "display_data",
          "data": {
            "image/png": "[encoded data removed]",
            "text/plain": [
              "<Figure size 432x288 with 1 Axes>"
            ]
          },
          "metadata": {
            "tags": [],
            "needs_background": "light"
          }
        }
      ]
    },
    {
      "cell_type": "code",
      "metadata": {
        "id": "3IViRnqXzO46"
      },
      "source": [
        "n_categorical = 3\n",
        "counts.index[n_categorical:]\n",
        "df[col] = df[col].apply(lambda s:s if str(s) not in counts.index[n_categorical:] else 'others')"
      ],
      "execution_count": 60,
      "outputs": []
    },
    {
      "cell_type": "code",
      "metadata": {
        "colab": {
          "base_uri": "https://localhost:8080/"
        },
        "id": "1Q97HLJQzYE2",
        "outputId": "e84cef16-7425-45f9-b480-507885152e95"
      },
      "source": [
        "df[col].value_counts()"
      ],
      "execution_count": 61,
      "outputs": [
        {
          "output_type": "execute_result",
          "data": {
            "text/plain": [
              "automatic    336524\n",
              "other         62682\n",
              "manual        25118\n",
              "Name: transmission, dtype: int64"
            ]
          },
          "metadata": {
            "tags": []
          },
          "execution_count": 61
        }
      ]
    },
    {
      "cell_type": "markdown",
      "metadata": {
        "id": "8ZlS2Yivza4k"
      },
      "source": [
        "- drive\n"
      ]
    },
    {
      "cell_type": "code",
      "metadata": {
        "id": "s3uVEOLQzd3-",
        "colab": {
          "base_uri": "https://localhost:8080/",
          "height": 283
        },
        "outputId": "672ab58e-fdc7-4295-b27c-c76edb819eab"
      },
      "source": [
        "col = 'drive'\n",
        "counts = df[col].fillna('others').value_counts()\n",
        "plt.grid()\n",
        "plt.plot(range(len(counts)),counts)"
      ],
      "execution_count": 62,
      "outputs": [
        {
          "output_type": "execute_result",
          "data": {
            "text/plain": [
              "[<matplotlib.lines.Line2D at 0x7f58f6d4d110>]"
            ]
          },
          "metadata": {
            "tags": []
          },
          "execution_count": 62
        },
        {
          "output_type": "display_data",
          "data": {
            "image/png": "[encoded data removed]",
            "text/plain": [
              "<Figure size 432x288 with 1 Axes>"
            ]
          },
          "metadata": {
            "tags": [],
            "needs_background": "light"
          }
        }
      ]
    },
    {
      "cell_type": "code",
      "metadata": {
        "id": "G-wkKleZzBJ8"
      },
      "source": [
        "n_categorical = 3\n",
        "counts.index[n_categorical:]\n",
        "df[col] = df[col].apply(lambda s:s if str(s) not in counts.index[n_categorical:] else 'others')"
      ],
      "execution_count": 63,
      "outputs": []
    },
    {
      "cell_type": "code",
      "metadata": {
        "colab": {
          "base_uri": "https://localhost:8080/"
        },
        "id": "5i6R5JaojxnQ",
        "outputId": "2ad61e95-3f02-489e-8f78-63cefc39a71f"
      },
      "source": [
        "df[col].value_counts()"
      ],
      "execution_count": 64,
      "outputs": [
        {
          "output_type": "execute_result",
          "data": {
            "text/plain": [
              "4wd       131904\n",
              "fwd       105517\n",
              "others     58892\n",
              "Name: drive, dtype: int64"
            ]
          },
          "metadata": {
            "tags": []
          },
          "execution_count": 64
        }
      ]
    },
    {
      "cell_type": "markdown",
      "metadata": {
        "id": "xIFT0oPwkEG1"
      },
      "source": [
        "- size\n"
      ]
    },
    {
      "cell_type": "code",
      "metadata": {
        "colab": {
          "base_uri": "https://localhost:8080/",
          "height": 283
        },
        "id": "wNHGCtrhkQsq",
        "outputId": "0b8ff286-950e-4f8e-bfd4-79565ab17a23"
      },
      "source": [
        "col = 'size'\n",
        "counts = df[col].fillna('others').value_counts()\n",
        "plt.grid()\n",
        "plt.plot(range(len(counts)),counts)"
      ],
      "execution_count": 65,
      "outputs": [
        {
          "output_type": "execute_result",
          "data": {
            "text/plain": [
              "[<matplotlib.lines.Line2D at 0x7f58f7a0e310>]"
            ]
          },
          "metadata": {
            "tags": []
          },
          "execution_count": 65
        },
        {
          "output_type": "display_data",
          "data": {
            "image/png": "[encoded data removed]",
            "text/plain": [
              "<Figure size 432x288 with 1 Axes>"
            ]
          },
          "metadata": {
            "tags": [],
            "needs_background": "light"
          }
        }
      ]
    },
    {
      "cell_type": "code",
      "metadata": {
        "id": "3wE1auuxkSAe"
      },
      "source": [
        "n_categorical = 2\n",
        "counts.index[n_categorical:]\n",
        "df[col] = df[col].apply(lambda s:s if str(s) not in counts.index[n_categorical:] else 'others')"
      ],
      "execution_count": 66,
      "outputs": []
    },
    {
      "cell_type": "code",
      "metadata": {
        "colab": {
          "base_uri": "https://localhost:8080/"
        },
        "id": "RGeQ8Ud1kXvH",
        "outputId": "412cd84e-a07d-46a6-ff34-ff97e949ca7d"
      },
      "source": [
        "df[col].value_counts()"
      ],
      "execution_count": 67,
      "outputs": [
        {
          "output_type": "execute_result",
          "data": {
            "text/plain": [
              "full-size    63465\n",
              "others       57054\n",
              "Name: size, dtype: int64"
            ]
          },
          "metadata": {
            "tags": []
          },
          "execution_count": 67
        }
      ]
    },
    {
      "cell_type": "markdown",
      "metadata": {
        "id": "CX2OqaQckbDn"
      },
      "source": [
        "- type\n"
      ]
    },
    {
      "cell_type": "code",
      "metadata": {
        "colab": {
          "base_uri": "https://localhost:8080/",
          "height": 283
        },
        "id": "P_f-eL5dkcEu",
        "outputId": "1f9a4796-5279-492b-8902-4e3b7013013e"
      },
      "source": [
        "col = 'type'\n",
        "counts = df[col].fillna('others').value_counts()\n",
        "plt.grid()\n",
        "plt.plot(range(len(counts)),counts)"
      ],
      "execution_count": 68,
      "outputs": [
        {
          "output_type": "execute_result",
          "data": {
            "text/plain": [
              "[<matplotlib.lines.Line2D at 0x7f58f7a69090>]"
            ]
          },
          "metadata": {
            "tags": []
          },
          "execution_count": 68
        },
        {
          "output_type": "display_data",
          "data": {
            "image/png": "[encoded data removed]",
            "text/plain": [
              "<Figure size 432x288 with 1 Axes>"
            ]
          },
          "metadata": {
            "tags": [],
            "needs_background": "light"
          }
        }
      ]
    },
    {
      "cell_type": "code",
      "metadata": {
        "id": "ge8IbH5bkdaJ"
      },
      "source": [
        "n_categorical = 8\n",
        "counts.index[n_categorical:]\n",
        "df[col] = df[col].apply(lambda s:s if str(s) not in counts.index[n_categorical:] else 'others')"
      ],
      "execution_count": 69,
      "outputs": []
    },
    {
      "cell_type": "code",
      "metadata": {
        "colab": {
          "base_uri": "https://localhost:8080/"
        },
        "id": "u-sC25g-kf7D",
        "outputId": "c5fa6e1b-15cd-42a0-e362-abb453433ed6"
      },
      "source": [
        "df[col].value_counts()"
      ],
      "execution_count": 70,
      "outputs": [
        {
          "output_type": "execute_result",
          "data": {
            "text/plain": [
              "sedan        87056\n",
              "SUV          77284\n",
              "pickup       43510\n",
              "truck        35279\n",
              "others       32981\n",
              "other        22110\n",
              "coupe        19204\n",
              "hatchback    16598\n",
              "Name: type, dtype: int64"
            ]
          },
          "metadata": {
            "tags": []
          },
          "execution_count": 70
        }
      ]
    },
    {
      "cell_type": "code",
      "metadata": {
        "id": "ceREw9VJki3j"
      },
      "source": [
        "df.loc[df[col] == 'other',col] = 'others'"
      ],
      "execution_count": 71,
      "outputs": []
    },
    {
      "cell_type": "markdown",
      "metadata": {
        "id": "L2m3SUgikoz5"
      },
      "source": [
        "- paint color\n"
      ]
    },
    {
      "cell_type": "code",
      "metadata": {
        "colab": {
          "base_uri": "https://localhost:8080/",
          "height": 283
        },
        "id": "vyoroXGvk3C4",
        "outputId": "ed645bcd-acf1-4435-92d9-25a48d89d6d4"
      },
      "source": [
        "col = 'paint_color'\n",
        "counts = df[col].fillna('others').value_counts()\n",
        "plt.grid()\n",
        "plt.plot(range(len(counts)),counts)"
      ],
      "execution_count": 72,
      "outputs": [
        {
          "output_type": "execute_result",
          "data": {
            "text/plain": [
              "[<matplotlib.lines.Line2D at 0x7f58f7a69950>]"
            ]
          },
          "metadata": {
            "tags": []
          },
          "execution_count": 72
        },
        {
          "output_type": "display_data",
          "data": {
            "image/png": "[encoded data removed]",
            "text/plain": [
              "<Figure size 432x288 with 1 Axes>"
            ]
          },
          "metadata": {
            "tags": [],
            "needs_background": "light"
          }
        }
      ]
    },
    {
      "cell_type": "code",
      "metadata": {
        "id": "TqjGRroIk5cp"
      },
      "source": [
        "n_categorical = 7\n",
        "counts.index[n_categorical:]\n",
        "df[col] = df[col].apply(lambda s:s if str(s) not in counts.index[n_categorical:] else 'others')"
      ],
      "execution_count": 73,
      "outputs": []
    },
    {
      "cell_type": "code",
      "metadata": {
        "id": "nHe_pxU-k8Q_"
      },
      "source": [
        "df.loc[df[col] == 'other',col] = 'others'"
      ],
      "execution_count": 74,
      "outputs": []
    },
    {
      "cell_type": "code",
      "metadata": {
        "colab": {
          "base_uri": "https://localhost:8080/"
        },
        "id": "CjDkhr6Vk90f",
        "outputId": "185ea0e0-0025-4fa2-8292-7d937bb6f367"
      },
      "source": [
        "df[col].value_counts()"
      ],
      "execution_count": 75,
      "outputs": [
        {
          "output_type": "execute_result",
          "data": {
            "text/plain": [
              "white     79285\n",
              "black     62861\n",
              "silver    42970\n",
              "blue      31223\n",
              "red       30473\n",
              "others    25449\n",
              "grey      24416\n",
              "Name: paint_color, dtype: int64"
            ]
          },
          "metadata": {
            "tags": []
          },
          "execution_count": 75
        }
      ]
    },
    {
      "cell_type": "markdown",
      "metadata": {
        "id": "2Z62otW9lgtX"
      },
      "source": [
        "### 문제 9. 수치형 데이터 시각화하여 분석하기"
      ]
    },
    {
      "cell_type": "code",
      "metadata": {
        "id": "NW-QEym6lgtX",
        "colab": {
          "base_uri": "https://localhost:8080/",
          "height": 189
        },
        "outputId": "d23fd5b7-8942-4d62-e24a-389e9d3a7039"
      },
      "source": [
        "# Seaborn을 이용하여 범주형 데이터를 시각화하여 분석하기\n",
        "# Hint) 값의 범위가 너무 넓을 경우 histplot() 등이 잘 동작하지 않으므로, rugplot을 활용\n",
        "plt.figure(figsize=(8,2))\n",
        "sns.rugplot(data=df,x='price',height=1)"
      ],
      "execution_count": 76,
      "outputs": [
        {
          "output_type": "execute_result",
          "data": {
            "text/plain": [
              "<matplotlib.axes._subplots.AxesSubplot at 0x7f58fed05510>"
            ]
          },
          "metadata": {
            "tags": []
          },
          "execution_count": 76
        },
        {
          "output_type": "display_data",
          "data": {
            "image/png": "[encoded data removed]",
            "text/plain": [
              "<Figure size 576x144 with 1 Axes>"
            ]
          },
          "metadata": {
            "tags": [],
            "needs_background": "light"
          }
        }
      ]
    },
    {
      "cell_type": "code",
      "metadata": {
        "colab": {
          "base_uri": "https://localhost:8080/",
          "height": 189
        },
        "id": "WJRGPu7sn-Lz",
        "outputId": "0d4a9803-8d92-4fdb-f9fd-396f03dcc566"
      },
      "source": [
        "plt.figure(figsize=(8,2))\n",
        "sns.rugplot(data=df,x='odometer',height=1)"
      ],
      "execution_count": 77,
      "outputs": [
        {
          "output_type": "execute_result",
          "data": {
            "text/plain": [
              "<matplotlib.axes._subplots.AxesSubplot at 0x7f58f8686f10>"
            ]
          },
          "metadata": {
            "tags": []
          },
          "execution_count": 77
        },
        {
          "output_type": "display_data",
          "data": {
            "image/png": "[encoded data removed]",
            "text/plain": [
              "<Figure size 576x144 with 1 Axes>"
            ]
          },
          "metadata": {
            "tags": [],
            "needs_background": "light"
          }
        }
      ]
    },
    {
      "cell_type": "code",
      "metadata": {
        "colab": {
          "base_uri": "https://localhost:8080/",
          "height": 189
        },
        "id": "jW3hJcWdoJN2",
        "outputId": "7470dc22-a6b7-4199-c933-947001944946"
      },
      "source": [
        "plt.figure(figsize=(8,2))\n",
        "sns.histplot(data=df,x='age',bins=18,kde=True)"
      ],
      "execution_count": 78,
      "outputs": [
        {
          "output_type": "execute_result",
          "data": {
            "text/plain": [
              "<matplotlib.axes._subplots.AxesSubplot at 0x7f58d684a790>"
            ]
          },
          "metadata": {
            "tags": []
          },
          "execution_count": 78
        },
        {
          "output_type": "display_data",
          "data": {
            "image/png": "[encoded data removed]",
            "text/plain": [
              "<Figure size 576x144 with 1 Axes>"
            ]
          },
          "metadata": {
            "tags": [],
            "needs_background": "light"
          }
        }
      ]
    },
    {
      "cell_type": "markdown",
      "metadata": {
        "id": "xsd_T_h_lgtY"
      },
      "source": [
        "### 문제 10. 수치형 데이터 클리닝하기"
      ]
    },
    {
      "cell_type": "code",
      "metadata": {
        "colab": {
          "base_uri": "https://localhost:8080/"
        },
        "id": "NclQqwoMoQqL",
        "outputId": "fd161d57-3532-411a-ce6f-6b1b101ff0f7"
      },
      "source": [
        "p1 = df['price'].quantile(0.99)\n",
        "p2 = df['price'].quantile(0.1)\n",
        "print(p1,p2)"
      ],
      "execution_count": 79,
      "outputs": [
        {
          "output_type": "stream",
          "text": [
            "66995.0 500.0\n"
          ],
          "name": "stdout"
        }
      ]
    },
    {
      "cell_type": "code",
      "metadata": {
        "id": "klwQWS_upAMp"
      },
      "source": [
        "df = df[(p1 > df['price']) & (df['price'] > p2)]"
      ],
      "execution_count": 86,
      "outputs": []
    },
    {
      "cell_type": "code",
      "metadata": {
        "colab": {
          "base_uri": "https://localhost:8080/"
        },
        "id": "jepnZ6ofoouk",
        "outputId": "35edafd1-3e4a-4240-fa84-7e4bd314343c"
      },
      "source": [
        "o1 = df['odometer'].quantile(0.99)\n",
        "o2 = df['odometer'].quantile(0.1)\n",
        "print(o1,o2)\n",
        "\n"
      ],
      "execution_count": 80,
      "outputs": [
        {
          "output_type": "stream",
          "text": [
            "280000.0 14939.0\n"
          ],
          "name": "stdout"
        }
      ]
    },
    {
      "cell_type": "code",
      "metadata": {
        "id": "EA-btH4ooVUK"
      },
      "source": [
        "df = df[(o1 > df['odometer']) & (df['odometer'] > o2)]"
      ],
      "execution_count": 87,
      "outputs": []
    },
    {
      "cell_type": "code",
      "metadata": {
        "colab": {
          "base_uri": "https://localhost:8080/",
          "height": 297
        },
        "id": "s7hVP9fqpaUM",
        "outputId": "ecdfb316-eced-4c40-db45-3839d7a11b17"
      },
      "source": [
        "df.describe()"
      ],
      "execution_count": 88,
      "outputs": [
        {
          "output_type": "execute_result",
          "data": {
            "text/html": [
              "<div>\n",
              "<style scoped>\n",
              "    .dataframe tbody tr th:only-of-type {\n",
              "        vertical-align: middle;\n",
              "    }\n",
              "\n",
              "    .dataframe tbody tr th {\n",
              "        vertical-align: top;\n",
              "    }\n",
              "\n",
              "    .dataframe thead th {\n",
              "        text-align: right;\n",
              "    }\n",
              "</style>\n",
              "<table border=\"1\" class=\"dataframe\">\n",
              "  <thead>\n",
              "    <tr style=\"text-align: right;\">\n",
              "      <th></th>\n",
              "      <th>price</th>\n",
              "      <th>odometer</th>\n",
              "      <th>age</th>\n",
              "    </tr>\n",
              "  </thead>\n",
              "  <tbody>\n",
              "    <tr>\n",
              "      <th>count</th>\n",
              "      <td>338073.000000</td>\n",
              "      <td>338073.000000</td>\n",
              "      <td>337457.000000</td>\n",
              "    </tr>\n",
              "    <tr>\n",
              "      <th>mean</th>\n",
              "      <td>17618.115265</td>\n",
              "      <td>100771.015355</td>\n",
              "      <td>11.204921</td>\n",
              "    </tr>\n",
              "    <tr>\n",
              "      <th>std</th>\n",
              "      <td>12678.374523</td>\n",
              "      <td>57120.746792</td>\n",
              "      <td>8.489158</td>\n",
              "    </tr>\n",
              "    <tr>\n",
              "      <th>min</th>\n",
              "      <td>501.000000</td>\n",
              "      <td>14940.000000</td>\n",
              "      <td>0.000000</td>\n",
              "    </tr>\n",
              "    <tr>\n",
              "      <th>25%</th>\n",
              "      <td>7495.000000</td>\n",
              "      <td>51933.000000</td>\n",
              "      <td>6.000000</td>\n",
              "    </tr>\n",
              "    <tr>\n",
              "      <th>50%</th>\n",
              "      <td>14599.000000</td>\n",
              "      <td>96281.000000</td>\n",
              "      <td>9.000000</td>\n",
              "    </tr>\n",
              "    <tr>\n",
              "      <th>75%</th>\n",
              "      <td>25590.000000</td>\n",
              "      <td>140000.000000</td>\n",
              "      <td>14.000000</td>\n",
              "    </tr>\n",
              "    <tr>\n",
              "      <th>max</th>\n",
              "      <td>66992.000000</td>\n",
              "      <td>279974.000000</td>\n",
              "      <td>122.000000</td>\n",
              "    </tr>\n",
              "  </tbody>\n",
              "</table>\n",
              "</div>"
            ],
            "text/plain": [
              "               price       odometer            age\n",
              "count  338073.000000  338073.000000  337457.000000\n",
              "mean    17618.115265  100771.015355      11.204921\n",
              "std     12678.374523   57120.746792       8.489158\n",
              "min       501.000000   14940.000000       0.000000\n",
              "25%      7495.000000   51933.000000       6.000000\n",
              "50%     14599.000000   96281.000000       9.000000\n",
              "75%     25590.000000  140000.000000      14.000000\n",
              "max     66992.000000  279974.000000     122.000000"
            ]
          },
          "metadata": {
            "tags": []
          },
          "execution_count": 88
        }
      ]
    },
    {
      "cell_type": "code",
      "metadata": {
        "colab": {
          "base_uri": "https://localhost:8080/"
        },
        "id": "CDfhEsYpsjsz",
        "outputId": "d34245f1-aaac-4615-f7fa-7576183e71ad"
      },
      "source": [
        "df.columns"
      ],
      "execution_count": 91,
      "outputs": [
        {
          "output_type": "execute_result",
          "data": {
            "text/plain": [
              "Index(['region', 'price', 'manufacturer', 'model', 'condition', 'cylinders',\n",
              "       'fuel', 'odometer', 'transmission', 'drive', 'size', 'type',\n",
              "       'paint_color', 'age'],\n",
              "      dtype='object')"
            ]
          },
          "metadata": {
            "tags": []
          },
          "execution_count": 91
        }
      ]
    },
    {
      "cell_type": "code",
      "metadata": {
        "id": "PRYiAxnKlgtY",
        "colab": {
          "base_uri": "https://localhost:8080/",
          "height": 337
        },
        "outputId": "922cf45a-ac03-4010-c797-49badb8c3ae9"
      },
      "source": [
        "plt.xticks(rotation=90)\n",
        "sns.boxplot(x='manufacturer',y='price',data=df)"
      ],
      "execution_count": 90,
      "outputs": [
        {
          "output_type": "execute_result",
          "data": {
            "text/plain": [
              "<matplotlib.axes._subplots.AxesSubplot at 0x7f58c7151c10>"
            ]
          },
          "metadata": {
            "tags": []
          },
          "execution_count": 90
        },
        {
          "output_type": "display_data",
          "data": {
            "image/png": "[encoded data removed]",
            "text/plain": [
              "<Figure size 432x288 with 1 Axes>"
            ]
          },
          "metadata": {
            "tags": [],
            "needs_background": "light"
          }
        }
      ]
    },
    {
      "cell_type": "code",
      "metadata": {
        "colab": {
          "base_uri": "https://localhost:8080/",
          "height": 364
        },
        "id": "NeR_F2PqsZXU",
        "outputId": "47513499-dc9d-4f21-aa0e-9ca04952aa96"
      },
      "source": [
        "plt.xticks(rotation=90)\n",
        "sns.boxplot(x='model',y='price',data=df)"
      ],
      "execution_count": 93,
      "outputs": [
        {
          "output_type": "execute_result",
          "data": {
            "text/plain": [
              "<matplotlib.axes._subplots.AxesSubplot at 0x7f58c6ce3c90>"
            ]
          },
          "metadata": {
            "tags": []
          },
          "execution_count": 93
        },
        {
          "output_type": "display_data",
          "data": {
            "image/png": "[encoded data removed]",
            "text/plain": [
              "<Figure size 432x288 with 1 Axes>"
            ]
          },
          "metadata": {
            "tags": [],
            "needs_background": "light"
          }
        }
      ]
    },
    {
      "cell_type": "code",
      "metadata": {
        "colab": {
          "base_uri": "https://localhost:8080/",
          "height": 323
        },
        "id": "j8PlqYBJsos6",
        "outputId": "5e960e30-71e0-4da9-ab86-9a238a62e3cc"
      },
      "source": [
        "plt.xticks(rotation=90)\n",
        "sns.boxplot(x='paint_color',y='price',data=df)"
      ],
      "execution_count": 95,
      "outputs": [
        {
          "output_type": "execute_result",
          "data": {
            "text/plain": [
              "<matplotlib.axes._subplots.AxesSubplot at 0x7f58c6a09410>"
            ]
          },
          "metadata": {
            "tags": []
          },
          "execution_count": 95
        },
        {
          "output_type": "display_data",
          "data": {
            "image/png": "[encoded data removed]",
            "text/plain": [
              "<Figure size 432x288 with 1 Axes>"
            ]
          },
          "metadata": {
            "tags": [],
            "needs_background": "light"
          }
        }
      ]
    },
    {
      "cell_type": "code",
      "metadata": {
        "colab": {
          "base_uri": "https://localhost:8080/",
          "height": 342
        },
        "id": "wAKUwEveswhZ",
        "outputId": "7a551ced-ee09-4dbb-919a-7cac7b612b6b"
      },
      "source": [
        "plt.xticks(rotation=90)\n",
        "sns.boxplot(x='type',y='price',data=df)"
      ],
      "execution_count": 96,
      "outputs": [
        {
          "output_type": "execute_result",
          "data": {
            "text/plain": [
              "<matplotlib.axes._subplots.AxesSubplot at 0x7f58c6899f50>"
            ]
          },
          "metadata": {
            "tags": []
          },
          "execution_count": 96
        },
        {
          "output_type": "display_data",
          "data": {
            "image/png": "[encoded data removed]",
            "text/plain": [
              "<Figure size 432x288 with 1 Axes>"
            ]
          },
          "metadata": {
            "tags": [],
            "needs_background": "light"
          }
        }
      ]
    },
    {
      "cell_type": "code",
      "metadata": {
        "colab": {
          "base_uri": "https://localhost:8080/",
          "height": 329
        },
        "id": "Y2PugVRBsyWH",
        "outputId": "3b1c9423-9afd-4e27-83b5-f7147b8b66d3"
      },
      "source": [
        "plt.xticks(rotation=90)\n",
        "sns.boxplot(x='size',y='price',data=df)"
      ],
      "execution_count": 97,
      "outputs": [
        {
          "output_type": "execute_result",
          "data": {
            "text/plain": [
              "<matplotlib.axes._subplots.AxesSubplot at 0x7f58c68ee190>"
            ]
          },
          "metadata": {
            "tags": []
          },
          "execution_count": 97
        },
        {
          "output_type": "display_data",
          "data": {
            "image/png": "[encoded data removed]",
            "text/plain": [
              "<Figure size 432x288 with 1 Axes>"
            ]
          },
          "metadata": {
            "tags": [],
            "needs_background": "light"
          }
        }
      ]
    },
    {
      "cell_type": "code",
      "metadata": {
        "colab": {
          "base_uri": "https://localhost:8080/",
          "height": 341
        },
        "id": "rshHEIuXsz3r",
        "outputId": "31d71c30-0074-4ef5-c494-4bcc35a9b207"
      },
      "source": [
        "plt.xticks(rotation=90)\n",
        "sns.boxplot(x='transmission',y='price',data=df)"
      ],
      "execution_count": 99,
      "outputs": [
        {
          "output_type": "execute_result",
          "data": {
            "text/plain": [
              "<matplotlib.axes._subplots.AxesSubplot at 0x7f58c66c3890>"
            ]
          },
          "metadata": {
            "tags": []
          },
          "execution_count": 99
        },
        {
          "output_type": "display_data",
          "data": {
            "image/png": "[encoded data removed]",
            "text/plain": [
              "<Figure size 432x288 with 1 Axes>"
            ]
          },
          "metadata": {
            "tags": [],
            "needs_background": "light"
          }
        }
      ]
    },
    {
      "cell_type": "code",
      "metadata": {
        "colab": {
          "base_uri": "https://localhost:8080/",
          "height": 336
        },
        "id": "R3VkmrNPtA_u",
        "outputId": "8203ec71-52e6-4fcd-fd59-4a9285893053"
      },
      "source": [
        "plt.xticks(rotation=90)\n",
        "sns.boxplot(x='condition',y='price',data=df)"
      ],
      "execution_count": 101,
      "outputs": [
        {
          "output_type": "execute_result",
          "data": {
            "text/plain": [
              "<matplotlib.axes._subplots.AxesSubplot at 0x7f58c65c9290>"
            ]
          },
          "metadata": {
            "tags": []
          },
          "execution_count": 101
        },
        {
          "output_type": "display_data",
          "data": {
            "image/png": "[encoded data removed]",
            "text/plain": [
              "<Figure size 432x288 with 1 Axes>"
            ]
          },
          "metadata": {
            "tags": [],
            "needs_background": "light"
          }
        }
      ]
    },
    {
      "cell_type": "markdown",
      "metadata": {
        "id": "sWIF67-8lr4C"
      },
      "source": [
        "### 문제 11. 컬럼간의 Correlation Heatmap으로 시각화하기"
      ]
    },
    {
      "cell_type": "code",
      "metadata": {
        "id": "wVmEa1ChlrTc",
        "colab": {
          "base_uri": "https://localhost:8080/",
          "height": 287
        },
        "outputId": "e79543d7-bed6-4a3f-be09-ad913701d367"
      },
      "source": [
        "sns.heatmap(df.corr(),annot=True,cmap='YlOrRd')"
      ],
      "execution_count": 103,
      "outputs": [
        {
          "output_type": "execute_result",
          "data": {
            "text/plain": [
              "<matplotlib.axes._subplots.AxesSubplot at 0x7f58c5ae37d0>"
            ]
          },
          "metadata": {
            "tags": []
          },
          "execution_count": 103
        },
        {
          "output_type": "display_data",
          "data": {
            "image/png": "[encoded data removed]",
            "text/plain": [
              "<Figure size 432x288 with 2 Axes>"
            ]
          },
          "metadata": {
            "tags": [],
            "needs_background": "light"
          }
        }
      ]
    },
    {
      "cell_type": "markdown",
      "metadata": {
        "id": "FRfd7ABjepBS"
      },
      "source": [
        "## Step 4. 모델 학습을 위한 데이터 전처리 "
      ]
    },
    {
      "cell_type": "markdown",
      "metadata": {
        "id": "Dev2yLeMta85"
      },
      "source": [
        "### 문제 12. StandardScaler를 이용해 수치형 데이터 표준화하기\n"
      ]
    },
    {
      "cell_type": "code",
      "metadata": {
        "id": "_k_SDCh5xMgD"
      },
      "source": [
        "from sklearn.preprocessing import StandardScaler"
      ],
      "execution_count": 84,
      "outputs": []
    },
    {
      "cell_type": "code",
      "metadata": {
        "id": "W3EO22NCE3wG"
      },
      "source": [
        "# StandardScaler를 이용해 수치형 데이터를 표준화하기\n",
        "\n",
        "X_num = df[['odometer','age']]\n",
        "scaler = StandardScaler()\n",
        "scaler.fit(X_num)\n",
        "X_scaled = scaler.transform(X_num)\n",
        "X_scaled = pd.DataFrame(X_scaled,index=X_num.index,columns=X_num.columns)\n",
        "\n",
        "# get_dummies를 이용해 범주형 데이터를 one-hot 벡터로 변경하기\n",
        "\n",
        "X_cat = df.drop(['price','odometer','age'],axis=1)\n",
        "X_cat = pd.get_dummies(X_cat)\n",
        "\n",
        "# 입출력 데이터 통합하기\n",
        "X = pd.concat([X_scaled,X_cat],axis=1)\n",
        "y = df['price']"
      ],
      "execution_count": 105,
      "outputs": []
    },
    {
      "cell_type": "code",
      "metadata": {
        "colab": {
          "base_uri": "https://localhost:8080/",
          "height": 258
        },
        "id": "CM0m5395u7KV",
        "outputId": "fcf065c6-8fcd-43dd-d0b9-3004bff3b142"
      },
      "source": [
        "X.head()"
      ],
      "execution_count": 107,
      "outputs": [
        {
          "output_type": "execute_result",
          "data": {
            "text/html": [
              "<div>\n",
              "<style scoped>\n",
              "    .dataframe tbody tr th:only-of-type {\n",
              "        vertical-align: middle;\n",
              "    }\n",
              "\n",
              "    .dataframe tbody tr th {\n",
              "        vertical-align: top;\n",
              "    }\n",
              "\n",
              "    .dataframe thead th {\n",
              "        text-align: right;\n",
              "    }\n",
              "</style>\n",
              "<table border=\"1\" class=\"dataframe\">\n",
              "  <thead>\n",
              "    <tr style=\"text-align: right;\">\n",
              "      <th></th>\n",
              "      <th>odometer</th>\n",
              "      <th>age</th>\n",
              "      <th>region_columbus</th>\n",
              "      <th>region_eugene</th>\n",
              "      <th>region_fresno / madera</th>\n",
              "      <th>region_jacksonville</th>\n",
              "      <th>region_others</th>\n",
              "      <th>region_spokane / coeur d'alene</th>\n",
              "      <th>manufacturer_bmw</th>\n",
              "      <th>manufacturer_chevrolet</th>\n",
              "      <th>manufacturer_ford</th>\n",
              "      <th>manufacturer_gmc</th>\n",
              "      <th>manufacturer_honda</th>\n",
              "      <th>manufacturer_jeep</th>\n",
              "      <th>manufacturer_nissan</th>\n",
              "      <th>manufacturer_others</th>\n",
              "      <th>manufacturer_ram</th>\n",
              "      <th>manufacturer_toyota</th>\n",
              "      <th>model_1500</th>\n",
              "      <th>model_accord</th>\n",
              "      <th>model_altima</th>\n",
              "      <th>model_camry</th>\n",
              "      <th>model_civic</th>\n",
              "      <th>model_f-150</th>\n",
              "      <th>model_others</th>\n",
              "      <th>model_silverado</th>\n",
              "      <th>model_silverado 1500</th>\n",
              "      <th>model_wrangler</th>\n",
              "      <th>condition_excellent</th>\n",
              "      <th>condition_good</th>\n",
              "      <th>condition_others</th>\n",
              "      <th>cylinders_4 cylinders</th>\n",
              "      <th>cylinders_6 cylinders</th>\n",
              "      <th>cylinders_8 cylinders</th>\n",
              "      <th>cylinders_others</th>\n",
              "      <th>fuel_gas</th>\n",
              "      <th>fuel_other</th>\n",
              "      <th>fuel_others</th>\n",
              "      <th>transmission_automatic</th>\n",
              "      <th>transmission_manual</th>\n",
              "      <th>transmission_other</th>\n",
              "      <th>drive_4wd</th>\n",
              "      <th>drive_fwd</th>\n",
              "      <th>drive_others</th>\n",
              "      <th>size_full-size</th>\n",
              "      <th>size_others</th>\n",
              "      <th>type_SUV</th>\n",
              "      <th>type_coupe</th>\n",
              "      <th>type_hatchback</th>\n",
              "      <th>type_others</th>\n",
              "      <th>type_pickup</th>\n",
              "      <th>type_sedan</th>\n",
              "      <th>type_truck</th>\n",
              "      <th>paint_color_black</th>\n",
              "      <th>paint_color_blue</th>\n",
              "      <th>paint_color_grey</th>\n",
              "      <th>paint_color_others</th>\n",
              "      <th>paint_color_red</th>\n",
              "      <th>paint_color_silver</th>\n",
              "      <th>paint_color_white</th>\n",
              "    </tr>\n",
              "  </thead>\n",
              "  <tbody>\n",
              "    <tr>\n",
              "      <th>27</th>\n",
              "      <td>-0.750132</td>\n",
              "      <td>-0.377532</td>\n",
              "      <td>0</td>\n",
              "      <td>0</td>\n",
              "      <td>0</td>\n",
              "      <td>0</td>\n",
              "      <td>1</td>\n",
              "      <td>0</td>\n",
              "      <td>0</td>\n",
              "      <td>0</td>\n",
              "      <td>0</td>\n",
              "      <td>1</td>\n",
              "      <td>0</td>\n",
              "      <td>0</td>\n",
              "      <td>0</td>\n",
              "      <td>0</td>\n",
              "      <td>0</td>\n",
              "      <td>0</td>\n",
              "      <td>0</td>\n",
              "      <td>0</td>\n",
              "      <td>0</td>\n",
              "      <td>0</td>\n",
              "      <td>0</td>\n",
              "      <td>0</td>\n",
              "      <td>1</td>\n",
              "      <td>0</td>\n",
              "      <td>0</td>\n",
              "      <td>0</td>\n",
              "      <td>0</td>\n",
              "      <td>1</td>\n",
              "      <td>0</td>\n",
              "      <td>0</td>\n",
              "      <td>0</td>\n",
              "      <td>1</td>\n",
              "      <td>0</td>\n",
              "      <td>1</td>\n",
              "      <td>0</td>\n",
              "      <td>0</td>\n",
              "      <td>0</td>\n",
              "      <td>0</td>\n",
              "      <td>1</td>\n",
              "      <td>0</td>\n",
              "      <td>0</td>\n",
              "      <td>0</td>\n",
              "      <td>0</td>\n",
              "      <td>0</td>\n",
              "      <td>0</td>\n",
              "      <td>0</td>\n",
              "      <td>0</td>\n",
              "      <td>0</td>\n",
              "      <td>1</td>\n",
              "      <td>0</td>\n",
              "      <td>0</td>\n",
              "      <td>0</td>\n",
              "      <td>0</td>\n",
              "      <td>0</td>\n",
              "      <td>0</td>\n",
              "      <td>0</td>\n",
              "      <td>0</td>\n",
              "      <td>1</td>\n",
              "    </tr>\n",
              "    <tr>\n",
              "      <th>28</th>\n",
              "      <td>-0.517186</td>\n",
              "      <td>0.093658</td>\n",
              "      <td>0</td>\n",
              "      <td>0</td>\n",
              "      <td>0</td>\n",
              "      <td>0</td>\n",
              "      <td>1</td>\n",
              "      <td>0</td>\n",
              "      <td>0</td>\n",
              "      <td>1</td>\n",
              "      <td>0</td>\n",
              "      <td>0</td>\n",
              "      <td>0</td>\n",
              "      <td>0</td>\n",
              "      <td>0</td>\n",
              "      <td>0</td>\n",
              "      <td>0</td>\n",
              "      <td>0</td>\n",
              "      <td>0</td>\n",
              "      <td>0</td>\n",
              "      <td>0</td>\n",
              "      <td>0</td>\n",
              "      <td>0</td>\n",
              "      <td>0</td>\n",
              "      <td>0</td>\n",
              "      <td>0</td>\n",
              "      <td>1</td>\n",
              "      <td>0</td>\n",
              "      <td>0</td>\n",
              "      <td>1</td>\n",
              "      <td>0</td>\n",
              "      <td>0</td>\n",
              "      <td>0</td>\n",
              "      <td>1</td>\n",
              "      <td>0</td>\n",
              "      <td>1</td>\n",
              "      <td>0</td>\n",
              "      <td>0</td>\n",
              "      <td>0</td>\n",
              "      <td>0</td>\n",
              "      <td>1</td>\n",
              "      <td>0</td>\n",
              "      <td>0</td>\n",
              "      <td>0</td>\n",
              "      <td>0</td>\n",
              "      <td>0</td>\n",
              "      <td>0</td>\n",
              "      <td>0</td>\n",
              "      <td>0</td>\n",
              "      <td>0</td>\n",
              "      <td>1</td>\n",
              "      <td>0</td>\n",
              "      <td>0</td>\n",
              "      <td>0</td>\n",
              "      <td>1</td>\n",
              "      <td>0</td>\n",
              "      <td>0</td>\n",
              "      <td>0</td>\n",
              "      <td>0</td>\n",
              "      <td>0</td>\n",
              "    </tr>\n",
              "    <tr>\n",
              "      <th>29</th>\n",
              "      <td>-1.428748</td>\n",
              "      <td>-1.084317</td>\n",
              "      <td>0</td>\n",
              "      <td>0</td>\n",
              "      <td>0</td>\n",
              "      <td>0</td>\n",
              "      <td>1</td>\n",
              "      <td>0</td>\n",
              "      <td>0</td>\n",
              "      <td>1</td>\n",
              "      <td>0</td>\n",
              "      <td>0</td>\n",
              "      <td>0</td>\n",
              "      <td>0</td>\n",
              "      <td>0</td>\n",
              "      <td>0</td>\n",
              "      <td>0</td>\n",
              "      <td>0</td>\n",
              "      <td>0</td>\n",
              "      <td>0</td>\n",
              "      <td>0</td>\n",
              "      <td>0</td>\n",
              "      <td>0</td>\n",
              "      <td>0</td>\n",
              "      <td>1</td>\n",
              "      <td>0</td>\n",
              "      <td>0</td>\n",
              "      <td>0</td>\n",
              "      <td>0</td>\n",
              "      <td>1</td>\n",
              "      <td>0</td>\n",
              "      <td>0</td>\n",
              "      <td>0</td>\n",
              "      <td>1</td>\n",
              "      <td>0</td>\n",
              "      <td>1</td>\n",
              "      <td>0</td>\n",
              "      <td>0</td>\n",
              "      <td>0</td>\n",
              "      <td>0</td>\n",
              "      <td>1</td>\n",
              "      <td>0</td>\n",
              "      <td>0</td>\n",
              "      <td>0</td>\n",
              "      <td>0</td>\n",
              "      <td>0</td>\n",
              "      <td>0</td>\n",
              "      <td>0</td>\n",
              "      <td>0</td>\n",
              "      <td>0</td>\n",
              "      <td>1</td>\n",
              "      <td>0</td>\n",
              "      <td>0</td>\n",
              "      <td>0</td>\n",
              "      <td>0</td>\n",
              "      <td>0</td>\n",
              "      <td>0</td>\n",
              "      <td>1</td>\n",
              "      <td>0</td>\n",
              "      <td>0</td>\n",
              "    </tr>\n",
              "    <tr>\n",
              "      <th>30</th>\n",
              "      <td>-1.044228</td>\n",
              "      <td>-0.730924</td>\n",
              "      <td>0</td>\n",
              "      <td>0</td>\n",
              "      <td>0</td>\n",
              "      <td>0</td>\n",
              "      <td>1</td>\n",
              "      <td>0</td>\n",
              "      <td>0</td>\n",
              "      <td>0</td>\n",
              "      <td>0</td>\n",
              "      <td>0</td>\n",
              "      <td>0</td>\n",
              "      <td>0</td>\n",
              "      <td>0</td>\n",
              "      <td>0</td>\n",
              "      <td>0</td>\n",
              "      <td>1</td>\n",
              "      <td>0</td>\n",
              "      <td>0</td>\n",
              "      <td>0</td>\n",
              "      <td>0</td>\n",
              "      <td>0</td>\n",
              "      <td>0</td>\n",
              "      <td>1</td>\n",
              "      <td>0</td>\n",
              "      <td>0</td>\n",
              "      <td>0</td>\n",
              "      <td>0</td>\n",
              "      <td>1</td>\n",
              "      <td>0</td>\n",
              "      <td>0</td>\n",
              "      <td>0</td>\n",
              "      <td>1</td>\n",
              "      <td>0</td>\n",
              "      <td>1</td>\n",
              "      <td>0</td>\n",
              "      <td>0</td>\n",
              "      <td>0</td>\n",
              "      <td>0</td>\n",
              "      <td>1</td>\n",
              "      <td>0</td>\n",
              "      <td>0</td>\n",
              "      <td>0</td>\n",
              "      <td>0</td>\n",
              "      <td>0</td>\n",
              "      <td>0</td>\n",
              "      <td>0</td>\n",
              "      <td>0</td>\n",
              "      <td>0</td>\n",
              "      <td>1</td>\n",
              "      <td>0</td>\n",
              "      <td>0</td>\n",
              "      <td>0</td>\n",
              "      <td>0</td>\n",
              "      <td>0</td>\n",
              "      <td>0</td>\n",
              "      <td>1</td>\n",
              "      <td>0</td>\n",
              "      <td>0</td>\n",
              "    </tr>\n",
              "    <tr>\n",
              "      <th>31</th>\n",
              "      <td>0.476692</td>\n",
              "      <td>-0.259734</td>\n",
              "      <td>0</td>\n",
              "      <td>0</td>\n",
              "      <td>0</td>\n",
              "      <td>0</td>\n",
              "      <td>1</td>\n",
              "      <td>0</td>\n",
              "      <td>0</td>\n",
              "      <td>0</td>\n",
              "      <td>1</td>\n",
              "      <td>0</td>\n",
              "      <td>0</td>\n",
              "      <td>0</td>\n",
              "      <td>0</td>\n",
              "      <td>0</td>\n",
              "      <td>0</td>\n",
              "      <td>0</td>\n",
              "      <td>0</td>\n",
              "      <td>0</td>\n",
              "      <td>0</td>\n",
              "      <td>0</td>\n",
              "      <td>0</td>\n",
              "      <td>0</td>\n",
              "      <td>1</td>\n",
              "      <td>0</td>\n",
              "      <td>0</td>\n",
              "      <td>0</td>\n",
              "      <td>1</td>\n",
              "      <td>0</td>\n",
              "      <td>0</td>\n",
              "      <td>0</td>\n",
              "      <td>1</td>\n",
              "      <td>0</td>\n",
              "      <td>0</td>\n",
              "      <td>1</td>\n",
              "      <td>0</td>\n",
              "      <td>0</td>\n",
              "      <td>1</td>\n",
              "      <td>0</td>\n",
              "      <td>0</td>\n",
              "      <td>0</td>\n",
              "      <td>0</td>\n",
              "      <td>1</td>\n",
              "      <td>1</td>\n",
              "      <td>0</td>\n",
              "      <td>0</td>\n",
              "      <td>0</td>\n",
              "      <td>0</td>\n",
              "      <td>0</td>\n",
              "      <td>0</td>\n",
              "      <td>0</td>\n",
              "      <td>1</td>\n",
              "      <td>1</td>\n",
              "      <td>0</td>\n",
              "      <td>0</td>\n",
              "      <td>0</td>\n",
              "      <td>0</td>\n",
              "      <td>0</td>\n",
              "      <td>0</td>\n",
              "    </tr>\n",
              "  </tbody>\n",
              "</table>\n",
              "</div>"
            ],
            "text/plain": [
              "    odometer       age  ...  paint_color_silver  paint_color_white\n",
              "27 -0.750132 -0.377532  ...                   0                  1\n",
              "28 -0.517186  0.093658  ...                   0                  0\n",
              "29 -1.428748 -1.084317  ...                   0                  0\n",
              "30 -1.044228 -0.730924  ...                   0                  0\n",
              "31  0.476692 -0.259734  ...                   0                  0\n",
              "\n",
              "[5 rows x 60 columns]"
            ]
          },
          "metadata": {
            "tags": []
          },
          "execution_count": 107
        }
      ]
    },
    {
      "cell_type": "code",
      "metadata": {
        "colab": {
          "base_uri": "https://localhost:8080/"
        },
        "id": "BJud81-Ju_z2",
        "outputId": "f31b2f1c-a82e-4caf-8636-bb0ab1b685a9"
      },
      "source": [
        "X.shape"
      ],
      "execution_count": 110,
      "outputs": [
        {
          "output_type": "execute_result",
          "data": {
            "text/plain": [
              "(338073, 60)"
            ]
          },
          "metadata": {
            "tags": []
          },
          "execution_count": 110
        }
      ]
    },
    {
      "cell_type": "code",
      "metadata": {
        "colab": {
          "base_uri": "https://localhost:8080/"
        },
        "id": "Istv3O_qvE05",
        "outputId": "5c3dc0e5-0d02-4eae-f69a-2b86b8d67743"
      },
      "source": [
        "X.isna().sum()"
      ],
      "execution_count": 112,
      "outputs": [
        {
          "output_type": "execute_result",
          "data": {
            "text/plain": [
              "odometer                            0\n",
              "age                               616\n",
              "region_columbus                     0\n",
              "region_eugene                       0\n",
              "region_fresno / madera              0\n",
              "region_jacksonville                 0\n",
              "region_others                       0\n",
              "region_spokane / coeur d'alene      0\n",
              "manufacturer_bmw                    0\n",
              "manufacturer_chevrolet              0\n",
              "manufacturer_ford                   0\n",
              "manufacturer_gmc                    0\n",
              "manufacturer_honda                  0\n",
              "manufacturer_jeep                   0\n",
              "manufacturer_nissan                 0\n",
              "manufacturer_others                 0\n",
              "manufacturer_ram                    0\n",
              "manufacturer_toyota                 0\n",
              "model_1500                          0\n",
              "model_accord                        0\n",
              "model_altima                        0\n",
              "model_camry                         0\n",
              "model_civic                         0\n",
              "model_f-150                         0\n",
              "model_others                        0\n",
              "model_silverado                     0\n",
              "model_silverado 1500                0\n",
              "model_wrangler                      0\n",
              "condition_excellent                 0\n",
              "condition_good                      0\n",
              "condition_others                    0\n",
              "cylinders_4 cylinders               0\n",
              "cylinders_6 cylinders               0\n",
              "cylinders_8 cylinders               0\n",
              "cylinders_others                    0\n",
              "fuel_gas                            0\n",
              "fuel_other                          0\n",
              "fuel_others                         0\n",
              "transmission_automatic              0\n",
              "transmission_manual                 0\n",
              "transmission_other                  0\n",
              "drive_4wd                           0\n",
              "drive_fwd                           0\n",
              "drive_others                        0\n",
              "size_full-size                      0\n",
              "size_others                         0\n",
              "type_SUV                            0\n",
              "type_coupe                          0\n",
              "type_hatchback                      0\n",
              "type_others                         0\n",
              "type_pickup                         0\n",
              "type_sedan                          0\n",
              "type_truck                          0\n",
              "paint_color_black                   0\n",
              "paint_color_blue                    0\n",
              "paint_color_grey                    0\n",
              "paint_color_others                  0\n",
              "paint_color_red                     0\n",
              "paint_color_silver                  0\n",
              "paint_color_white                   0\n",
              "dtype: int64"
            ]
          },
          "metadata": {
            "tags": []
          },
          "execution_count": 112
        }
      ]
    },
    {
      "cell_type": "code",
      "metadata": {
        "colab": {
          "base_uri": "https://localhost:8080/"
        },
        "id": "Hd3jM59SvKjJ",
        "outputId": "4e184444-f066-467a-a495-59bc4528411a"
      },
      "source": [
        "X['age'].mean()"
      ],
      "execution_count": 113,
      "outputs": [
        {
          "output_type": "execute_result",
          "data": {
            "text/plain": [
              "3.475624773246595e-15"
            ]
          },
          "metadata": {
            "tags": []
          },
          "execution_count": 113
        }
      ]
    },
    {
      "cell_type": "code",
      "metadata": {
        "id": "-c2ccaB3vUY1"
      },
      "source": [
        "X.fillna(0.0,inplace=True)"
      ],
      "execution_count": 114,
      "outputs": []
    },
    {
      "cell_type": "code",
      "metadata": {
        "colab": {
          "base_uri": "https://localhost:8080/"
        },
        "id": "Z3p0MkRzwgVj",
        "outputId": "90494543-3ccb-4348-f2bb-66e004a5ca33"
      },
      "source": [
        "X.isna().sum()"
      ],
      "execution_count": 117,
      "outputs": [
        {
          "output_type": "execute_result",
          "data": {
            "text/plain": [
              "odometer                          0\n",
              "age                               0\n",
              "region_columbus                   0\n",
              "region_eugene                     0\n",
              "region_fresno / madera            0\n",
              "region_jacksonville               0\n",
              "region_others                     0\n",
              "region_spokane / coeur d'alene    0\n",
              "manufacturer_bmw                  0\n",
              "manufacturer_chevrolet            0\n",
              "manufacturer_ford                 0\n",
              "manufacturer_gmc                  0\n",
              "manufacturer_honda                0\n",
              "manufacturer_jeep                 0\n",
              "manufacturer_nissan               0\n",
              "manufacturer_others               0\n",
              "manufacturer_ram                  0\n",
              "manufacturer_toyota               0\n",
              "model_1500                        0\n",
              "model_accord                      0\n",
              "model_altima                      0\n",
              "model_camry                       0\n",
              "model_civic                       0\n",
              "model_f-150                       0\n",
              "model_others                      0\n",
              "model_silverado                   0\n",
              "model_silverado 1500              0\n",
              "model_wrangler                    0\n",
              "condition_excellent               0\n",
              "condition_good                    0\n",
              "condition_others                  0\n",
              "cylinders_4 cylinders             0\n",
              "cylinders_6 cylinders             0\n",
              "cylinders_8 cylinders             0\n",
              "cylinders_others                  0\n",
              "fuel_gas                          0\n",
              "fuel_other                        0\n",
              "fuel_others                       0\n",
              "transmission_automatic            0\n",
              "transmission_manual               0\n",
              "transmission_other                0\n",
              "drive_4wd                         0\n",
              "drive_fwd                         0\n",
              "drive_others                      0\n",
              "size_full-size                    0\n",
              "size_others                       0\n",
              "type_SUV                          0\n",
              "type_coupe                        0\n",
              "type_hatchback                    0\n",
              "type_others                       0\n",
              "type_pickup                       0\n",
              "type_sedan                        0\n",
              "type_truck                        0\n",
              "paint_color_black                 0\n",
              "paint_color_blue                  0\n",
              "paint_color_grey                  0\n",
              "paint_color_others                0\n",
              "paint_color_red                   0\n",
              "paint_color_silver                0\n",
              "paint_color_white                 0\n",
              "dtype: int64"
            ]
          },
          "metadata": {
            "tags": []
          },
          "execution_count": 117
        }
      ]
    },
    {
      "cell_type": "markdown",
      "metadata": {
        "id": "x93Tb6lptcA2"
      },
      "source": [
        "### 문제 13. 학습데이터와 테스트데이터 분리하기\n"
      ]
    },
    {
      "cell_type": "code",
      "metadata": {
        "id": "C9kMQI8SEche"
      },
      "source": [
        "from sklearn.model_selection import train_test_split"
      ],
      "execution_count": 109,
      "outputs": []
    },
    {
      "cell_type": "code",
      "metadata": {
        "id": "F07QjOFwFNEw"
      },
      "source": [
        "# train_test_split() 함수로 학습 데이터와 테스트 데이터 분리하기\n",
        "X_train, X_test, y_train, y_test = train_test_split(X,y,test_size=0.3,random_state=777)"
      ],
      "execution_count": 118,
      "outputs": []
    },
    {
      "cell_type": "markdown",
      "metadata": {
        "id": "RrWrE8Z4exup"
      },
      "source": [
        "## Step 5. Regression 모델 학습하기"
      ]
    },
    {
      "cell_type": "markdown",
      "metadata": {
        "id": "NypEtNhdfCow"
      },
      "source": [
        "### 문제 14. XGBoost Regression 모델 학습하기"
      ]
    },
    {
      "cell_type": "code",
      "metadata": {
        "id": "ow28ZRL4F7D5"
      },
      "source": [
        "from xgboost import XGBRegressor"
      ],
      "execution_count": 119,
      "outputs": []
    },
    {
      "cell_type": "code",
      "metadata": {
        "id": "LSSNqFUrGM6R",
        "colab": {
          "base_uri": "https://localhost:8080/"
        },
        "outputId": "3fcf0e9a-f287-4f42-ca75-15ada4e87276"
      },
      "source": [
        "# XGBRegressor 모델 생성/학습\n",
        "model_reg = XGBRegressor()\n",
        "model_reg.fit(X_train,y_train)\n"
      ],
      "execution_count": 120,
      "outputs": [
        {
          "output_type": "stream",
          "text": [
            "[12:48:47] WARNING: /workspace/src/objective/regression_obj.cu:152: reg:linear is now deprecated in favor of reg:squarederror.\n"
          ],
          "name": "stdout"
        },
        {
          "output_type": "execute_result",
          "data": {
            "text/plain": [
              "XGBRegressor(base_score=0.5, booster='gbtree', colsample_bylevel=1,\n",
              "             colsample_bynode=1, colsample_bytree=1, gamma=0,\n",
              "             importance_type='gain', learning_rate=0.1, max_delta_step=0,\n",
              "             max_depth=3, min_child_weight=1, missing=None, n_estimators=100,\n",
              "             n_jobs=1, nthread=None, objective='reg:linear', random_state=0,\n",
              "             reg_alpha=0, reg_lambda=1, scale_pos_weight=1, seed=None,\n",
              "             silent=None, subsample=1, verbosity=1)"
            ]
          },
          "metadata": {
            "tags": []
          },
          "execution_count": 120
        }
      ]
    },
    {
      "cell_type": "markdown",
      "metadata": {
        "id": "gUo8NmHkfIpf"
      },
      "source": [
        "### 문제 15. 모델 학습 결과 평가하기"
      ]
    },
    {
      "cell_type": "code",
      "metadata": {
        "id": "rxvf1vgmfLs-"
      },
      "source": [
        "from sklearn.metrics import mean_absolute_error, mean_squared_error\n",
        "from math import sqrt"
      ],
      "execution_count": 121,
      "outputs": []
    },
    {
      "cell_type": "code",
      "metadata": {
        "id": "KDVy7fFGfUP1",
        "colab": {
          "base_uri": "https://localhost:8080/"
        },
        "outputId": "bbbcf95d-9eb5-43f5-994a-326e4c9a0c95"
      },
      "source": [
        "# Predict를 수행하고 mean_absolute_error, rmse 결과 출력하기\n",
        "pred = model_reg.predict(X_test)\n",
        "print(mean_absolute_error(y_test,pred))\n",
        "print(sqrt(mean_squared_error(y_test,pred))) # RMSE"
      ],
      "execution_count": 122,
      "outputs": [
        {
          "output_type": "stream",
          "text": [
            "4482.530627495884\n",
            "6637.464662089658\n"
          ],
          "name": "stdout"
        }
      ]
    },
    {
      "cell_type": "markdown",
      "metadata": {
        "id": "DTqb-HqPtc4I"
      },
      "source": [
        "## Step 6. 모델 학습 결과 심화 분석하기\n"
      ]
    },
    {
      "cell_type": "markdown",
      "metadata": {
        "id": "xTRTOLTNto3h"
      },
      "source": [
        "### 문제 16. 실제 값과 추측 값의 Scatter plot 시각화하기\n"
      ]
    },
    {
      "cell_type": "code",
      "metadata": {
        "id": "kKEP06-OmrBs",
        "colab": {
          "base_uri": "https://localhost:8080/",
          "height": 283
        },
        "outputId": "b9d170f7-a85f-4063-f95f-fb92442ddfcc"
      },
      "source": [
        "# y_test vs. pred Scatter 플랏으로 시각적으로 분석하기\n",
        "# Hint) Scatter로 시각적 확인이 어려울 경우, histplot 등 활용\n",
        "plt.plot([0,60000],[0,60000],'r-')\n",
        "plt.scatter(x=y_test,y=pred,alpha=0.005)"
      ],
      "execution_count": 132,
      "outputs": [
        {
          "output_type": "execute_result",
          "data": {
            "text/plain": [
              "<matplotlib.collections.PathCollection at 0x7f588c7f75d0>"
            ]
          },
          "metadata": {
            "tags": []
          },
          "execution_count": 132
        },
        {
          "output_type": "display_data",
          "data": {
            "image/png": "[encoded data removed]",
            "text/plain": [
              "<Figure size 432x288 with 1 Axes>"
            ]
          },
          "metadata": {
            "tags": [],
            "needs_background": "light"
          }
        }
      ]
    },
    {
      "cell_type": "markdown",
      "metadata": {
        "id": "kAisZoSEtp35"
      },
      "source": [
        "### 문제 17. 에러 값의 히스토그램 확인하기\n"
      ]
    },
    {
      "cell_type": "code",
      "metadata": {
        "id": "WLnyYNJwGRgd",
        "colab": {
          "base_uri": "https://localhost:8080/",
          "height": 283
        },
        "outputId": "23dde5ad-835a-40b1-fb84-29b78a28f341"
      },
      "source": [
        "# err의 히스토그램으로 에러율 히스토그램 확인하기\n",
        "err = (pred - y_test) / y_test * 100\n",
        "sns.histplot(err)\n",
        "plt.xlabel('error(%)')\n",
        "plt.xlim(-100,100)\n",
        "plt.grid()\n",
        "plt.show()\n",
        "\n",
        "\n"
      ],
      "execution_count": 143,
      "outputs": [
        {
          "output_type": "display_data",
          "data": {
            "image/png": "[encoded data removed]",
            "text/plain": [
              "<Figure size 432x288 with 1 Axes>"
            ]
          },
          "metadata": {
            "tags": [],
            "needs_background": "light"
          }
        }
      ]
    },
    {
      "cell_type": "code",
      "metadata": {
        "id": "6Xg6uZPZ4lMd"
      },
      "source": [
        ""
      ],
      "execution_count": null,
      "outputs": []
    }
  ]
}